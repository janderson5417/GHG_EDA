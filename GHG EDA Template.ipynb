{
 "cells": [
  {
   "cell_type": "markdown",
   "id": "2332b2b9",
   "metadata": {},
   "source": [
    "### Developing a best-practice approach for importing, analyzing, cleaning & visualizing"
   ]
  },
  {
   "cell_type": "markdown",
   "id": "9d878321",
   "metadata": {},
   "source": [
    "#### Loading libraries"
   ]
  },
  {
   "cell_type": "code",
   "execution_count": 2,
   "id": "9f736936",
   "metadata": {},
   "outputs": [],
   "source": [
    "from sqlalchemy import create_engine"
   ]
  },
  {
   "cell_type": "code",
   "execution_count": 17,
   "id": "f7de333c",
   "metadata": {},
   "outputs": [],
   "source": [
    "import pandas as pd\n",
    "import geopandas as gpd\n",
    "from geopandas import GeoDataFrame\n",
    "import shapefile as shp\n",
    "\n",
    "%matplotlib inline\n",
    "import matplotlib.pyplot as plt\n",
    "import seaborn as sns\n",
    "import plotly.express as px\n",
    "import plotly.graph_objects as go"
   ]
  },
  {
   "cell_type": "markdown",
   "id": "3be8e1f1",
   "metadata": {},
   "source": [
    "#### Importing"
   ]
  },
  {
   "cell_type": "code",
   "execution_count": 6,
   "id": "9314e162",
   "metadata": {},
   "outputs": [
    {
     "data": {
      "text/html": [
       "<div>\n",
       "<style scoped>\n",
       "    .dataframe tbody tr th:only-of-type {\n",
       "        vertical-align: middle;\n",
       "    }\n",
       "\n",
       "    .dataframe tbody tr th {\n",
       "        vertical-align: top;\n",
       "    }\n",
       "\n",
       "    .dataframe thead th {\n",
       "        text-align: right;\n",
       "    }\n",
       "</style>\n",
       "<table border=\"1\" class=\"dataframe\">\n",
       "  <thead>\n",
       "    <tr style=\"text-align: right;\">\n",
       "      <th></th>\n",
       "      <th>Year</th>\n",
       "      <th>ARBID</th>\n",
       "      <th>FACID</th>\n",
       "      <th>Facility</th>\n",
       "      <th>Primary Sector</th>\n",
       "      <th>NAICS Code</th>\n",
       "      <th>NAICS Description</th>\n",
       "      <th>Address</th>\n",
       "      <th>City</th>\n",
       "      <th>State</th>\n",
       "      <th>...</th>\n",
       "      <th>PM10</th>\n",
       "      <th>PM2.5</th>\n",
       "      <th>Benzene</th>\n",
       "      <th>13-Butadiene</th>\n",
       "      <th>Chromium Hexavalent</th>\n",
       "      <th>Diesel PM</th>\n",
       "      <th>Formaldehyde</th>\n",
       "      <th>Hydrochloric Acid</th>\n",
       "      <th>Hydrogen Sulfide</th>\n",
       "      <th>Nickel</th>\n",
       "    </tr>\n",
       "  </thead>\n",
       "  <tbody>\n",
       "    <tr>\n",
       "      <th>0</th>\n",
       "      <td>2010</td>\n",
       "      <td>100001</td>\n",
       "      <td>50001051.0</td>\n",
       "      <td>ACE Cogeneration</td>\n",
       "      <td>Cogeneration</td>\n",
       "      <td>221112</td>\n",
       "      <td>Fossil Fuel Electric Power Generation</td>\n",
       "      <td>12801 Mariposa Street, Trona, CA 93562</td>\n",
       "      <td>Trona</td>\n",
       "      <td>California</td>\n",
       "      <td>...</td>\n",
       "      <td>46.5</td>\n",
       "      <td>26.1</td>\n",
       "      <td>26.40</td>\n",
       "      <td>3.74</td>\n",
       "      <td>0.81</td>\n",
       "      <td>346.0</td>\n",
       "      <td>320.0</td>\n",
       "      <td>272430.0</td>\n",
       "      <td>NaN</td>\n",
       "      <td>14.8</td>\n",
       "    </tr>\n",
       "    <tr>\n",
       "      <th>1</th>\n",
       "      <td>2010</td>\n",
       "      <td>100002</td>\n",
       "      <td>131249.0</td>\n",
       "      <td>Tesoro Los Angeles Refinery - Wilmington Calciner</td>\n",
       "      <td>Other Combustion Source</td>\n",
       "      <td>324199</td>\n",
       "      <td>All Other Petroleum and Coal Products Manufact...</td>\n",
       "      <td>1175 Carrack Avenue, Wilmington, CA 90744</td>\n",
       "      <td>Wilmington</td>\n",
       "      <td>California</td>\n",
       "      <td>...</td>\n",
       "      <td>20.1</td>\n",
       "      <td>11.3</td>\n",
       "      <td>0.03</td>\n",
       "      <td>0.00</td>\n",
       "      <td>0.32</td>\n",
       "      <td>NaN</td>\n",
       "      <td>185.0</td>\n",
       "      <td>NaN</td>\n",
       "      <td>NaN</td>\n",
       "      <td>32.4</td>\n",
       "    </tr>\n",
       "  </tbody>\n",
       "</table>\n",
       "<p>2 rows × 38 columns</p>\n",
       "</div>"
      ],
      "text/plain": [
       "   Year   ARBID       FACID  \\\n",
       "0  2010  100001  50001051.0   \n",
       "1  2010  100002    131249.0   \n",
       "\n",
       "                                            Facility           Primary Sector  \\\n",
       "0                                   ACE Cogeneration             Cogeneration   \n",
       "1  Tesoro Los Angeles Refinery - Wilmington Calciner  Other Combustion Source   \n",
       "\n",
       "   NAICS Code                                  NAICS Description  \\\n",
       "0      221112              Fossil Fuel Electric Power Generation   \n",
       "1      324199  All Other Petroleum and Coal Products Manufact...   \n",
       "\n",
       "                                     Address        City       State  ...  \\\n",
       "0     12801 Mariposa Street, Trona, CA 93562       Trona  California  ...   \n",
       "1  1175 Carrack Avenue, Wilmington, CA 90744  Wilmington  California  ...   \n",
       "\n",
       "   PM10  PM2.5  Benzene 13-Butadiene Chromium Hexavalent Diesel PM  \\\n",
       "0  46.5   26.1    26.40         3.74                0.81     346.0   \n",
       "1  20.1   11.3     0.03         0.00                0.32       NaN   \n",
       "\n",
       "  Formaldehyde Hydrochloric Acid  Hydrogen Sulfide  Nickel  \n",
       "0        320.0          272430.0               NaN    14.8  \n",
       "1        185.0               NaN               NaN    32.4  \n",
       "\n",
       "[2 rows x 38 columns]"
      ]
     },
     "execution_count": 6,
     "metadata": {},
     "output_type": "execute_result"
    }
   ],
   "source": [
    "ghg=pd.read_csv('data/caemissions.csv')\n",
    "df=ghg.copy()\n",
    "df.head(2)"
   ]
  },
  {
   "cell_type": "markdown",
   "id": "9315b21d",
   "metadata": {},
   "source": [
    "### Fundamentals"
   ]
  },
  {
   "cell_type": "code",
   "execution_count": 9,
   "id": "4ecc00b1",
   "metadata": {},
   "outputs": [],
   "source": [
    "# df.info()"
   ]
  },
  {
   "cell_type": "code",
   "execution_count": 8,
   "id": "3a77624e",
   "metadata": {},
   "outputs": [
    {
     "data": {
      "text/plain": [
       "(5799, 38)"
      ]
     },
     "execution_count": 8,
     "metadata": {},
     "output_type": "execute_result"
    }
   ],
   "source": [
    "df.shape"
   ]
  },
  {
   "cell_type": "code",
   "execution_count": 10,
   "id": "f5865387",
   "metadata": {},
   "outputs": [
    {
     "data": {
      "text/plain": [
       "True"
      ]
     },
     "execution_count": 10,
     "metadata": {},
     "output_type": "execute_result"
    }
   ],
   "source": [
    "df.isnull().values.any()"
   ]
  },
  {
   "cell_type": "code",
   "execution_count": 11,
   "id": "1ba2b1f4",
   "metadata": {},
   "outputs": [
    {
     "data": {
      "text/plain": [
       "Year                      0\n",
       "ARBID                     0\n",
       "FACID                   361\n",
       "Facility                  0\n",
       "Primary Sector            0\n",
       "NAICS Code                0\n",
       "NAICS Description         0\n",
       "Address                   0\n",
       "City                      0\n",
       "State                     0\n",
       "Zip Code                  0\n",
       "Latitude                  0\n",
       "Longitude                 0\n",
       "Tract                     0\n",
       "County                    0\n",
       "District                  0\n",
       "Basin                     0\n",
       "Cap-and-Trade             0\n",
       "Total GHG                 0\n",
       "Non-Biomass GHG           0\n",
       "Biomass CO2               0\n",
       "CO2                       0\n",
       "CH4                       0\n",
       "N2O                       0\n",
       "Covered GHG               0\n",
       "VOC                       0\n",
       "NOx                       0\n",
       "SOx                       0\n",
       "PM10                      0\n",
       "PM2.5                     0\n",
       "Benzene                1736\n",
       "13-Butadiene           3754\n",
       "Chromium Hexavalent    3733\n",
       "Diesel PM              4125\n",
       "Formaldehyde           1946\n",
       "Hydrochloric Acid      4823\n",
       "Hydrogen Sulfide       5375\n",
       "Nickel                 3439\n",
       "dtype: int64"
      ]
     },
     "execution_count": 11,
     "metadata": {},
     "output_type": "execute_result"
    }
   ],
   "source": [
    "df.isnull().sum()"
   ]
  },
  {
   "cell_type": "code",
   "execution_count": 13,
   "id": "e1cf4b85",
   "metadata": {},
   "outputs": [
    {
     "data": {
      "text/plain": [
       "array(['Cogeneration', 'Other Combustion Source',\n",
       "       'Electricity Generation', 'Cement Plant', 'Hydrogen Plant',\n",
       "       'Refinery', 'Oil and Gas Production', 'Other Combustion Source '],\n",
       "      dtype=object)"
      ]
     },
     "execution_count": 13,
     "metadata": {},
     "output_type": "execute_result"
    }
   ],
   "source": [
    "df[\"Primary Sector\"].unique()"
   ]
  },
  {
   "cell_type": "code",
   "execution_count": 14,
   "id": "76bcc24c",
   "metadata": {},
   "outputs": [
    {
     "data": {
      "text/html": [
       "<div>\n",
       "<style scoped>\n",
       "    .dataframe tbody tr th:only-of-type {\n",
       "        vertical-align: middle;\n",
       "    }\n",
       "\n",
       "    .dataframe tbody tr th {\n",
       "        vertical-align: top;\n",
       "    }\n",
       "\n",
       "    .dataframe thead th {\n",
       "        text-align: right;\n",
       "    }\n",
       "</style>\n",
       "<table border=\"1\" class=\"dataframe\">\n",
       "  <thead>\n",
       "    <tr style=\"text-align: right;\">\n",
       "      <th></th>\n",
       "      <th>Year</th>\n",
       "      <th>ARBID</th>\n",
       "      <th>FACID</th>\n",
       "      <th>Facility</th>\n",
       "      <th>Primary Sector</th>\n",
       "      <th>NAICS Code</th>\n",
       "      <th>NAICS Description</th>\n",
       "      <th>Address</th>\n",
       "      <th>City</th>\n",
       "      <th>State</th>\n",
       "      <th>...</th>\n",
       "      <th>PM10</th>\n",
       "      <th>PM2.5</th>\n",
       "      <th>Benzene</th>\n",
       "      <th>13-Butadiene</th>\n",
       "      <th>Chromium Hexavalent</th>\n",
       "      <th>Diesel PM</th>\n",
       "      <th>Formaldehyde</th>\n",
       "      <th>Hydrochloric Acid</th>\n",
       "      <th>Hydrogen Sulfide</th>\n",
       "      <th>Nickel</th>\n",
       "    </tr>\n",
       "  </thead>\n",
       "  <tbody>\n",
       "  </tbody>\n",
       "</table>\n",
       "<p>0 rows × 38 columns</p>\n",
       "</div>"
      ],
      "text/plain": [
       "Empty DataFrame\n",
       "Columns: [Year, ARBID, FACID, Facility, Primary Sector, NAICS Code, NAICS Description, Address, City, State, Zip Code, Latitude, Longitude, Tract, County, District, Basin, Cap-and-Trade, Total GHG, Non-Biomass GHG, Biomass CO2, CO2, CH4, N2O, Covered GHG, VOC, NOx, SOx, PM10, PM2.5, Benzene, 13-Butadiene, Chromium Hexavalent, Diesel PM, Formaldehyde, Hydrochloric Acid, Hydrogen Sulfide, Nickel]\n",
       "Index: []\n",
       "\n",
       "[0 rows x 38 columns]"
      ]
     },
     "execution_count": 14,
     "metadata": {},
     "output_type": "execute_result"
    }
   ],
   "source": [
    "df[df.duplicated() == True]"
   ]
  },
  {
   "cell_type": "code",
   "execution_count": 19,
   "id": "87f160db",
   "metadata": {},
   "outputs": [
    {
     "name": "stdout",
     "output_type": "stream",
     "text": [
      "<class 'pandas.core.frame.DataFrame'>\n",
      "RangeIndex: 5799 entries, 0 to 5798\n",
      "Data columns (total 38 columns):\n",
      " #   Column               Non-Null Count  Dtype  \n",
      "---  ------               --------------  -----  \n",
      " 0   Year                 5799 non-null   int64  \n",
      " 1   ARBID                5799 non-null   int64  \n",
      " 2   FACID                5438 non-null   float64\n",
      " 3   Facility             5799 non-null   object \n",
      " 4   Primary Sector       5799 non-null   object \n",
      " 5   NAICS Code           5799 non-null   int64  \n",
      " 6   NAICS Description    5799 non-null   object \n",
      " 7   Address              5799 non-null   object \n",
      " 8   City                 5799 non-null   object \n",
      " 9   State                5799 non-null   object \n",
      " 10  Zip Code             5799 non-null   int64  \n",
      " 11  Latitude             5799 non-null   float64\n",
      " 12  Longitude            5799 non-null   float64\n",
      " 13  Tract                5799 non-null   object \n",
      " 14  County               5799 non-null   object \n",
      " 15  District             5799 non-null   object \n",
      " 16  Basin                5799 non-null   object \n",
      " 17  Cap-and-Trade        5799 non-null   object \n",
      " 18  Total GHG            5799 non-null   float64\n",
      " 19  Non-Biomass GHG      5799 non-null   float64\n",
      " 20  Biomass CO2          5799 non-null   float64\n",
      " 21  CO2                  5799 non-null   float64\n",
      " 22  CH4                  5799 non-null   float64\n",
      " 23  N2O                  5799 non-null   float64\n",
      " 24  Covered GHG          5799 non-null   float64\n",
      " 25  VOC                  5799 non-null   float64\n",
      " 26  NOx                  5799 non-null   float64\n",
      " 27  SOx                  5799 non-null   float64\n",
      " 28  PM10                 5799 non-null   float64\n",
      " 29  PM2.5                5799 non-null   float64\n",
      " 30  Benzene              4063 non-null   float64\n",
      " 31  13-Butadiene         2045 non-null   float64\n",
      " 32  Chromium Hexavalent  2066 non-null   float64\n",
      " 33  Diesel PM            1674 non-null   float64\n",
      " 34  Formaldehyde         3853 non-null   float64\n",
      " 35  Hydrochloric Acid    976 non-null    float64\n",
      " 36  Hydrogen Sulfide     424 non-null    float64\n",
      " 37  Nickel               2360 non-null   float64\n",
      "dtypes: float64(23), int64(4), object(11)\n",
      "memory usage: 1.7+ MB\n"
     ]
    }
   ],
   "source": [
    "df=df.rename(columns={\"Total GHG \":\"GHG_MT\"})\n",
    "df.info()"
   ]
  },
  {
   "cell_type": "code",
   "execution_count": null,
   "id": "84ed22ed",
   "metadata": {},
   "outputs": [],
   "source": [
    "df.drop(['Code'],inplace=True,axis=1)\n",
    "df.head(2)"
   ]
  },
  {
   "cell_type": "markdown",
   "id": "15f7c8c7",
   "metadata": {},
   "source": [
    "### Visualize"
   ]
  },
  {
   "cell_type": "code",
   "execution_count": 21,
   "id": "66eb0712",
   "metadata": {},
   "outputs": [
    {
     "data": {
      "text/html": [
       "<div>\n",
       "<style scoped>\n",
       "    .dataframe tbody tr th:only-of-type {\n",
       "        vertical-align: middle;\n",
       "    }\n",
       "\n",
       "    .dataframe tbody tr th {\n",
       "        vertical-align: top;\n",
       "    }\n",
       "\n",
       "    .dataframe thead th {\n",
       "        text-align: right;\n",
       "    }\n",
       "</style>\n",
       "<table border=\"1\" class=\"dataframe\">\n",
       "  <thead>\n",
       "    <tr style=\"text-align: right;\">\n",
       "      <th></th>\n",
       "      <th>Year</th>\n",
       "      <th>Total GHG</th>\n",
       "    </tr>\n",
       "  </thead>\n",
       "  <tbody>\n",
       "    <tr>\n",
       "      <th>0</th>\n",
       "      <td>2010</td>\n",
       "      <td>116569418.0</td>\n",
       "    </tr>\n",
       "    <tr>\n",
       "      <th>1</th>\n",
       "      <td>2011</td>\n",
       "      <td>110821566.0</td>\n",
       "    </tr>\n",
       "    <tr>\n",
       "      <th>2</th>\n",
       "      <td>2012</td>\n",
       "      <td>124204472.0</td>\n",
       "    </tr>\n",
       "    <tr>\n",
       "      <th>3</th>\n",
       "      <td>2013</td>\n",
       "      <td>124179601.0</td>\n",
       "    </tr>\n",
       "    <tr>\n",
       "      <th>4</th>\n",
       "      <td>2014</td>\n",
       "      <td>126695197.0</td>\n",
       "    </tr>\n",
       "    <tr>\n",
       "      <th>5</th>\n",
       "      <td>2015</td>\n",
       "      <td>125172227.0</td>\n",
       "    </tr>\n",
       "    <tr>\n",
       "      <th>6</th>\n",
       "      <td>2016</td>\n",
       "      <td>113988031.0</td>\n",
       "    </tr>\n",
       "    <tr>\n",
       "      <th>7</th>\n",
       "      <td>2017</td>\n",
       "      <td>109621367.0</td>\n",
       "    </tr>\n",
       "    <tr>\n",
       "      <th>8</th>\n",
       "      <td>2018</td>\n",
       "      <td>110372154.0</td>\n",
       "    </tr>\n",
       "    <tr>\n",
       "      <th>9</th>\n",
       "      <td>2019</td>\n",
       "      <td>106457646.0</td>\n",
       "    </tr>\n",
       "  </tbody>\n",
       "</table>\n",
       "</div>"
      ],
      "text/plain": [
       "   Year    Total GHG\n",
       "0  2010  116569418.0\n",
       "1  2011  110821566.0\n",
       "2  2012  124204472.0\n",
       "3  2013  124179601.0\n",
       "4  2014  126695197.0\n",
       "5  2015  125172227.0\n",
       "6  2016  113988031.0\n",
       "7  2017  109621367.0\n",
       "8  2018  110372154.0\n",
       "9  2019  106457646.0"
      ]
     },
     "execution_count": 21,
     "metadata": {},
     "output_type": "execute_result"
    }
   ],
   "source": [
    "year = df.groupby('Year')['Total GHG'].sum().reset_index()\n",
    "year"
   ]
  },
  {
   "cell_type": "code",
   "execution_count": 22,
   "id": "bc6587f6",
   "metadata": {},
   "outputs": [
    {
     "data": {
      "application/vnd.plotly.v1+json": {
       "config": {
        "plotlyServerURL": "https://plot.ly"
       },
       "data": [
        {
         "mode": "lines",
         "type": "scatter",
         "x": [
          2010,
          2011,
          2012,
          2013,
          2014,
          2015,
          2016,
          2017,
          2018,
          2019
         ],
         "y": [
          116569418,
          110821566,
          124204472,
          124179601,
          126695197,
          125172227,
          113988031,
          109621367,
          110372154,
          106457646
         ]
        }
       ],
       "layout": {
        "template": {
         "data": {
          "bar": [
           {
            "error_x": {
             "color": "#2a3f5f"
            },
            "error_y": {
             "color": "#2a3f5f"
            },
            "marker": {
             "line": {
              "color": "#E5ECF6",
              "width": 0.5
             },
             "pattern": {
              "fillmode": "overlay",
              "size": 10,
              "solidity": 0.2
             }
            },
            "type": "bar"
           }
          ],
          "barpolar": [
           {
            "marker": {
             "line": {
              "color": "#E5ECF6",
              "width": 0.5
             },
             "pattern": {
              "fillmode": "overlay",
              "size": 10,
              "solidity": 0.2
             }
            },
            "type": "barpolar"
           }
          ],
          "carpet": [
           {
            "aaxis": {
             "endlinecolor": "#2a3f5f",
             "gridcolor": "white",
             "linecolor": "white",
             "minorgridcolor": "white",
             "startlinecolor": "#2a3f5f"
            },
            "baxis": {
             "endlinecolor": "#2a3f5f",
             "gridcolor": "white",
             "linecolor": "white",
             "minorgridcolor": "white",
             "startlinecolor": "#2a3f5f"
            },
            "type": "carpet"
           }
          ],
          "choropleth": [
           {
            "colorbar": {
             "outlinewidth": 0,
             "ticks": ""
            },
            "type": "choropleth"
           }
          ],
          "contour": [
           {
            "colorbar": {
             "outlinewidth": 0,
             "ticks": ""
            },
            "colorscale": [
             [
              0,
              "#0d0887"
             ],
             [
              0.1111111111111111,
              "#46039f"
             ],
             [
              0.2222222222222222,
              "#7201a8"
             ],
             [
              0.3333333333333333,
              "#9c179e"
             ],
             [
              0.4444444444444444,
              "#bd3786"
             ],
             [
              0.5555555555555556,
              "#d8576b"
             ],
             [
              0.6666666666666666,
              "#ed7953"
             ],
             [
              0.7777777777777778,
              "#fb9f3a"
             ],
             [
              0.8888888888888888,
              "#fdca26"
             ],
             [
              1,
              "#f0f921"
             ]
            ],
            "type": "contour"
           }
          ],
          "contourcarpet": [
           {
            "colorbar": {
             "outlinewidth": 0,
             "ticks": ""
            },
            "type": "contourcarpet"
           }
          ],
          "heatmap": [
           {
            "colorbar": {
             "outlinewidth": 0,
             "ticks": ""
            },
            "colorscale": [
             [
              0,
              "#0d0887"
             ],
             [
              0.1111111111111111,
              "#46039f"
             ],
             [
              0.2222222222222222,
              "#7201a8"
             ],
             [
              0.3333333333333333,
              "#9c179e"
             ],
             [
              0.4444444444444444,
              "#bd3786"
             ],
             [
              0.5555555555555556,
              "#d8576b"
             ],
             [
              0.6666666666666666,
              "#ed7953"
             ],
             [
              0.7777777777777778,
              "#fb9f3a"
             ],
             [
              0.8888888888888888,
              "#fdca26"
             ],
             [
              1,
              "#f0f921"
             ]
            ],
            "type": "heatmap"
           }
          ],
          "heatmapgl": [
           {
            "colorbar": {
             "outlinewidth": 0,
             "ticks": ""
            },
            "colorscale": [
             [
              0,
              "#0d0887"
             ],
             [
              0.1111111111111111,
              "#46039f"
             ],
             [
              0.2222222222222222,
              "#7201a8"
             ],
             [
              0.3333333333333333,
              "#9c179e"
             ],
             [
              0.4444444444444444,
              "#bd3786"
             ],
             [
              0.5555555555555556,
              "#d8576b"
             ],
             [
              0.6666666666666666,
              "#ed7953"
             ],
             [
              0.7777777777777778,
              "#fb9f3a"
             ],
             [
              0.8888888888888888,
              "#fdca26"
             ],
             [
              1,
              "#f0f921"
             ]
            ],
            "type": "heatmapgl"
           }
          ],
          "histogram": [
           {
            "marker": {
             "pattern": {
              "fillmode": "overlay",
              "size": 10,
              "solidity": 0.2
             }
            },
            "type": "histogram"
           }
          ],
          "histogram2d": [
           {
            "colorbar": {
             "outlinewidth": 0,
             "ticks": ""
            },
            "colorscale": [
             [
              0,
              "#0d0887"
             ],
             [
              0.1111111111111111,
              "#46039f"
             ],
             [
              0.2222222222222222,
              "#7201a8"
             ],
             [
              0.3333333333333333,
              "#9c179e"
             ],
             [
              0.4444444444444444,
              "#bd3786"
             ],
             [
              0.5555555555555556,
              "#d8576b"
             ],
             [
              0.6666666666666666,
              "#ed7953"
             ],
             [
              0.7777777777777778,
              "#fb9f3a"
             ],
             [
              0.8888888888888888,
              "#fdca26"
             ],
             [
              1,
              "#f0f921"
             ]
            ],
            "type": "histogram2d"
           }
          ],
          "histogram2dcontour": [
           {
            "colorbar": {
             "outlinewidth": 0,
             "ticks": ""
            },
            "colorscale": [
             [
              0,
              "#0d0887"
             ],
             [
              0.1111111111111111,
              "#46039f"
             ],
             [
              0.2222222222222222,
              "#7201a8"
             ],
             [
              0.3333333333333333,
              "#9c179e"
             ],
             [
              0.4444444444444444,
              "#bd3786"
             ],
             [
              0.5555555555555556,
              "#d8576b"
             ],
             [
              0.6666666666666666,
              "#ed7953"
             ],
             [
              0.7777777777777778,
              "#fb9f3a"
             ],
             [
              0.8888888888888888,
              "#fdca26"
             ],
             [
              1,
              "#f0f921"
             ]
            ],
            "type": "histogram2dcontour"
           }
          ],
          "mesh3d": [
           {
            "colorbar": {
             "outlinewidth": 0,
             "ticks": ""
            },
            "type": "mesh3d"
           }
          ],
          "parcoords": [
           {
            "line": {
             "colorbar": {
              "outlinewidth": 0,
              "ticks": ""
             }
            },
            "type": "parcoords"
           }
          ],
          "pie": [
           {
            "automargin": true,
            "type": "pie"
           }
          ],
          "scatter": [
           {
            "marker": {
             "colorbar": {
              "outlinewidth": 0,
              "ticks": ""
             }
            },
            "type": "scatter"
           }
          ],
          "scatter3d": [
           {
            "line": {
             "colorbar": {
              "outlinewidth": 0,
              "ticks": ""
             }
            },
            "marker": {
             "colorbar": {
              "outlinewidth": 0,
              "ticks": ""
             }
            },
            "type": "scatter3d"
           }
          ],
          "scattercarpet": [
           {
            "marker": {
             "colorbar": {
              "outlinewidth": 0,
              "ticks": ""
             }
            },
            "type": "scattercarpet"
           }
          ],
          "scattergeo": [
           {
            "marker": {
             "colorbar": {
              "outlinewidth": 0,
              "ticks": ""
             }
            },
            "type": "scattergeo"
           }
          ],
          "scattergl": [
           {
            "marker": {
             "colorbar": {
              "outlinewidth": 0,
              "ticks": ""
             }
            },
            "type": "scattergl"
           }
          ],
          "scattermapbox": [
           {
            "marker": {
             "colorbar": {
              "outlinewidth": 0,
              "ticks": ""
             }
            },
            "type": "scattermapbox"
           }
          ],
          "scatterpolar": [
           {
            "marker": {
             "colorbar": {
              "outlinewidth": 0,
              "ticks": ""
             }
            },
            "type": "scatterpolar"
           }
          ],
          "scatterpolargl": [
           {
            "marker": {
             "colorbar": {
              "outlinewidth": 0,
              "ticks": ""
             }
            },
            "type": "scatterpolargl"
           }
          ],
          "scatterternary": [
           {
            "marker": {
             "colorbar": {
              "outlinewidth": 0,
              "ticks": ""
             }
            },
            "type": "scatterternary"
           }
          ],
          "surface": [
           {
            "colorbar": {
             "outlinewidth": 0,
             "ticks": ""
            },
            "colorscale": [
             [
              0,
              "#0d0887"
             ],
             [
              0.1111111111111111,
              "#46039f"
             ],
             [
              0.2222222222222222,
              "#7201a8"
             ],
             [
              0.3333333333333333,
              "#9c179e"
             ],
             [
              0.4444444444444444,
              "#bd3786"
             ],
             [
              0.5555555555555556,
              "#d8576b"
             ],
             [
              0.6666666666666666,
              "#ed7953"
             ],
             [
              0.7777777777777778,
              "#fb9f3a"
             ],
             [
              0.8888888888888888,
              "#fdca26"
             ],
             [
              1,
              "#f0f921"
             ]
            ],
            "type": "surface"
           }
          ],
          "table": [
           {
            "cells": {
             "fill": {
              "color": "#EBF0F8"
             },
             "line": {
              "color": "white"
             }
            },
            "header": {
             "fill": {
              "color": "#C8D4E3"
             },
             "line": {
              "color": "white"
             }
            },
            "type": "table"
           }
          ]
         },
         "layout": {
          "annotationdefaults": {
           "arrowcolor": "#2a3f5f",
           "arrowhead": 0,
           "arrowwidth": 1
          },
          "autotypenumbers": "strict",
          "coloraxis": {
           "colorbar": {
            "outlinewidth": 0,
            "ticks": ""
           }
          },
          "colorscale": {
           "diverging": [
            [
             0,
             "#8e0152"
            ],
            [
             0.1,
             "#c51b7d"
            ],
            [
             0.2,
             "#de77ae"
            ],
            [
             0.3,
             "#f1b6da"
            ],
            [
             0.4,
             "#fde0ef"
            ],
            [
             0.5,
             "#f7f7f7"
            ],
            [
             0.6,
             "#e6f5d0"
            ],
            [
             0.7,
             "#b8e186"
            ],
            [
             0.8,
             "#7fbc41"
            ],
            [
             0.9,
             "#4d9221"
            ],
            [
             1,
             "#276419"
            ]
           ],
           "sequential": [
            [
             0,
             "#0d0887"
            ],
            [
             0.1111111111111111,
             "#46039f"
            ],
            [
             0.2222222222222222,
             "#7201a8"
            ],
            [
             0.3333333333333333,
             "#9c179e"
            ],
            [
             0.4444444444444444,
             "#bd3786"
            ],
            [
             0.5555555555555556,
             "#d8576b"
            ],
            [
             0.6666666666666666,
             "#ed7953"
            ],
            [
             0.7777777777777778,
             "#fb9f3a"
            ],
            [
             0.8888888888888888,
             "#fdca26"
            ],
            [
             1,
             "#f0f921"
            ]
           ],
           "sequentialminus": [
            [
             0,
             "#0d0887"
            ],
            [
             0.1111111111111111,
             "#46039f"
            ],
            [
             0.2222222222222222,
             "#7201a8"
            ],
            [
             0.3333333333333333,
             "#9c179e"
            ],
            [
             0.4444444444444444,
             "#bd3786"
            ],
            [
             0.5555555555555556,
             "#d8576b"
            ],
            [
             0.6666666666666666,
             "#ed7953"
            ],
            [
             0.7777777777777778,
             "#fb9f3a"
            ],
            [
             0.8888888888888888,
             "#fdca26"
            ],
            [
             1,
             "#f0f921"
            ]
           ]
          },
          "colorway": [
           "#636efa",
           "#EF553B",
           "#00cc96",
           "#ab63fa",
           "#FFA15A",
           "#19d3f3",
           "#FF6692",
           "#B6E880",
           "#FF97FF",
           "#FECB52"
          ],
          "font": {
           "color": "#2a3f5f"
          },
          "geo": {
           "bgcolor": "white",
           "lakecolor": "white",
           "landcolor": "#E5ECF6",
           "showlakes": true,
           "showland": true,
           "subunitcolor": "white"
          },
          "hoverlabel": {
           "align": "left"
          },
          "hovermode": "closest",
          "mapbox": {
           "style": "light"
          },
          "paper_bgcolor": "white",
          "plot_bgcolor": "#E5ECF6",
          "polar": {
           "angularaxis": {
            "gridcolor": "white",
            "linecolor": "white",
            "ticks": ""
           },
           "bgcolor": "#E5ECF6",
           "radialaxis": {
            "gridcolor": "white",
            "linecolor": "white",
            "ticks": ""
           }
          },
          "scene": {
           "xaxis": {
            "backgroundcolor": "#E5ECF6",
            "gridcolor": "white",
            "gridwidth": 2,
            "linecolor": "white",
            "showbackground": true,
            "ticks": "",
            "zerolinecolor": "white"
           },
           "yaxis": {
            "backgroundcolor": "#E5ECF6",
            "gridcolor": "white",
            "gridwidth": 2,
            "linecolor": "white",
            "showbackground": true,
            "ticks": "",
            "zerolinecolor": "white"
           },
           "zaxis": {
            "backgroundcolor": "#E5ECF6",
            "gridcolor": "white",
            "gridwidth": 2,
            "linecolor": "white",
            "showbackground": true,
            "ticks": "",
            "zerolinecolor": "white"
           }
          },
          "shapedefaults": {
           "line": {
            "color": "#2a3f5f"
           }
          },
          "ternary": {
           "aaxis": {
            "gridcolor": "white",
            "linecolor": "white",
            "ticks": ""
           },
           "baxis": {
            "gridcolor": "white",
            "linecolor": "white",
            "ticks": ""
           },
           "bgcolor": "#E5ECF6",
           "caxis": {
            "gridcolor": "white",
            "linecolor": "white",
            "ticks": ""
           }
          },
          "title": {
           "x": 0.05
          },
          "xaxis": {
           "automargin": true,
           "gridcolor": "white",
           "linecolor": "white",
           "ticks": "",
           "title": {
            "standoff": 15
           },
           "zerolinecolor": "white",
           "zerolinewidth": 2
          },
          "yaxis": {
           "automargin": true,
           "gridcolor": "white",
           "linecolor": "white",
           "ticks": "",
           "title": {
            "standoff": 15
           },
           "zerolinecolor": "white",
           "zerolinewidth": 2
          }
         }
        },
        "title": {
         "text": "California GHG Emissions",
         "x": 0.5
        },
        "xaxis": {
         "title": {
          "text": "Year"
         }
        },
        "yaxis": {
         "title": {
          "text": "GHG Emissions, MT"
         }
        }
       }
      },
      "text/html": [
       "<div>                            <div id=\"3ffb4796-b62e-4476-b4fe-6fe2e327ed75\" class=\"plotly-graph-div\" style=\"height:525px; width:100%;\"></div>            <script type=\"text/javascript\">                require([\"plotly\"], function(Plotly) {                    window.PLOTLYENV=window.PLOTLYENV || {};                                    if (document.getElementById(\"3ffb4796-b62e-4476-b4fe-6fe2e327ed75\")) {                    Plotly.newPlot(                        \"3ffb4796-b62e-4476-b4fe-6fe2e327ed75\",                        [{\"mode\":\"lines\",\"type\":\"scatter\",\"x\":[2010,2011,2012,2013,2014,2015,2016,2017,2018,2019],\"y\":[116569418.0,110821566.0,124204472.0,124179601.0,126695197.0,125172227.0,113988031.0,109621367.0,110372154.0,106457646.0]}],                        {\"template\":{\"data\":{\"bar\":[{\"error_x\":{\"color\":\"#2a3f5f\"},\"error_y\":{\"color\":\"#2a3f5f\"},\"marker\":{\"line\":{\"color\":\"#E5ECF6\",\"width\":0.5},\"pattern\":{\"fillmode\":\"overlay\",\"size\":10,\"solidity\":0.2}},\"type\":\"bar\"}],\"barpolar\":[{\"marker\":{\"line\":{\"color\":\"#E5ECF6\",\"width\":0.5},\"pattern\":{\"fillmode\":\"overlay\",\"size\":10,\"solidity\":0.2}},\"type\":\"barpolar\"}],\"carpet\":[{\"aaxis\":{\"endlinecolor\":\"#2a3f5f\",\"gridcolor\":\"white\",\"linecolor\":\"white\",\"minorgridcolor\":\"white\",\"startlinecolor\":\"#2a3f5f\"},\"baxis\":{\"endlinecolor\":\"#2a3f5f\",\"gridcolor\":\"white\",\"linecolor\":\"white\",\"minorgridcolor\":\"white\",\"startlinecolor\":\"#2a3f5f\"},\"type\":\"carpet\"}],\"choropleth\":[{\"colorbar\":{\"outlinewidth\":0,\"ticks\":\"\"},\"type\":\"choropleth\"}],\"contour\":[{\"colorbar\":{\"outlinewidth\":0,\"ticks\":\"\"},\"colorscale\":[[0.0,\"#0d0887\"],[0.1111111111111111,\"#46039f\"],[0.2222222222222222,\"#7201a8\"],[0.3333333333333333,\"#9c179e\"],[0.4444444444444444,\"#bd3786\"],[0.5555555555555556,\"#d8576b\"],[0.6666666666666666,\"#ed7953\"],[0.7777777777777778,\"#fb9f3a\"],[0.8888888888888888,\"#fdca26\"],[1.0,\"#f0f921\"]],\"type\":\"contour\"}],\"contourcarpet\":[{\"colorbar\":{\"outlinewidth\":0,\"ticks\":\"\"},\"type\":\"contourcarpet\"}],\"heatmap\":[{\"colorbar\":{\"outlinewidth\":0,\"ticks\":\"\"},\"colorscale\":[[0.0,\"#0d0887\"],[0.1111111111111111,\"#46039f\"],[0.2222222222222222,\"#7201a8\"],[0.3333333333333333,\"#9c179e\"],[0.4444444444444444,\"#bd3786\"],[0.5555555555555556,\"#d8576b\"],[0.6666666666666666,\"#ed7953\"],[0.7777777777777778,\"#fb9f3a\"],[0.8888888888888888,\"#fdca26\"],[1.0,\"#f0f921\"]],\"type\":\"heatmap\"}],\"heatmapgl\":[{\"colorbar\":{\"outlinewidth\":0,\"ticks\":\"\"},\"colorscale\":[[0.0,\"#0d0887\"],[0.1111111111111111,\"#46039f\"],[0.2222222222222222,\"#7201a8\"],[0.3333333333333333,\"#9c179e\"],[0.4444444444444444,\"#bd3786\"],[0.5555555555555556,\"#d8576b\"],[0.6666666666666666,\"#ed7953\"],[0.7777777777777778,\"#fb9f3a\"],[0.8888888888888888,\"#fdca26\"],[1.0,\"#f0f921\"]],\"type\":\"heatmapgl\"}],\"histogram\":[{\"marker\":{\"pattern\":{\"fillmode\":\"overlay\",\"size\":10,\"solidity\":0.2}},\"type\":\"histogram\"}],\"histogram2d\":[{\"colorbar\":{\"outlinewidth\":0,\"ticks\":\"\"},\"colorscale\":[[0.0,\"#0d0887\"],[0.1111111111111111,\"#46039f\"],[0.2222222222222222,\"#7201a8\"],[0.3333333333333333,\"#9c179e\"],[0.4444444444444444,\"#bd3786\"],[0.5555555555555556,\"#d8576b\"],[0.6666666666666666,\"#ed7953\"],[0.7777777777777778,\"#fb9f3a\"],[0.8888888888888888,\"#fdca26\"],[1.0,\"#f0f921\"]],\"type\":\"histogram2d\"}],\"histogram2dcontour\":[{\"colorbar\":{\"outlinewidth\":0,\"ticks\":\"\"},\"colorscale\":[[0.0,\"#0d0887\"],[0.1111111111111111,\"#46039f\"],[0.2222222222222222,\"#7201a8\"],[0.3333333333333333,\"#9c179e\"],[0.4444444444444444,\"#bd3786\"],[0.5555555555555556,\"#d8576b\"],[0.6666666666666666,\"#ed7953\"],[0.7777777777777778,\"#fb9f3a\"],[0.8888888888888888,\"#fdca26\"],[1.0,\"#f0f921\"]],\"type\":\"histogram2dcontour\"}],\"mesh3d\":[{\"colorbar\":{\"outlinewidth\":0,\"ticks\":\"\"},\"type\":\"mesh3d\"}],\"parcoords\":[{\"line\":{\"colorbar\":{\"outlinewidth\":0,\"ticks\":\"\"}},\"type\":\"parcoords\"}],\"pie\":[{\"automargin\":true,\"type\":\"pie\"}],\"scatter\":[{\"marker\":{\"colorbar\":{\"outlinewidth\":0,\"ticks\":\"\"}},\"type\":\"scatter\"}],\"scatter3d\":[{\"line\":{\"colorbar\":{\"outlinewidth\":0,\"ticks\":\"\"}},\"marker\":{\"colorbar\":{\"outlinewidth\":0,\"ticks\":\"\"}},\"type\":\"scatter3d\"}],\"scattercarpet\":[{\"marker\":{\"colorbar\":{\"outlinewidth\":0,\"ticks\":\"\"}},\"type\":\"scattercarpet\"}],\"scattergeo\":[{\"marker\":{\"colorbar\":{\"outlinewidth\":0,\"ticks\":\"\"}},\"type\":\"scattergeo\"}],\"scattergl\":[{\"marker\":{\"colorbar\":{\"outlinewidth\":0,\"ticks\":\"\"}},\"type\":\"scattergl\"}],\"scattermapbox\":[{\"marker\":{\"colorbar\":{\"outlinewidth\":0,\"ticks\":\"\"}},\"type\":\"scattermapbox\"}],\"scatterpolar\":[{\"marker\":{\"colorbar\":{\"outlinewidth\":0,\"ticks\":\"\"}},\"type\":\"scatterpolar\"}],\"scatterpolargl\":[{\"marker\":{\"colorbar\":{\"outlinewidth\":0,\"ticks\":\"\"}},\"type\":\"scatterpolargl\"}],\"scatterternary\":[{\"marker\":{\"colorbar\":{\"outlinewidth\":0,\"ticks\":\"\"}},\"type\":\"scatterternary\"}],\"surface\":[{\"colorbar\":{\"outlinewidth\":0,\"ticks\":\"\"},\"colorscale\":[[0.0,\"#0d0887\"],[0.1111111111111111,\"#46039f\"],[0.2222222222222222,\"#7201a8\"],[0.3333333333333333,\"#9c179e\"],[0.4444444444444444,\"#bd3786\"],[0.5555555555555556,\"#d8576b\"],[0.6666666666666666,\"#ed7953\"],[0.7777777777777778,\"#fb9f3a\"],[0.8888888888888888,\"#fdca26\"],[1.0,\"#f0f921\"]],\"type\":\"surface\"}],\"table\":[{\"cells\":{\"fill\":{\"color\":\"#EBF0F8\"},\"line\":{\"color\":\"white\"}},\"header\":{\"fill\":{\"color\":\"#C8D4E3\"},\"line\":{\"color\":\"white\"}},\"type\":\"table\"}]},\"layout\":{\"annotationdefaults\":{\"arrowcolor\":\"#2a3f5f\",\"arrowhead\":0,\"arrowwidth\":1},\"autotypenumbers\":\"strict\",\"coloraxis\":{\"colorbar\":{\"outlinewidth\":0,\"ticks\":\"\"}},\"colorscale\":{\"diverging\":[[0,\"#8e0152\"],[0.1,\"#c51b7d\"],[0.2,\"#de77ae\"],[0.3,\"#f1b6da\"],[0.4,\"#fde0ef\"],[0.5,\"#f7f7f7\"],[0.6,\"#e6f5d0\"],[0.7,\"#b8e186\"],[0.8,\"#7fbc41\"],[0.9,\"#4d9221\"],[1,\"#276419\"]],\"sequential\":[[0.0,\"#0d0887\"],[0.1111111111111111,\"#46039f\"],[0.2222222222222222,\"#7201a8\"],[0.3333333333333333,\"#9c179e\"],[0.4444444444444444,\"#bd3786\"],[0.5555555555555556,\"#d8576b\"],[0.6666666666666666,\"#ed7953\"],[0.7777777777777778,\"#fb9f3a\"],[0.8888888888888888,\"#fdca26\"],[1.0,\"#f0f921\"]],\"sequentialminus\":[[0.0,\"#0d0887\"],[0.1111111111111111,\"#46039f\"],[0.2222222222222222,\"#7201a8\"],[0.3333333333333333,\"#9c179e\"],[0.4444444444444444,\"#bd3786\"],[0.5555555555555556,\"#d8576b\"],[0.6666666666666666,\"#ed7953\"],[0.7777777777777778,\"#fb9f3a\"],[0.8888888888888888,\"#fdca26\"],[1.0,\"#f0f921\"]]},\"colorway\":[\"#636efa\",\"#EF553B\",\"#00cc96\",\"#ab63fa\",\"#FFA15A\",\"#19d3f3\",\"#FF6692\",\"#B6E880\",\"#FF97FF\",\"#FECB52\"],\"font\":{\"color\":\"#2a3f5f\"},\"geo\":{\"bgcolor\":\"white\",\"lakecolor\":\"white\",\"landcolor\":\"#E5ECF6\",\"showlakes\":true,\"showland\":true,\"subunitcolor\":\"white\"},\"hoverlabel\":{\"align\":\"left\"},\"hovermode\":\"closest\",\"mapbox\":{\"style\":\"light\"},\"paper_bgcolor\":\"white\",\"plot_bgcolor\":\"#E5ECF6\",\"polar\":{\"angularaxis\":{\"gridcolor\":\"white\",\"linecolor\":\"white\",\"ticks\":\"\"},\"bgcolor\":\"#E5ECF6\",\"radialaxis\":{\"gridcolor\":\"white\",\"linecolor\":\"white\",\"ticks\":\"\"}},\"scene\":{\"xaxis\":{\"backgroundcolor\":\"#E5ECF6\",\"gridcolor\":\"white\",\"gridwidth\":2,\"linecolor\":\"white\",\"showbackground\":true,\"ticks\":\"\",\"zerolinecolor\":\"white\"},\"yaxis\":{\"backgroundcolor\":\"#E5ECF6\",\"gridcolor\":\"white\",\"gridwidth\":2,\"linecolor\":\"white\",\"showbackground\":true,\"ticks\":\"\",\"zerolinecolor\":\"white\"},\"zaxis\":{\"backgroundcolor\":\"#E5ECF6\",\"gridcolor\":\"white\",\"gridwidth\":2,\"linecolor\":\"white\",\"showbackground\":true,\"ticks\":\"\",\"zerolinecolor\":\"white\"}},\"shapedefaults\":{\"line\":{\"color\":\"#2a3f5f\"}},\"ternary\":{\"aaxis\":{\"gridcolor\":\"white\",\"linecolor\":\"white\",\"ticks\":\"\"},\"baxis\":{\"gridcolor\":\"white\",\"linecolor\":\"white\",\"ticks\":\"\"},\"bgcolor\":\"#E5ECF6\",\"caxis\":{\"gridcolor\":\"white\",\"linecolor\":\"white\",\"ticks\":\"\"}},\"title\":{\"x\":0.05},\"xaxis\":{\"automargin\":true,\"gridcolor\":\"white\",\"linecolor\":\"white\",\"ticks\":\"\",\"title\":{\"standoff\":15},\"zerolinecolor\":\"white\",\"zerolinewidth\":2},\"yaxis\":{\"automargin\":true,\"gridcolor\":\"white\",\"linecolor\":\"white\",\"ticks\":\"\",\"title\":{\"standoff\":15},\"zerolinecolor\":\"white\",\"zerolinewidth\":2}}},\"title\":{\"text\":\"California GHG Emissions\",\"x\":0.5},\"xaxis\":{\"title\":{\"text\":\"Year\"}},\"yaxis\":{\"title\":{\"text\":\"GHG Emissions, MT\"}}},                        {\"responsive\": true}                    ).then(function(){\n",
       "                            \n",
       "var gd = document.getElementById('3ffb4796-b62e-4476-b4fe-6fe2e327ed75');\n",
       "var x = new MutationObserver(function (mutations, observer) {{\n",
       "        var display = window.getComputedStyle(gd).display;\n",
       "        if (!display || display === 'none') {{\n",
       "            console.log([gd, 'removed!']);\n",
       "            Plotly.purge(gd);\n",
       "            observer.disconnect();\n",
       "        }}\n",
       "}});\n",
       "\n",
       "// Listen for the removal of the full notebook cells\n",
       "var notebookContainer = gd.closest('#notebook-container');\n",
       "if (notebookContainer) {{\n",
       "    x.observe(notebookContainer, {childList: true});\n",
       "}}\n",
       "\n",
       "// Listen for the clearing of the current output cell\n",
       "var outputEl = gd.closest('.output');\n",
       "if (outputEl) {{\n",
       "    x.observe(outputEl, {childList: true});\n",
       "}}\n",
       "\n",
       "                        })                };                });            </script>        </div>"
      ]
     },
     "metadata": {},
     "output_type": "display_data"
    }
   ],
   "source": [
    "# df_World=df[df[\"Entity\"]==\"World\"]\n",
    "fig = go.Figure(data=go.Scatter(x=year['Year'],\n",
    "                                y=year['Total GHG'],\n",
    "                                mode='lines')) # hover text goes here\n",
    "fig.update_layout(title='California GHG Emissions',title_x=0.5,xaxis_title=\"Year\",yaxis_title=\"GHG Emissions, MT\")\n",
    "fig.show()"
   ]
  },
  {
   "cell_type": "code",
   "execution_count": 40,
   "id": "84301a8d",
   "metadata": {},
   "outputs": [
    {
     "data": {
      "text/html": [
       "<div>\n",
       "<style scoped>\n",
       "    .dataframe tbody tr th:only-of-type {\n",
       "        vertical-align: middle;\n",
       "    }\n",
       "\n",
       "    .dataframe tbody tr th {\n",
       "        vertical-align: top;\n",
       "    }\n",
       "\n",
       "    .dataframe thead th {\n",
       "        text-align: right;\n",
       "    }\n",
       "</style>\n",
       "<table border=\"1\" class=\"dataframe\">\n",
       "  <thead>\n",
       "    <tr style=\"text-align: right;\">\n",
       "      <th></th>\n",
       "      <th>County</th>\n",
       "      <th>Total GHG</th>\n",
       "    </tr>\n",
       "  </thead>\n",
       "  <tbody>\n",
       "    <tr>\n",
       "      <th>16</th>\n",
       "      <td>Los Angeles</td>\n",
       "      <td>285138044.0</td>\n",
       "    </tr>\n",
       "    <tr>\n",
       "      <th>12</th>\n",
       "      <td>Kern</td>\n",
       "      <td>232668951.0</td>\n",
       "    </tr>\n",
       "    <tr>\n",
       "      <th>5</th>\n",
       "      <td>Contra Costa</td>\n",
       "      <td>189355600.0</td>\n",
       "    </tr>\n",
       "    <tr>\n",
       "      <th>29</th>\n",
       "      <td>San Bernardino</td>\n",
       "      <td>103512078.0</td>\n",
       "    </tr>\n",
       "    <tr>\n",
       "      <th>30</th>\n",
       "      <td>San Diego</td>\n",
       "      <td>36338198.0</td>\n",
       "    </tr>\n",
       "    <tr>\n",
       "      <th>41</th>\n",
       "      <td>Solano</td>\n",
       "      <td>29728888.0</td>\n",
       "    </tr>\n",
       "    <tr>\n",
       "      <th>36</th>\n",
       "      <td>Santa Clara</td>\n",
       "      <td>29065244.0</td>\n",
       "    </tr>\n",
       "    <tr>\n",
       "      <th>21</th>\n",
       "      <td>Monterey</td>\n",
       "      <td>27949777.0</td>\n",
       "    </tr>\n",
       "    <tr>\n",
       "      <th>27</th>\n",
       "      <td>Sacramento</td>\n",
       "      <td>25186967.0</td>\n",
       "    </tr>\n",
       "    <tr>\n",
       "      <th>38</th>\n",
       "      <td>Shasta</td>\n",
       "      <td>19058397.0</td>\n",
       "    </tr>\n",
       "  </tbody>\n",
       "</table>\n",
       "</div>"
      ],
      "text/plain": [
       "            County    Total GHG\n",
       "16     Los Angeles  285138044.0\n",
       "12            Kern  232668951.0\n",
       "5     Contra Costa  189355600.0\n",
       "29  San Bernardino  103512078.0\n",
       "30       San Diego   36338198.0\n",
       "41          Solano   29728888.0\n",
       "36     Santa Clara   29065244.0\n",
       "21        Monterey   27949777.0\n",
       "27      Sacramento   25186967.0\n",
       "38          Shasta   19058397.0"
      ]
     },
     "execution_count": 40,
     "metadata": {},
     "output_type": "execute_result"
    }
   ],
   "source": [
    "county = df.groupby('County')['Total GHG'].sum().reset_index()\n",
    "county_sort = county.sort_values('Total GHG', ascending=False)\n",
    "county_sort.head(10)"
   ]
  },
  {
   "cell_type": "code",
   "execution_count": 24,
   "id": "39243b4b",
   "metadata": {},
   "outputs": [],
   "source": [
    "df_Kern=df[df[\"County\"]==\"Kern\"]"
   ]
  },
  {
   "cell_type": "code",
   "execution_count": 26,
   "id": "76c36f85",
   "metadata": {},
   "outputs": [
    {
     "data": {
      "text/html": [
       "<div>\n",
       "<style scoped>\n",
       "    .dataframe tbody tr th:only-of-type {\n",
       "        vertical-align: middle;\n",
       "    }\n",
       "\n",
       "    .dataframe tbody tr th {\n",
       "        vertical-align: top;\n",
       "    }\n",
       "\n",
       "    .dataframe thead th {\n",
       "        text-align: right;\n",
       "    }\n",
       "</style>\n",
       "<table border=\"1\" class=\"dataframe\">\n",
       "  <thead>\n",
       "    <tr style=\"text-align: right;\">\n",
       "      <th></th>\n",
       "      <th>Year</th>\n",
       "      <th>ARBID</th>\n",
       "      <th>FACID</th>\n",
       "      <th>Facility</th>\n",
       "      <th>Primary Sector</th>\n",
       "      <th>NAICS Code</th>\n",
       "      <th>NAICS Description</th>\n",
       "      <th>Address</th>\n",
       "      <th>City</th>\n",
       "      <th>State</th>\n",
       "      <th>...</th>\n",
       "      <th>PM10</th>\n",
       "      <th>PM2.5</th>\n",
       "      <th>Benzene</th>\n",
       "      <th>13-Butadiene</th>\n",
       "      <th>Chromium Hexavalent</th>\n",
       "      <th>Diesel PM</th>\n",
       "      <th>Formaldehyde</th>\n",
       "      <th>Hydrochloric Acid</th>\n",
       "      <th>Hydrogen Sulfide</th>\n",
       "      <th>Nickel</th>\n",
       "    </tr>\n",
       "  </thead>\n",
       "  <tbody>\n",
       "    <tr>\n",
       "      <th>65</th>\n",
       "      <td>2010</td>\n",
       "      <td>100157</td>\n",
       "      <td>1119.0</td>\n",
       "      <td>Double C Limited</td>\n",
       "      <td>Cogeneration</td>\n",
       "      <td>221112</td>\n",
       "      <td>Fossil Fuel Electric Power Generation</td>\n",
       "      <td>10245 Oilfield Road, Bakersfield, CA 93308</td>\n",
       "      <td>Bakersfield</td>\n",
       "      <td>California</td>\n",
       "      <td>...</td>\n",
       "      <td>1.1</td>\n",
       "      <td>1.1</td>\n",
       "      <td>20.80</td>\n",
       "      <td>NaN</td>\n",
       "      <td>NaN</td>\n",
       "      <td>NaN</td>\n",
       "      <td>173.0</td>\n",
       "      <td>NaN</td>\n",
       "      <td>NaN</td>\n",
       "      <td>NaN</td>\n",
       "    </tr>\n",
       "    <tr>\n",
       "      <th>81</th>\n",
       "      <td>2010</td>\n",
       "      <td>100189</td>\n",
       "      <td>1118.0</td>\n",
       "      <td>High Sierra Limited</td>\n",
       "      <td>Cogeneration</td>\n",
       "      <td>221112</td>\n",
       "      <td>Fossil Fuel Electric Power Generation</td>\n",
       "      <td>10600 Oilfield Road, Bakersfield, CA 93308</td>\n",
       "      <td>Bakersfield</td>\n",
       "      <td>California</td>\n",
       "      <td>...</td>\n",
       "      <td>0.3</td>\n",
       "      <td>0.3</td>\n",
       "      <td>4.93</td>\n",
       "      <td>NaN</td>\n",
       "      <td>NaN</td>\n",
       "      <td>NaN</td>\n",
       "      <td>41.0</td>\n",
       "      <td>NaN</td>\n",
       "      <td>NaN</td>\n",
       "      <td>NaN</td>\n",
       "    </tr>\n",
       "  </tbody>\n",
       "</table>\n",
       "<p>2 rows × 38 columns</p>\n",
       "</div>"
      ],
      "text/plain": [
       "    Year   ARBID   FACID             Facility Primary Sector  NAICS Code  \\\n",
       "65  2010  100157  1119.0     Double C Limited   Cogeneration      221112   \n",
       "81  2010  100189  1118.0  High Sierra Limited   Cogeneration      221112   \n",
       "\n",
       "                        NAICS Description  \\\n",
       "65  Fossil Fuel Electric Power Generation   \n",
       "81  Fossil Fuel Electric Power Generation   \n",
       "\n",
       "                                       Address         City       State  ...  \\\n",
       "65  10245 Oilfield Road, Bakersfield, CA 93308  Bakersfield  California  ...   \n",
       "81  10600 Oilfield Road, Bakersfield, CA 93308  Bakersfield  California  ...   \n",
       "\n",
       "    PM10  PM2.5  Benzene 13-Butadiene Chromium Hexavalent Diesel PM  \\\n",
       "65   1.1    1.1    20.80          NaN                 NaN       NaN   \n",
       "81   0.3    0.3     4.93          NaN                 NaN       NaN   \n",
       "\n",
       "   Formaldehyde Hydrochloric Acid  Hydrogen Sulfide  Nickel  \n",
       "65        173.0               NaN               NaN     NaN  \n",
       "81         41.0               NaN               NaN     NaN  \n",
       "\n",
       "[2 rows x 38 columns]"
      ]
     },
     "execution_count": 26,
     "metadata": {},
     "output_type": "execute_result"
    }
   ],
   "source": [
    "df_Kern.head(2)"
   ]
  },
  {
   "cell_type": "code",
   "execution_count": 27,
   "id": "a9961ec6",
   "metadata": {},
   "outputs": [
    {
     "data": {
      "text/html": [
       "<div>\n",
       "<style scoped>\n",
       "    .dataframe tbody tr th:only-of-type {\n",
       "        vertical-align: middle;\n",
       "    }\n",
       "\n",
       "    .dataframe tbody tr th {\n",
       "        vertical-align: top;\n",
       "    }\n",
       "\n",
       "    .dataframe thead th {\n",
       "        text-align: right;\n",
       "    }\n",
       "</style>\n",
       "<table border=\"1\" class=\"dataframe\">\n",
       "  <thead>\n",
       "    <tr style=\"text-align: right;\">\n",
       "      <th></th>\n",
       "      <th>Year</th>\n",
       "      <th>Total GHG</th>\n",
       "    </tr>\n",
       "  </thead>\n",
       "  <tbody>\n",
       "    <tr>\n",
       "      <th>0</th>\n",
       "      <td>2010</td>\n",
       "      <td>23502572.0</td>\n",
       "    </tr>\n",
       "    <tr>\n",
       "      <th>1</th>\n",
       "      <td>2011</td>\n",
       "      <td>21386116.0</td>\n",
       "    </tr>\n",
       "    <tr>\n",
       "      <th>2</th>\n",
       "      <td>2012</td>\n",
       "      <td>23976134.0</td>\n",
       "    </tr>\n",
       "    <tr>\n",
       "      <th>3</th>\n",
       "      <td>2013</td>\n",
       "      <td>24905064.0</td>\n",
       "    </tr>\n",
       "    <tr>\n",
       "      <th>4</th>\n",
       "      <td>2014</td>\n",
       "      <td>26701219.0</td>\n",
       "    </tr>\n",
       "    <tr>\n",
       "      <th>5</th>\n",
       "      <td>2015</td>\n",
       "      <td>25872913.0</td>\n",
       "    </tr>\n",
       "    <tr>\n",
       "      <th>6</th>\n",
       "      <td>2016</td>\n",
       "      <td>23006714.0</td>\n",
       "    </tr>\n",
       "    <tr>\n",
       "      <th>7</th>\n",
       "      <td>2017</td>\n",
       "      <td>21797783.0</td>\n",
       "    </tr>\n",
       "    <tr>\n",
       "      <th>8</th>\n",
       "      <td>2018</td>\n",
       "      <td>21155779.0</td>\n",
       "    </tr>\n",
       "    <tr>\n",
       "      <th>9</th>\n",
       "      <td>2019</td>\n",
       "      <td>20364657.0</td>\n",
       "    </tr>\n",
       "  </tbody>\n",
       "</table>\n",
       "</div>"
      ],
      "text/plain": [
       "   Year   Total GHG\n",
       "0  2010  23502572.0\n",
       "1  2011  21386116.0\n",
       "2  2012  23976134.0\n",
       "3  2013  24905064.0\n",
       "4  2014  26701219.0\n",
       "5  2015  25872913.0\n",
       "6  2016  23006714.0\n",
       "7  2017  21797783.0\n",
       "8  2018  21155779.0\n",
       "9  2019  20364657.0"
      ]
     },
     "execution_count": 27,
     "metadata": {},
     "output_type": "execute_result"
    }
   ],
   "source": [
    "kern_sum = df_Kern.groupby('Year')['Total GHG'].sum().reset_index()\n",
    "kern_sum"
   ]
  },
  {
   "cell_type": "code",
   "execution_count": 32,
   "id": "954e5853",
   "metadata": {},
   "outputs": [],
   "source": [
    "# df_test=df[df[\"County\"]==\"Kern\"].groupby('Year')['Total GHG'].sum().reset_index()\n",
    "# df_test"
   ]
  },
  {
   "cell_type": "code",
   "execution_count": 28,
   "id": "3fad661b",
   "metadata": {},
   "outputs": [
    {
     "data": {
      "application/vnd.plotly.v1+json": {
       "config": {
        "plotlyServerURL": "https://plot.ly"
       },
       "data": [
        {
         "marker": {
          "color": "darkred"
         },
         "mode": "lines",
         "type": "scatter",
         "x": [
          2010,
          2011,
          2012,
          2013,
          2014,
          2015,
          2016,
          2017,
          2018,
          2019
         ],
         "y": [
          23502572,
          21386116,
          23976134,
          24905064,
          26701219,
          25872913,
          23006714,
          21797783,
          21155779,
          20364657
         ]
        }
       ],
       "layout": {
        "template": {
         "data": {
          "bar": [
           {
            "error_x": {
             "color": "#2a3f5f"
            },
            "error_y": {
             "color": "#2a3f5f"
            },
            "marker": {
             "line": {
              "color": "#E5ECF6",
              "width": 0.5
             },
             "pattern": {
              "fillmode": "overlay",
              "size": 10,
              "solidity": 0.2
             }
            },
            "type": "bar"
           }
          ],
          "barpolar": [
           {
            "marker": {
             "line": {
              "color": "#E5ECF6",
              "width": 0.5
             },
             "pattern": {
              "fillmode": "overlay",
              "size": 10,
              "solidity": 0.2
             }
            },
            "type": "barpolar"
           }
          ],
          "carpet": [
           {
            "aaxis": {
             "endlinecolor": "#2a3f5f",
             "gridcolor": "white",
             "linecolor": "white",
             "minorgridcolor": "white",
             "startlinecolor": "#2a3f5f"
            },
            "baxis": {
             "endlinecolor": "#2a3f5f",
             "gridcolor": "white",
             "linecolor": "white",
             "minorgridcolor": "white",
             "startlinecolor": "#2a3f5f"
            },
            "type": "carpet"
           }
          ],
          "choropleth": [
           {
            "colorbar": {
             "outlinewidth": 0,
             "ticks": ""
            },
            "type": "choropleth"
           }
          ],
          "contour": [
           {
            "colorbar": {
             "outlinewidth": 0,
             "ticks": ""
            },
            "colorscale": [
             [
              0,
              "#0d0887"
             ],
             [
              0.1111111111111111,
              "#46039f"
             ],
             [
              0.2222222222222222,
              "#7201a8"
             ],
             [
              0.3333333333333333,
              "#9c179e"
             ],
             [
              0.4444444444444444,
              "#bd3786"
             ],
             [
              0.5555555555555556,
              "#d8576b"
             ],
             [
              0.6666666666666666,
              "#ed7953"
             ],
             [
              0.7777777777777778,
              "#fb9f3a"
             ],
             [
              0.8888888888888888,
              "#fdca26"
             ],
             [
              1,
              "#f0f921"
             ]
            ],
            "type": "contour"
           }
          ],
          "contourcarpet": [
           {
            "colorbar": {
             "outlinewidth": 0,
             "ticks": ""
            },
            "type": "contourcarpet"
           }
          ],
          "heatmap": [
           {
            "colorbar": {
             "outlinewidth": 0,
             "ticks": ""
            },
            "colorscale": [
             [
              0,
              "#0d0887"
             ],
             [
              0.1111111111111111,
              "#46039f"
             ],
             [
              0.2222222222222222,
              "#7201a8"
             ],
             [
              0.3333333333333333,
              "#9c179e"
             ],
             [
              0.4444444444444444,
              "#bd3786"
             ],
             [
              0.5555555555555556,
              "#d8576b"
             ],
             [
              0.6666666666666666,
              "#ed7953"
             ],
             [
              0.7777777777777778,
              "#fb9f3a"
             ],
             [
              0.8888888888888888,
              "#fdca26"
             ],
             [
              1,
              "#f0f921"
             ]
            ],
            "type": "heatmap"
           }
          ],
          "heatmapgl": [
           {
            "colorbar": {
             "outlinewidth": 0,
             "ticks": ""
            },
            "colorscale": [
             [
              0,
              "#0d0887"
             ],
             [
              0.1111111111111111,
              "#46039f"
             ],
             [
              0.2222222222222222,
              "#7201a8"
             ],
             [
              0.3333333333333333,
              "#9c179e"
             ],
             [
              0.4444444444444444,
              "#bd3786"
             ],
             [
              0.5555555555555556,
              "#d8576b"
             ],
             [
              0.6666666666666666,
              "#ed7953"
             ],
             [
              0.7777777777777778,
              "#fb9f3a"
             ],
             [
              0.8888888888888888,
              "#fdca26"
             ],
             [
              1,
              "#f0f921"
             ]
            ],
            "type": "heatmapgl"
           }
          ],
          "histogram": [
           {
            "marker": {
             "pattern": {
              "fillmode": "overlay",
              "size": 10,
              "solidity": 0.2
             }
            },
            "type": "histogram"
           }
          ],
          "histogram2d": [
           {
            "colorbar": {
             "outlinewidth": 0,
             "ticks": ""
            },
            "colorscale": [
             [
              0,
              "#0d0887"
             ],
             [
              0.1111111111111111,
              "#46039f"
             ],
             [
              0.2222222222222222,
              "#7201a8"
             ],
             [
              0.3333333333333333,
              "#9c179e"
             ],
             [
              0.4444444444444444,
              "#bd3786"
             ],
             [
              0.5555555555555556,
              "#d8576b"
             ],
             [
              0.6666666666666666,
              "#ed7953"
             ],
             [
              0.7777777777777778,
              "#fb9f3a"
             ],
             [
              0.8888888888888888,
              "#fdca26"
             ],
             [
              1,
              "#f0f921"
             ]
            ],
            "type": "histogram2d"
           }
          ],
          "histogram2dcontour": [
           {
            "colorbar": {
             "outlinewidth": 0,
             "ticks": ""
            },
            "colorscale": [
             [
              0,
              "#0d0887"
             ],
             [
              0.1111111111111111,
              "#46039f"
             ],
             [
              0.2222222222222222,
              "#7201a8"
             ],
             [
              0.3333333333333333,
              "#9c179e"
             ],
             [
              0.4444444444444444,
              "#bd3786"
             ],
             [
              0.5555555555555556,
              "#d8576b"
             ],
             [
              0.6666666666666666,
              "#ed7953"
             ],
             [
              0.7777777777777778,
              "#fb9f3a"
             ],
             [
              0.8888888888888888,
              "#fdca26"
             ],
             [
              1,
              "#f0f921"
             ]
            ],
            "type": "histogram2dcontour"
           }
          ],
          "mesh3d": [
           {
            "colorbar": {
             "outlinewidth": 0,
             "ticks": ""
            },
            "type": "mesh3d"
           }
          ],
          "parcoords": [
           {
            "line": {
             "colorbar": {
              "outlinewidth": 0,
              "ticks": ""
             }
            },
            "type": "parcoords"
           }
          ],
          "pie": [
           {
            "automargin": true,
            "type": "pie"
           }
          ],
          "scatter": [
           {
            "marker": {
             "colorbar": {
              "outlinewidth": 0,
              "ticks": ""
             }
            },
            "type": "scatter"
           }
          ],
          "scatter3d": [
           {
            "line": {
             "colorbar": {
              "outlinewidth": 0,
              "ticks": ""
             }
            },
            "marker": {
             "colorbar": {
              "outlinewidth": 0,
              "ticks": ""
             }
            },
            "type": "scatter3d"
           }
          ],
          "scattercarpet": [
           {
            "marker": {
             "colorbar": {
              "outlinewidth": 0,
              "ticks": ""
             }
            },
            "type": "scattercarpet"
           }
          ],
          "scattergeo": [
           {
            "marker": {
             "colorbar": {
              "outlinewidth": 0,
              "ticks": ""
             }
            },
            "type": "scattergeo"
           }
          ],
          "scattergl": [
           {
            "marker": {
             "colorbar": {
              "outlinewidth": 0,
              "ticks": ""
             }
            },
            "type": "scattergl"
           }
          ],
          "scattermapbox": [
           {
            "marker": {
             "colorbar": {
              "outlinewidth": 0,
              "ticks": ""
             }
            },
            "type": "scattermapbox"
           }
          ],
          "scatterpolar": [
           {
            "marker": {
             "colorbar": {
              "outlinewidth": 0,
              "ticks": ""
             }
            },
            "type": "scatterpolar"
           }
          ],
          "scatterpolargl": [
           {
            "marker": {
             "colorbar": {
              "outlinewidth": 0,
              "ticks": ""
             }
            },
            "type": "scatterpolargl"
           }
          ],
          "scatterternary": [
           {
            "marker": {
             "colorbar": {
              "outlinewidth": 0,
              "ticks": ""
             }
            },
            "type": "scatterternary"
           }
          ],
          "surface": [
           {
            "colorbar": {
             "outlinewidth": 0,
             "ticks": ""
            },
            "colorscale": [
             [
              0,
              "#0d0887"
             ],
             [
              0.1111111111111111,
              "#46039f"
             ],
             [
              0.2222222222222222,
              "#7201a8"
             ],
             [
              0.3333333333333333,
              "#9c179e"
             ],
             [
              0.4444444444444444,
              "#bd3786"
             ],
             [
              0.5555555555555556,
              "#d8576b"
             ],
             [
              0.6666666666666666,
              "#ed7953"
             ],
             [
              0.7777777777777778,
              "#fb9f3a"
             ],
             [
              0.8888888888888888,
              "#fdca26"
             ],
             [
              1,
              "#f0f921"
             ]
            ],
            "type": "surface"
           }
          ],
          "table": [
           {
            "cells": {
             "fill": {
              "color": "#EBF0F8"
             },
             "line": {
              "color": "white"
             }
            },
            "header": {
             "fill": {
              "color": "#C8D4E3"
             },
             "line": {
              "color": "white"
             }
            },
            "type": "table"
           }
          ]
         },
         "layout": {
          "annotationdefaults": {
           "arrowcolor": "#2a3f5f",
           "arrowhead": 0,
           "arrowwidth": 1
          },
          "autotypenumbers": "strict",
          "coloraxis": {
           "colorbar": {
            "outlinewidth": 0,
            "ticks": ""
           }
          },
          "colorscale": {
           "diverging": [
            [
             0,
             "#8e0152"
            ],
            [
             0.1,
             "#c51b7d"
            ],
            [
             0.2,
             "#de77ae"
            ],
            [
             0.3,
             "#f1b6da"
            ],
            [
             0.4,
             "#fde0ef"
            ],
            [
             0.5,
             "#f7f7f7"
            ],
            [
             0.6,
             "#e6f5d0"
            ],
            [
             0.7,
             "#b8e186"
            ],
            [
             0.8,
             "#7fbc41"
            ],
            [
             0.9,
             "#4d9221"
            ],
            [
             1,
             "#276419"
            ]
           ],
           "sequential": [
            [
             0,
             "#0d0887"
            ],
            [
             0.1111111111111111,
             "#46039f"
            ],
            [
             0.2222222222222222,
             "#7201a8"
            ],
            [
             0.3333333333333333,
             "#9c179e"
            ],
            [
             0.4444444444444444,
             "#bd3786"
            ],
            [
             0.5555555555555556,
             "#d8576b"
            ],
            [
             0.6666666666666666,
             "#ed7953"
            ],
            [
             0.7777777777777778,
             "#fb9f3a"
            ],
            [
             0.8888888888888888,
             "#fdca26"
            ],
            [
             1,
             "#f0f921"
            ]
           ],
           "sequentialminus": [
            [
             0,
             "#0d0887"
            ],
            [
             0.1111111111111111,
             "#46039f"
            ],
            [
             0.2222222222222222,
             "#7201a8"
            ],
            [
             0.3333333333333333,
             "#9c179e"
            ],
            [
             0.4444444444444444,
             "#bd3786"
            ],
            [
             0.5555555555555556,
             "#d8576b"
            ],
            [
             0.6666666666666666,
             "#ed7953"
            ],
            [
             0.7777777777777778,
             "#fb9f3a"
            ],
            [
             0.8888888888888888,
             "#fdca26"
            ],
            [
             1,
             "#f0f921"
            ]
           ]
          },
          "colorway": [
           "#636efa",
           "#EF553B",
           "#00cc96",
           "#ab63fa",
           "#FFA15A",
           "#19d3f3",
           "#FF6692",
           "#B6E880",
           "#FF97FF",
           "#FECB52"
          ],
          "font": {
           "color": "#2a3f5f"
          },
          "geo": {
           "bgcolor": "white",
           "lakecolor": "white",
           "landcolor": "#E5ECF6",
           "showlakes": true,
           "showland": true,
           "subunitcolor": "white"
          },
          "hoverlabel": {
           "align": "left"
          },
          "hovermode": "closest",
          "mapbox": {
           "style": "light"
          },
          "paper_bgcolor": "white",
          "plot_bgcolor": "#E5ECF6",
          "polar": {
           "angularaxis": {
            "gridcolor": "white",
            "linecolor": "white",
            "ticks": ""
           },
           "bgcolor": "#E5ECF6",
           "radialaxis": {
            "gridcolor": "white",
            "linecolor": "white",
            "ticks": ""
           }
          },
          "scene": {
           "xaxis": {
            "backgroundcolor": "#E5ECF6",
            "gridcolor": "white",
            "gridwidth": 2,
            "linecolor": "white",
            "showbackground": true,
            "ticks": "",
            "zerolinecolor": "white"
           },
           "yaxis": {
            "backgroundcolor": "#E5ECF6",
            "gridcolor": "white",
            "gridwidth": 2,
            "linecolor": "white",
            "showbackground": true,
            "ticks": "",
            "zerolinecolor": "white"
           },
           "zaxis": {
            "backgroundcolor": "#E5ECF6",
            "gridcolor": "white",
            "gridwidth": 2,
            "linecolor": "white",
            "showbackground": true,
            "ticks": "",
            "zerolinecolor": "white"
           }
          },
          "shapedefaults": {
           "line": {
            "color": "#2a3f5f"
           }
          },
          "ternary": {
           "aaxis": {
            "gridcolor": "white",
            "linecolor": "white",
            "ticks": ""
           },
           "baxis": {
            "gridcolor": "white",
            "linecolor": "white",
            "ticks": ""
           },
           "bgcolor": "#E5ECF6",
           "caxis": {
            "gridcolor": "white",
            "linecolor": "white",
            "ticks": ""
           }
          },
          "title": {
           "x": 0.05
          },
          "xaxis": {
           "automargin": true,
           "gridcolor": "white",
           "linecolor": "white",
           "ticks": "",
           "title": {
            "standoff": 15
           },
           "zerolinecolor": "white",
           "zerolinewidth": 2
          },
          "yaxis": {
           "automargin": true,
           "gridcolor": "white",
           "linecolor": "white",
           "ticks": "",
           "title": {
            "standoff": 15
           },
           "zerolinecolor": "white",
           "zerolinewidth": 2
          }
         }
        },
        "title": {
         "text": "GHG Emissions in Kern County"
        },
        "xaxis": {
         "range": [
          "2010",
          "2019"
         ],
         "title": {
          "text": "Year"
         }
        },
        "yaxis": {
         "title": {
          "text": "GHG Emissions, MT"
         }
        }
       }
      },
      "text/html": [
       "<div>                            <div id=\"e50e69f2-18b7-4cd8-a2ac-e07d5e1e0b60\" class=\"plotly-graph-div\" style=\"height:525px; width:100%;\"></div>            <script type=\"text/javascript\">                require([\"plotly\"], function(Plotly) {                    window.PLOTLYENV=window.PLOTLYENV || {};                                    if (document.getElementById(\"e50e69f2-18b7-4cd8-a2ac-e07d5e1e0b60\")) {                    Plotly.newPlot(                        \"e50e69f2-18b7-4cd8-a2ac-e07d5e1e0b60\",                        [{\"marker\":{\"color\":\"darkred\"},\"mode\":\"lines\",\"type\":\"scatter\",\"x\":[2010,2011,2012,2013,2014,2015,2016,2017,2018,2019],\"y\":[23502572.0,21386116.0,23976134.0,24905064.0,26701219.0,25872913.0,23006714.0,21797783.0,21155779.0,20364657.0]}],                        {\"template\":{\"data\":{\"bar\":[{\"error_x\":{\"color\":\"#2a3f5f\"},\"error_y\":{\"color\":\"#2a3f5f\"},\"marker\":{\"line\":{\"color\":\"#E5ECF6\",\"width\":0.5},\"pattern\":{\"fillmode\":\"overlay\",\"size\":10,\"solidity\":0.2}},\"type\":\"bar\"}],\"barpolar\":[{\"marker\":{\"line\":{\"color\":\"#E5ECF6\",\"width\":0.5},\"pattern\":{\"fillmode\":\"overlay\",\"size\":10,\"solidity\":0.2}},\"type\":\"barpolar\"}],\"carpet\":[{\"aaxis\":{\"endlinecolor\":\"#2a3f5f\",\"gridcolor\":\"white\",\"linecolor\":\"white\",\"minorgridcolor\":\"white\",\"startlinecolor\":\"#2a3f5f\"},\"baxis\":{\"endlinecolor\":\"#2a3f5f\",\"gridcolor\":\"white\",\"linecolor\":\"white\",\"minorgridcolor\":\"white\",\"startlinecolor\":\"#2a3f5f\"},\"type\":\"carpet\"}],\"choropleth\":[{\"colorbar\":{\"outlinewidth\":0,\"ticks\":\"\"},\"type\":\"choropleth\"}],\"contour\":[{\"colorbar\":{\"outlinewidth\":0,\"ticks\":\"\"},\"colorscale\":[[0.0,\"#0d0887\"],[0.1111111111111111,\"#46039f\"],[0.2222222222222222,\"#7201a8\"],[0.3333333333333333,\"#9c179e\"],[0.4444444444444444,\"#bd3786\"],[0.5555555555555556,\"#d8576b\"],[0.6666666666666666,\"#ed7953\"],[0.7777777777777778,\"#fb9f3a\"],[0.8888888888888888,\"#fdca26\"],[1.0,\"#f0f921\"]],\"type\":\"contour\"}],\"contourcarpet\":[{\"colorbar\":{\"outlinewidth\":0,\"ticks\":\"\"},\"type\":\"contourcarpet\"}],\"heatmap\":[{\"colorbar\":{\"outlinewidth\":0,\"ticks\":\"\"},\"colorscale\":[[0.0,\"#0d0887\"],[0.1111111111111111,\"#46039f\"],[0.2222222222222222,\"#7201a8\"],[0.3333333333333333,\"#9c179e\"],[0.4444444444444444,\"#bd3786\"],[0.5555555555555556,\"#d8576b\"],[0.6666666666666666,\"#ed7953\"],[0.7777777777777778,\"#fb9f3a\"],[0.8888888888888888,\"#fdca26\"],[1.0,\"#f0f921\"]],\"type\":\"heatmap\"}],\"heatmapgl\":[{\"colorbar\":{\"outlinewidth\":0,\"ticks\":\"\"},\"colorscale\":[[0.0,\"#0d0887\"],[0.1111111111111111,\"#46039f\"],[0.2222222222222222,\"#7201a8\"],[0.3333333333333333,\"#9c179e\"],[0.4444444444444444,\"#bd3786\"],[0.5555555555555556,\"#d8576b\"],[0.6666666666666666,\"#ed7953\"],[0.7777777777777778,\"#fb9f3a\"],[0.8888888888888888,\"#fdca26\"],[1.0,\"#f0f921\"]],\"type\":\"heatmapgl\"}],\"histogram\":[{\"marker\":{\"pattern\":{\"fillmode\":\"overlay\",\"size\":10,\"solidity\":0.2}},\"type\":\"histogram\"}],\"histogram2d\":[{\"colorbar\":{\"outlinewidth\":0,\"ticks\":\"\"},\"colorscale\":[[0.0,\"#0d0887\"],[0.1111111111111111,\"#46039f\"],[0.2222222222222222,\"#7201a8\"],[0.3333333333333333,\"#9c179e\"],[0.4444444444444444,\"#bd3786\"],[0.5555555555555556,\"#d8576b\"],[0.6666666666666666,\"#ed7953\"],[0.7777777777777778,\"#fb9f3a\"],[0.8888888888888888,\"#fdca26\"],[1.0,\"#f0f921\"]],\"type\":\"histogram2d\"}],\"histogram2dcontour\":[{\"colorbar\":{\"outlinewidth\":0,\"ticks\":\"\"},\"colorscale\":[[0.0,\"#0d0887\"],[0.1111111111111111,\"#46039f\"],[0.2222222222222222,\"#7201a8\"],[0.3333333333333333,\"#9c179e\"],[0.4444444444444444,\"#bd3786\"],[0.5555555555555556,\"#d8576b\"],[0.6666666666666666,\"#ed7953\"],[0.7777777777777778,\"#fb9f3a\"],[0.8888888888888888,\"#fdca26\"],[1.0,\"#f0f921\"]],\"type\":\"histogram2dcontour\"}],\"mesh3d\":[{\"colorbar\":{\"outlinewidth\":0,\"ticks\":\"\"},\"type\":\"mesh3d\"}],\"parcoords\":[{\"line\":{\"colorbar\":{\"outlinewidth\":0,\"ticks\":\"\"}},\"type\":\"parcoords\"}],\"pie\":[{\"automargin\":true,\"type\":\"pie\"}],\"scatter\":[{\"marker\":{\"colorbar\":{\"outlinewidth\":0,\"ticks\":\"\"}},\"type\":\"scatter\"}],\"scatter3d\":[{\"line\":{\"colorbar\":{\"outlinewidth\":0,\"ticks\":\"\"}},\"marker\":{\"colorbar\":{\"outlinewidth\":0,\"ticks\":\"\"}},\"type\":\"scatter3d\"}],\"scattercarpet\":[{\"marker\":{\"colorbar\":{\"outlinewidth\":0,\"ticks\":\"\"}},\"type\":\"scattercarpet\"}],\"scattergeo\":[{\"marker\":{\"colorbar\":{\"outlinewidth\":0,\"ticks\":\"\"}},\"type\":\"scattergeo\"}],\"scattergl\":[{\"marker\":{\"colorbar\":{\"outlinewidth\":0,\"ticks\":\"\"}},\"type\":\"scattergl\"}],\"scattermapbox\":[{\"marker\":{\"colorbar\":{\"outlinewidth\":0,\"ticks\":\"\"}},\"type\":\"scattermapbox\"}],\"scatterpolar\":[{\"marker\":{\"colorbar\":{\"outlinewidth\":0,\"ticks\":\"\"}},\"type\":\"scatterpolar\"}],\"scatterpolargl\":[{\"marker\":{\"colorbar\":{\"outlinewidth\":0,\"ticks\":\"\"}},\"type\":\"scatterpolargl\"}],\"scatterternary\":[{\"marker\":{\"colorbar\":{\"outlinewidth\":0,\"ticks\":\"\"}},\"type\":\"scatterternary\"}],\"surface\":[{\"colorbar\":{\"outlinewidth\":0,\"ticks\":\"\"},\"colorscale\":[[0.0,\"#0d0887\"],[0.1111111111111111,\"#46039f\"],[0.2222222222222222,\"#7201a8\"],[0.3333333333333333,\"#9c179e\"],[0.4444444444444444,\"#bd3786\"],[0.5555555555555556,\"#d8576b\"],[0.6666666666666666,\"#ed7953\"],[0.7777777777777778,\"#fb9f3a\"],[0.8888888888888888,\"#fdca26\"],[1.0,\"#f0f921\"]],\"type\":\"surface\"}],\"table\":[{\"cells\":{\"fill\":{\"color\":\"#EBF0F8\"},\"line\":{\"color\":\"white\"}},\"header\":{\"fill\":{\"color\":\"#C8D4E3\"},\"line\":{\"color\":\"white\"}},\"type\":\"table\"}]},\"layout\":{\"annotationdefaults\":{\"arrowcolor\":\"#2a3f5f\",\"arrowhead\":0,\"arrowwidth\":1},\"autotypenumbers\":\"strict\",\"coloraxis\":{\"colorbar\":{\"outlinewidth\":0,\"ticks\":\"\"}},\"colorscale\":{\"diverging\":[[0,\"#8e0152\"],[0.1,\"#c51b7d\"],[0.2,\"#de77ae\"],[0.3,\"#f1b6da\"],[0.4,\"#fde0ef\"],[0.5,\"#f7f7f7\"],[0.6,\"#e6f5d0\"],[0.7,\"#b8e186\"],[0.8,\"#7fbc41\"],[0.9,\"#4d9221\"],[1,\"#276419\"]],\"sequential\":[[0.0,\"#0d0887\"],[0.1111111111111111,\"#46039f\"],[0.2222222222222222,\"#7201a8\"],[0.3333333333333333,\"#9c179e\"],[0.4444444444444444,\"#bd3786\"],[0.5555555555555556,\"#d8576b\"],[0.6666666666666666,\"#ed7953\"],[0.7777777777777778,\"#fb9f3a\"],[0.8888888888888888,\"#fdca26\"],[1.0,\"#f0f921\"]],\"sequentialminus\":[[0.0,\"#0d0887\"],[0.1111111111111111,\"#46039f\"],[0.2222222222222222,\"#7201a8\"],[0.3333333333333333,\"#9c179e\"],[0.4444444444444444,\"#bd3786\"],[0.5555555555555556,\"#d8576b\"],[0.6666666666666666,\"#ed7953\"],[0.7777777777777778,\"#fb9f3a\"],[0.8888888888888888,\"#fdca26\"],[1.0,\"#f0f921\"]]},\"colorway\":[\"#636efa\",\"#EF553B\",\"#00cc96\",\"#ab63fa\",\"#FFA15A\",\"#19d3f3\",\"#FF6692\",\"#B6E880\",\"#FF97FF\",\"#FECB52\"],\"font\":{\"color\":\"#2a3f5f\"},\"geo\":{\"bgcolor\":\"white\",\"lakecolor\":\"white\",\"landcolor\":\"#E5ECF6\",\"showlakes\":true,\"showland\":true,\"subunitcolor\":\"white\"},\"hoverlabel\":{\"align\":\"left\"},\"hovermode\":\"closest\",\"mapbox\":{\"style\":\"light\"},\"paper_bgcolor\":\"white\",\"plot_bgcolor\":\"#E5ECF6\",\"polar\":{\"angularaxis\":{\"gridcolor\":\"white\",\"linecolor\":\"white\",\"ticks\":\"\"},\"bgcolor\":\"#E5ECF6\",\"radialaxis\":{\"gridcolor\":\"white\",\"linecolor\":\"white\",\"ticks\":\"\"}},\"scene\":{\"xaxis\":{\"backgroundcolor\":\"#E5ECF6\",\"gridcolor\":\"white\",\"gridwidth\":2,\"linecolor\":\"white\",\"showbackground\":true,\"ticks\":\"\",\"zerolinecolor\":\"white\"},\"yaxis\":{\"backgroundcolor\":\"#E5ECF6\",\"gridcolor\":\"white\",\"gridwidth\":2,\"linecolor\":\"white\",\"showbackground\":true,\"ticks\":\"\",\"zerolinecolor\":\"white\"},\"zaxis\":{\"backgroundcolor\":\"#E5ECF6\",\"gridcolor\":\"white\",\"gridwidth\":2,\"linecolor\":\"white\",\"showbackground\":true,\"ticks\":\"\",\"zerolinecolor\":\"white\"}},\"shapedefaults\":{\"line\":{\"color\":\"#2a3f5f\"}},\"ternary\":{\"aaxis\":{\"gridcolor\":\"white\",\"linecolor\":\"white\",\"ticks\":\"\"},\"baxis\":{\"gridcolor\":\"white\",\"linecolor\":\"white\",\"ticks\":\"\"},\"bgcolor\":\"#E5ECF6\",\"caxis\":{\"gridcolor\":\"white\",\"linecolor\":\"white\",\"ticks\":\"\"}},\"title\":{\"x\":0.05},\"xaxis\":{\"automargin\":true,\"gridcolor\":\"white\",\"linecolor\":\"white\",\"ticks\":\"\",\"title\":{\"standoff\":15},\"zerolinecolor\":\"white\",\"zerolinewidth\":2},\"yaxis\":{\"automargin\":true,\"gridcolor\":\"white\",\"linecolor\":\"white\",\"ticks\":\"\",\"title\":{\"standoff\":15},\"zerolinecolor\":\"white\",\"zerolinewidth\":2}}},\"title\":{\"text\":\"GHG Emissions in Kern County\"},\"xaxis\":{\"range\":[\"2010\",\"2019\"],\"title\":{\"text\":\"Year\"}},\"yaxis\":{\"title\":{\"text\":\"GHG Emissions, MT\"}}},                        {\"responsive\": true}                    ).then(function(){\n",
       "                            \n",
       "var gd = document.getElementById('e50e69f2-18b7-4cd8-a2ac-e07d5e1e0b60');\n",
       "var x = new MutationObserver(function (mutations, observer) {{\n",
       "        var display = window.getComputedStyle(gd).display;\n",
       "        if (!display || display === 'none') {{\n",
       "            console.log([gd, 'removed!']);\n",
       "            Plotly.purge(gd);\n",
       "            observer.disconnect();\n",
       "        }}\n",
       "}});\n",
       "\n",
       "// Listen for the removal of the full notebook cells\n",
       "var notebookContainer = gd.closest('#notebook-container');\n",
       "if (notebookContainer) {{\n",
       "    x.observe(notebookContainer, {childList: true});\n",
       "}}\n",
       "\n",
       "// Listen for the clearing of the current output cell\n",
       "var outputEl = gd.closest('.output');\n",
       "if (outputEl) {{\n",
       "    x.observe(outputEl, {childList: true});\n",
       "}}\n",
       "\n",
       "                        })                };                });            </script>        </div>"
      ]
     },
     "metadata": {},
     "output_type": "display_data"
    }
   ],
   "source": [
    "fig = go.Figure(data=go.Scatter(x=kern_sum['Year'],\n",
    "                                y=kern_sum['Total GHG'],\n",
    "                                mode='lines',\n",
    "                               marker_color='darkred')) \n",
    "\n",
    "fig.update_layout(title='GHG Emissions in Kern County',xaxis_title=\"Year\",yaxis_title=\"GHG Emissions, MT\",xaxis_range=['2010','2019'])\n",
    "fig.show()"
   ]
  },
  {
   "cell_type": "code",
   "execution_count": 39,
   "id": "65176d6c",
   "metadata": {},
   "outputs": [
    {
     "data": {
      "application/vnd.plotly.v1+json": {
       "config": {
        "plotlyServerURL": "https://plot.ly"
       },
       "data": [
        {
         "line": {
          "color": "royalblue",
          "dash": "dot",
          "width": 4
         },
         "name": "Kern",
         "type": "scatter",
         "x": [
          2010,
          2011,
          2012,
          2013,
          2014,
          2015,
          2016,
          2017,
          2018,
          2019
         ],
         "y": [
          23502572,
          21386116,
          23976134,
          24905064,
          26701219,
          25872913,
          23006714,
          21797783,
          21155779,
          20364657
         ]
        },
        {
         "line": {
          "color": "green",
          "dash": "dashdot",
          "width": 4
         },
         "name": "Los Angeles",
         "type": "scatter",
         "x": [
          2010,
          2011,
          2012,
          2013,
          2014,
          2015,
          2016,
          2017,
          2018,
          2019
         ],
         "y": [
          27260648,
          27371745,
          29940260,
          28545312,
          29199586,
          29605299,
          28661755,
          28755213,
          28564453,
          27233773
         ]
        },
        {
         "line": {
          "color": "orange",
          "dash": "dash",
          "width": 4
         },
         "name": "San Bernardino",
         "type": "scatter",
         "x": [
          2010,
          2011,
          2012,
          2013,
          2014,
          2015,
          2016,
          2017,
          2018,
          2019
         ],
         "y": [
          10287614,
          9194160,
          11977525,
          11331332,
          11751172,
          10617520,
          10317418,
          9635967,
          9054605,
          9344765
         ]
        },
        {
         "line": {
          "color": "red",
          "dash": "dot",
          "width": 4
         },
         "name": "San Diego",
         "type": "scatter",
         "x": [
          2010,
          2011,
          2012,
          2013,
          2014,
          2015,
          2016,
          2017,
          2018,
          2019
         ],
         "y": [
          3819772,
          3316488,
          4940093,
          4599616,
          4192169,
          4361780,
          3487239,
          3569250,
          2228304,
          1823487
         ]
        },
        {
         "line": {
          "color": "brown",
          "dash": "dashdot",
          "width": 4
         },
         "name": "Contra Costa",
         "type": "scatter",
         "x": [
          2010,
          2011,
          2012,
          2013,
          2014,
          2015,
          2016,
          2017,
          2018,
          2019
         ],
         "y": [
          19984047,
          20033955,
          19339459,
          19688051,
          19347796,
          18963144,
          18090041,
          17473899,
          18457098,
          17978110
         ]
        }
       ],
       "layout": {
        "template": {
         "data": {
          "bar": [
           {
            "error_x": {
             "color": "#2a3f5f"
            },
            "error_y": {
             "color": "#2a3f5f"
            },
            "marker": {
             "line": {
              "color": "#E5ECF6",
              "width": 0.5
             },
             "pattern": {
              "fillmode": "overlay",
              "size": 10,
              "solidity": 0.2
             }
            },
            "type": "bar"
           }
          ],
          "barpolar": [
           {
            "marker": {
             "line": {
              "color": "#E5ECF6",
              "width": 0.5
             },
             "pattern": {
              "fillmode": "overlay",
              "size": 10,
              "solidity": 0.2
             }
            },
            "type": "barpolar"
           }
          ],
          "carpet": [
           {
            "aaxis": {
             "endlinecolor": "#2a3f5f",
             "gridcolor": "white",
             "linecolor": "white",
             "minorgridcolor": "white",
             "startlinecolor": "#2a3f5f"
            },
            "baxis": {
             "endlinecolor": "#2a3f5f",
             "gridcolor": "white",
             "linecolor": "white",
             "minorgridcolor": "white",
             "startlinecolor": "#2a3f5f"
            },
            "type": "carpet"
           }
          ],
          "choropleth": [
           {
            "colorbar": {
             "outlinewidth": 0,
             "ticks": ""
            },
            "type": "choropleth"
           }
          ],
          "contour": [
           {
            "colorbar": {
             "outlinewidth": 0,
             "ticks": ""
            },
            "colorscale": [
             [
              0,
              "#0d0887"
             ],
             [
              0.1111111111111111,
              "#46039f"
             ],
             [
              0.2222222222222222,
              "#7201a8"
             ],
             [
              0.3333333333333333,
              "#9c179e"
             ],
             [
              0.4444444444444444,
              "#bd3786"
             ],
             [
              0.5555555555555556,
              "#d8576b"
             ],
             [
              0.6666666666666666,
              "#ed7953"
             ],
             [
              0.7777777777777778,
              "#fb9f3a"
             ],
             [
              0.8888888888888888,
              "#fdca26"
             ],
             [
              1,
              "#f0f921"
             ]
            ],
            "type": "contour"
           }
          ],
          "contourcarpet": [
           {
            "colorbar": {
             "outlinewidth": 0,
             "ticks": ""
            },
            "type": "contourcarpet"
           }
          ],
          "heatmap": [
           {
            "colorbar": {
             "outlinewidth": 0,
             "ticks": ""
            },
            "colorscale": [
             [
              0,
              "#0d0887"
             ],
             [
              0.1111111111111111,
              "#46039f"
             ],
             [
              0.2222222222222222,
              "#7201a8"
             ],
             [
              0.3333333333333333,
              "#9c179e"
             ],
             [
              0.4444444444444444,
              "#bd3786"
             ],
             [
              0.5555555555555556,
              "#d8576b"
             ],
             [
              0.6666666666666666,
              "#ed7953"
             ],
             [
              0.7777777777777778,
              "#fb9f3a"
             ],
             [
              0.8888888888888888,
              "#fdca26"
             ],
             [
              1,
              "#f0f921"
             ]
            ],
            "type": "heatmap"
           }
          ],
          "heatmapgl": [
           {
            "colorbar": {
             "outlinewidth": 0,
             "ticks": ""
            },
            "colorscale": [
             [
              0,
              "#0d0887"
             ],
             [
              0.1111111111111111,
              "#46039f"
             ],
             [
              0.2222222222222222,
              "#7201a8"
             ],
             [
              0.3333333333333333,
              "#9c179e"
             ],
             [
              0.4444444444444444,
              "#bd3786"
             ],
             [
              0.5555555555555556,
              "#d8576b"
             ],
             [
              0.6666666666666666,
              "#ed7953"
             ],
             [
              0.7777777777777778,
              "#fb9f3a"
             ],
             [
              0.8888888888888888,
              "#fdca26"
             ],
             [
              1,
              "#f0f921"
             ]
            ],
            "type": "heatmapgl"
           }
          ],
          "histogram": [
           {
            "marker": {
             "pattern": {
              "fillmode": "overlay",
              "size": 10,
              "solidity": 0.2
             }
            },
            "type": "histogram"
           }
          ],
          "histogram2d": [
           {
            "colorbar": {
             "outlinewidth": 0,
             "ticks": ""
            },
            "colorscale": [
             [
              0,
              "#0d0887"
             ],
             [
              0.1111111111111111,
              "#46039f"
             ],
             [
              0.2222222222222222,
              "#7201a8"
             ],
             [
              0.3333333333333333,
              "#9c179e"
             ],
             [
              0.4444444444444444,
              "#bd3786"
             ],
             [
              0.5555555555555556,
              "#d8576b"
             ],
             [
              0.6666666666666666,
              "#ed7953"
             ],
             [
              0.7777777777777778,
              "#fb9f3a"
             ],
             [
              0.8888888888888888,
              "#fdca26"
             ],
             [
              1,
              "#f0f921"
             ]
            ],
            "type": "histogram2d"
           }
          ],
          "histogram2dcontour": [
           {
            "colorbar": {
             "outlinewidth": 0,
             "ticks": ""
            },
            "colorscale": [
             [
              0,
              "#0d0887"
             ],
             [
              0.1111111111111111,
              "#46039f"
             ],
             [
              0.2222222222222222,
              "#7201a8"
             ],
             [
              0.3333333333333333,
              "#9c179e"
             ],
             [
              0.4444444444444444,
              "#bd3786"
             ],
             [
              0.5555555555555556,
              "#d8576b"
             ],
             [
              0.6666666666666666,
              "#ed7953"
             ],
             [
              0.7777777777777778,
              "#fb9f3a"
             ],
             [
              0.8888888888888888,
              "#fdca26"
             ],
             [
              1,
              "#f0f921"
             ]
            ],
            "type": "histogram2dcontour"
           }
          ],
          "mesh3d": [
           {
            "colorbar": {
             "outlinewidth": 0,
             "ticks": ""
            },
            "type": "mesh3d"
           }
          ],
          "parcoords": [
           {
            "line": {
             "colorbar": {
              "outlinewidth": 0,
              "ticks": ""
             }
            },
            "type": "parcoords"
           }
          ],
          "pie": [
           {
            "automargin": true,
            "type": "pie"
           }
          ],
          "scatter": [
           {
            "marker": {
             "colorbar": {
              "outlinewidth": 0,
              "ticks": ""
             }
            },
            "type": "scatter"
           }
          ],
          "scatter3d": [
           {
            "line": {
             "colorbar": {
              "outlinewidth": 0,
              "ticks": ""
             }
            },
            "marker": {
             "colorbar": {
              "outlinewidth": 0,
              "ticks": ""
             }
            },
            "type": "scatter3d"
           }
          ],
          "scattercarpet": [
           {
            "marker": {
             "colorbar": {
              "outlinewidth": 0,
              "ticks": ""
             }
            },
            "type": "scattercarpet"
           }
          ],
          "scattergeo": [
           {
            "marker": {
             "colorbar": {
              "outlinewidth": 0,
              "ticks": ""
             }
            },
            "type": "scattergeo"
           }
          ],
          "scattergl": [
           {
            "marker": {
             "colorbar": {
              "outlinewidth": 0,
              "ticks": ""
             }
            },
            "type": "scattergl"
           }
          ],
          "scattermapbox": [
           {
            "marker": {
             "colorbar": {
              "outlinewidth": 0,
              "ticks": ""
             }
            },
            "type": "scattermapbox"
           }
          ],
          "scatterpolar": [
           {
            "marker": {
             "colorbar": {
              "outlinewidth": 0,
              "ticks": ""
             }
            },
            "type": "scatterpolar"
           }
          ],
          "scatterpolargl": [
           {
            "marker": {
             "colorbar": {
              "outlinewidth": 0,
              "ticks": ""
             }
            },
            "type": "scatterpolargl"
           }
          ],
          "scatterternary": [
           {
            "marker": {
             "colorbar": {
              "outlinewidth": 0,
              "ticks": ""
             }
            },
            "type": "scatterternary"
           }
          ],
          "surface": [
           {
            "colorbar": {
             "outlinewidth": 0,
             "ticks": ""
            },
            "colorscale": [
             [
              0,
              "#0d0887"
             ],
             [
              0.1111111111111111,
              "#46039f"
             ],
             [
              0.2222222222222222,
              "#7201a8"
             ],
             [
              0.3333333333333333,
              "#9c179e"
             ],
             [
              0.4444444444444444,
              "#bd3786"
             ],
             [
              0.5555555555555556,
              "#d8576b"
             ],
             [
              0.6666666666666666,
              "#ed7953"
             ],
             [
              0.7777777777777778,
              "#fb9f3a"
             ],
             [
              0.8888888888888888,
              "#fdca26"
             ],
             [
              1,
              "#f0f921"
             ]
            ],
            "type": "surface"
           }
          ],
          "table": [
           {
            "cells": {
             "fill": {
              "color": "#EBF0F8"
             },
             "line": {
              "color": "white"
             }
            },
            "header": {
             "fill": {
              "color": "#C8D4E3"
             },
             "line": {
              "color": "white"
             }
            },
            "type": "table"
           }
          ]
         },
         "layout": {
          "annotationdefaults": {
           "arrowcolor": "#2a3f5f",
           "arrowhead": 0,
           "arrowwidth": 1
          },
          "autotypenumbers": "strict",
          "coloraxis": {
           "colorbar": {
            "outlinewidth": 0,
            "ticks": ""
           }
          },
          "colorscale": {
           "diverging": [
            [
             0,
             "#8e0152"
            ],
            [
             0.1,
             "#c51b7d"
            ],
            [
             0.2,
             "#de77ae"
            ],
            [
             0.3,
             "#f1b6da"
            ],
            [
             0.4,
             "#fde0ef"
            ],
            [
             0.5,
             "#f7f7f7"
            ],
            [
             0.6,
             "#e6f5d0"
            ],
            [
             0.7,
             "#b8e186"
            ],
            [
             0.8,
             "#7fbc41"
            ],
            [
             0.9,
             "#4d9221"
            ],
            [
             1,
             "#276419"
            ]
           ],
           "sequential": [
            [
             0,
             "#0d0887"
            ],
            [
             0.1111111111111111,
             "#46039f"
            ],
            [
             0.2222222222222222,
             "#7201a8"
            ],
            [
             0.3333333333333333,
             "#9c179e"
            ],
            [
             0.4444444444444444,
             "#bd3786"
            ],
            [
             0.5555555555555556,
             "#d8576b"
            ],
            [
             0.6666666666666666,
             "#ed7953"
            ],
            [
             0.7777777777777778,
             "#fb9f3a"
            ],
            [
             0.8888888888888888,
             "#fdca26"
            ],
            [
             1,
             "#f0f921"
            ]
           ],
           "sequentialminus": [
            [
             0,
             "#0d0887"
            ],
            [
             0.1111111111111111,
             "#46039f"
            ],
            [
             0.2222222222222222,
             "#7201a8"
            ],
            [
             0.3333333333333333,
             "#9c179e"
            ],
            [
             0.4444444444444444,
             "#bd3786"
            ],
            [
             0.5555555555555556,
             "#d8576b"
            ],
            [
             0.6666666666666666,
             "#ed7953"
            ],
            [
             0.7777777777777778,
             "#fb9f3a"
            ],
            [
             0.8888888888888888,
             "#fdca26"
            ],
            [
             1,
             "#f0f921"
            ]
           ]
          },
          "colorway": [
           "#636efa",
           "#EF553B",
           "#00cc96",
           "#ab63fa",
           "#FFA15A",
           "#19d3f3",
           "#FF6692",
           "#B6E880",
           "#FF97FF",
           "#FECB52"
          ],
          "font": {
           "color": "#2a3f5f"
          },
          "geo": {
           "bgcolor": "white",
           "lakecolor": "white",
           "landcolor": "#E5ECF6",
           "showlakes": true,
           "showland": true,
           "subunitcolor": "white"
          },
          "hoverlabel": {
           "align": "left"
          },
          "hovermode": "closest",
          "mapbox": {
           "style": "light"
          },
          "paper_bgcolor": "white",
          "plot_bgcolor": "#E5ECF6",
          "polar": {
           "angularaxis": {
            "gridcolor": "white",
            "linecolor": "white",
            "ticks": ""
           },
           "bgcolor": "#E5ECF6",
           "radialaxis": {
            "gridcolor": "white",
            "linecolor": "white",
            "ticks": ""
           }
          },
          "scene": {
           "xaxis": {
            "backgroundcolor": "#E5ECF6",
            "gridcolor": "white",
            "gridwidth": 2,
            "linecolor": "white",
            "showbackground": true,
            "ticks": "",
            "zerolinecolor": "white"
           },
           "yaxis": {
            "backgroundcolor": "#E5ECF6",
            "gridcolor": "white",
            "gridwidth": 2,
            "linecolor": "white",
            "showbackground": true,
            "ticks": "",
            "zerolinecolor": "white"
           },
           "zaxis": {
            "backgroundcolor": "#E5ECF6",
            "gridcolor": "white",
            "gridwidth": 2,
            "linecolor": "white",
            "showbackground": true,
            "ticks": "",
            "zerolinecolor": "white"
           }
          },
          "shapedefaults": {
           "line": {
            "color": "#2a3f5f"
           }
          },
          "ternary": {
           "aaxis": {
            "gridcolor": "white",
            "linecolor": "white",
            "ticks": ""
           },
           "baxis": {
            "gridcolor": "white",
            "linecolor": "white",
            "ticks": ""
           },
           "bgcolor": "#E5ECF6",
           "caxis": {
            "gridcolor": "white",
            "linecolor": "white",
            "ticks": ""
           }
          },
          "title": {
           "x": 0.05
          },
          "xaxis": {
           "automargin": true,
           "gridcolor": "white",
           "linecolor": "white",
           "ticks": "",
           "title": {
            "standoff": 15
           },
           "zerolinecolor": "white",
           "zerolinewidth": 2
          },
          "yaxis": {
           "automargin": true,
           "gridcolor": "white",
           "linecolor": "white",
           "ticks": "",
           "title": {
            "standoff": 15
           },
           "zerolinecolor": "white",
           "zerolinewidth": 2
          }
         }
        },
        "title": {
         "text": "GHG Emissions Over Time For Selected CA Counties",
         "x": 0.5
        },
        "xaxis": {
         "title": {
          "text": "Year"
         }
        },
        "yaxis": {
         "title": {
          "text": "GHG Emissions, MT"
         }
        }
       }
      },
      "text/html": [
       "<div>                            <div id=\"05d6aac8-138f-4d26-9ae0-649d6954d62b\" class=\"plotly-graph-div\" style=\"height:525px; width:100%;\"></div>            <script type=\"text/javascript\">                require([\"plotly\"], function(Plotly) {                    window.PLOTLYENV=window.PLOTLYENV || {};                                    if (document.getElementById(\"05d6aac8-138f-4d26-9ae0-649d6954d62b\")) {                    Plotly.newPlot(                        \"05d6aac8-138f-4d26-9ae0-649d6954d62b\",                        [{\"line\":{\"color\":\"royalblue\",\"dash\":\"dot\",\"width\":4},\"name\":\"Kern\",\"type\":\"scatter\",\"x\":[2010,2011,2012,2013,2014,2015,2016,2017,2018,2019],\"y\":[23502572.0,21386116.0,23976134.0,24905064.0,26701219.0,25872913.0,23006714.0,21797783.0,21155779.0,20364657.0]},{\"line\":{\"color\":\"green\",\"dash\":\"dashdot\",\"width\":4},\"name\":\"Los Angeles\",\"type\":\"scatter\",\"x\":[2010,2011,2012,2013,2014,2015,2016,2017,2018,2019],\"y\":[27260648.0,27371745.0,29940260.0,28545312.0,29199586.0,29605299.0,28661755.0,28755213.0,28564453.0,27233773.0]},{\"line\":{\"color\":\"orange\",\"dash\":\"dash\",\"width\":4},\"name\":\"San Bernardino\",\"type\":\"scatter\",\"x\":[2010,2011,2012,2013,2014,2015,2016,2017,2018,2019],\"y\":[10287614.0,9194160.0,11977525.0,11331332.0,11751172.0,10617520.0,10317418.0,9635967.0,9054605.0,9344765.0]},{\"line\":{\"color\":\"red\",\"dash\":\"dot\",\"width\":4},\"name\":\"San Diego\",\"type\":\"scatter\",\"x\":[2010,2011,2012,2013,2014,2015,2016,2017,2018,2019],\"y\":[3819772.0,3316488.0,4940093.0,4599616.0,4192169.0,4361780.0,3487239.0,3569250.0,2228304.0,1823487.0]},{\"line\":{\"color\":\"brown\",\"dash\":\"dashdot\",\"width\":4},\"name\":\"Contra Costa\",\"type\":\"scatter\",\"x\":[2010,2011,2012,2013,2014,2015,2016,2017,2018,2019],\"y\":[19984047.0,20033955.0,19339459.0,19688051.0,19347796.0,18963144.0,18090041.0,17473899.0,18457098.0,17978110.0]}],                        {\"template\":{\"data\":{\"bar\":[{\"error_x\":{\"color\":\"#2a3f5f\"},\"error_y\":{\"color\":\"#2a3f5f\"},\"marker\":{\"line\":{\"color\":\"#E5ECF6\",\"width\":0.5},\"pattern\":{\"fillmode\":\"overlay\",\"size\":10,\"solidity\":0.2}},\"type\":\"bar\"}],\"barpolar\":[{\"marker\":{\"line\":{\"color\":\"#E5ECF6\",\"width\":0.5},\"pattern\":{\"fillmode\":\"overlay\",\"size\":10,\"solidity\":0.2}},\"type\":\"barpolar\"}],\"carpet\":[{\"aaxis\":{\"endlinecolor\":\"#2a3f5f\",\"gridcolor\":\"white\",\"linecolor\":\"white\",\"minorgridcolor\":\"white\",\"startlinecolor\":\"#2a3f5f\"},\"baxis\":{\"endlinecolor\":\"#2a3f5f\",\"gridcolor\":\"white\",\"linecolor\":\"white\",\"minorgridcolor\":\"white\",\"startlinecolor\":\"#2a3f5f\"},\"type\":\"carpet\"}],\"choropleth\":[{\"colorbar\":{\"outlinewidth\":0,\"ticks\":\"\"},\"type\":\"choropleth\"}],\"contour\":[{\"colorbar\":{\"outlinewidth\":0,\"ticks\":\"\"},\"colorscale\":[[0.0,\"#0d0887\"],[0.1111111111111111,\"#46039f\"],[0.2222222222222222,\"#7201a8\"],[0.3333333333333333,\"#9c179e\"],[0.4444444444444444,\"#bd3786\"],[0.5555555555555556,\"#d8576b\"],[0.6666666666666666,\"#ed7953\"],[0.7777777777777778,\"#fb9f3a\"],[0.8888888888888888,\"#fdca26\"],[1.0,\"#f0f921\"]],\"type\":\"contour\"}],\"contourcarpet\":[{\"colorbar\":{\"outlinewidth\":0,\"ticks\":\"\"},\"type\":\"contourcarpet\"}],\"heatmap\":[{\"colorbar\":{\"outlinewidth\":0,\"ticks\":\"\"},\"colorscale\":[[0.0,\"#0d0887\"],[0.1111111111111111,\"#46039f\"],[0.2222222222222222,\"#7201a8\"],[0.3333333333333333,\"#9c179e\"],[0.4444444444444444,\"#bd3786\"],[0.5555555555555556,\"#d8576b\"],[0.6666666666666666,\"#ed7953\"],[0.7777777777777778,\"#fb9f3a\"],[0.8888888888888888,\"#fdca26\"],[1.0,\"#f0f921\"]],\"type\":\"heatmap\"}],\"heatmapgl\":[{\"colorbar\":{\"outlinewidth\":0,\"ticks\":\"\"},\"colorscale\":[[0.0,\"#0d0887\"],[0.1111111111111111,\"#46039f\"],[0.2222222222222222,\"#7201a8\"],[0.3333333333333333,\"#9c179e\"],[0.4444444444444444,\"#bd3786\"],[0.5555555555555556,\"#d8576b\"],[0.6666666666666666,\"#ed7953\"],[0.7777777777777778,\"#fb9f3a\"],[0.8888888888888888,\"#fdca26\"],[1.0,\"#f0f921\"]],\"type\":\"heatmapgl\"}],\"histogram\":[{\"marker\":{\"pattern\":{\"fillmode\":\"overlay\",\"size\":10,\"solidity\":0.2}},\"type\":\"histogram\"}],\"histogram2d\":[{\"colorbar\":{\"outlinewidth\":0,\"ticks\":\"\"},\"colorscale\":[[0.0,\"#0d0887\"],[0.1111111111111111,\"#46039f\"],[0.2222222222222222,\"#7201a8\"],[0.3333333333333333,\"#9c179e\"],[0.4444444444444444,\"#bd3786\"],[0.5555555555555556,\"#d8576b\"],[0.6666666666666666,\"#ed7953\"],[0.7777777777777778,\"#fb9f3a\"],[0.8888888888888888,\"#fdca26\"],[1.0,\"#f0f921\"]],\"type\":\"histogram2d\"}],\"histogram2dcontour\":[{\"colorbar\":{\"outlinewidth\":0,\"ticks\":\"\"},\"colorscale\":[[0.0,\"#0d0887\"],[0.1111111111111111,\"#46039f\"],[0.2222222222222222,\"#7201a8\"],[0.3333333333333333,\"#9c179e\"],[0.4444444444444444,\"#bd3786\"],[0.5555555555555556,\"#d8576b\"],[0.6666666666666666,\"#ed7953\"],[0.7777777777777778,\"#fb9f3a\"],[0.8888888888888888,\"#fdca26\"],[1.0,\"#f0f921\"]],\"type\":\"histogram2dcontour\"}],\"mesh3d\":[{\"colorbar\":{\"outlinewidth\":0,\"ticks\":\"\"},\"type\":\"mesh3d\"}],\"parcoords\":[{\"line\":{\"colorbar\":{\"outlinewidth\":0,\"ticks\":\"\"}},\"type\":\"parcoords\"}],\"pie\":[{\"automargin\":true,\"type\":\"pie\"}],\"scatter\":[{\"marker\":{\"colorbar\":{\"outlinewidth\":0,\"ticks\":\"\"}},\"type\":\"scatter\"}],\"scatter3d\":[{\"line\":{\"colorbar\":{\"outlinewidth\":0,\"ticks\":\"\"}},\"marker\":{\"colorbar\":{\"outlinewidth\":0,\"ticks\":\"\"}},\"type\":\"scatter3d\"}],\"scattercarpet\":[{\"marker\":{\"colorbar\":{\"outlinewidth\":0,\"ticks\":\"\"}},\"type\":\"scattercarpet\"}],\"scattergeo\":[{\"marker\":{\"colorbar\":{\"outlinewidth\":0,\"ticks\":\"\"}},\"type\":\"scattergeo\"}],\"scattergl\":[{\"marker\":{\"colorbar\":{\"outlinewidth\":0,\"ticks\":\"\"}},\"type\":\"scattergl\"}],\"scattermapbox\":[{\"marker\":{\"colorbar\":{\"outlinewidth\":0,\"ticks\":\"\"}},\"type\":\"scattermapbox\"}],\"scatterpolar\":[{\"marker\":{\"colorbar\":{\"outlinewidth\":0,\"ticks\":\"\"}},\"type\":\"scatterpolar\"}],\"scatterpolargl\":[{\"marker\":{\"colorbar\":{\"outlinewidth\":0,\"ticks\":\"\"}},\"type\":\"scatterpolargl\"}],\"scatterternary\":[{\"marker\":{\"colorbar\":{\"outlinewidth\":0,\"ticks\":\"\"}},\"type\":\"scatterternary\"}],\"surface\":[{\"colorbar\":{\"outlinewidth\":0,\"ticks\":\"\"},\"colorscale\":[[0.0,\"#0d0887\"],[0.1111111111111111,\"#46039f\"],[0.2222222222222222,\"#7201a8\"],[0.3333333333333333,\"#9c179e\"],[0.4444444444444444,\"#bd3786\"],[0.5555555555555556,\"#d8576b\"],[0.6666666666666666,\"#ed7953\"],[0.7777777777777778,\"#fb9f3a\"],[0.8888888888888888,\"#fdca26\"],[1.0,\"#f0f921\"]],\"type\":\"surface\"}],\"table\":[{\"cells\":{\"fill\":{\"color\":\"#EBF0F8\"},\"line\":{\"color\":\"white\"}},\"header\":{\"fill\":{\"color\":\"#C8D4E3\"},\"line\":{\"color\":\"white\"}},\"type\":\"table\"}]},\"layout\":{\"annotationdefaults\":{\"arrowcolor\":\"#2a3f5f\",\"arrowhead\":0,\"arrowwidth\":1},\"autotypenumbers\":\"strict\",\"coloraxis\":{\"colorbar\":{\"outlinewidth\":0,\"ticks\":\"\"}},\"colorscale\":{\"diverging\":[[0,\"#8e0152\"],[0.1,\"#c51b7d\"],[0.2,\"#de77ae\"],[0.3,\"#f1b6da\"],[0.4,\"#fde0ef\"],[0.5,\"#f7f7f7\"],[0.6,\"#e6f5d0\"],[0.7,\"#b8e186\"],[0.8,\"#7fbc41\"],[0.9,\"#4d9221\"],[1,\"#276419\"]],\"sequential\":[[0.0,\"#0d0887\"],[0.1111111111111111,\"#46039f\"],[0.2222222222222222,\"#7201a8\"],[0.3333333333333333,\"#9c179e\"],[0.4444444444444444,\"#bd3786\"],[0.5555555555555556,\"#d8576b\"],[0.6666666666666666,\"#ed7953\"],[0.7777777777777778,\"#fb9f3a\"],[0.8888888888888888,\"#fdca26\"],[1.0,\"#f0f921\"]],\"sequentialminus\":[[0.0,\"#0d0887\"],[0.1111111111111111,\"#46039f\"],[0.2222222222222222,\"#7201a8\"],[0.3333333333333333,\"#9c179e\"],[0.4444444444444444,\"#bd3786\"],[0.5555555555555556,\"#d8576b\"],[0.6666666666666666,\"#ed7953\"],[0.7777777777777778,\"#fb9f3a\"],[0.8888888888888888,\"#fdca26\"],[1.0,\"#f0f921\"]]},\"colorway\":[\"#636efa\",\"#EF553B\",\"#00cc96\",\"#ab63fa\",\"#FFA15A\",\"#19d3f3\",\"#FF6692\",\"#B6E880\",\"#FF97FF\",\"#FECB52\"],\"font\":{\"color\":\"#2a3f5f\"},\"geo\":{\"bgcolor\":\"white\",\"lakecolor\":\"white\",\"landcolor\":\"#E5ECF6\",\"showlakes\":true,\"showland\":true,\"subunitcolor\":\"white\"},\"hoverlabel\":{\"align\":\"left\"},\"hovermode\":\"closest\",\"mapbox\":{\"style\":\"light\"},\"paper_bgcolor\":\"white\",\"plot_bgcolor\":\"#E5ECF6\",\"polar\":{\"angularaxis\":{\"gridcolor\":\"white\",\"linecolor\":\"white\",\"ticks\":\"\"},\"bgcolor\":\"#E5ECF6\",\"radialaxis\":{\"gridcolor\":\"white\",\"linecolor\":\"white\",\"ticks\":\"\"}},\"scene\":{\"xaxis\":{\"backgroundcolor\":\"#E5ECF6\",\"gridcolor\":\"white\",\"gridwidth\":2,\"linecolor\":\"white\",\"showbackground\":true,\"ticks\":\"\",\"zerolinecolor\":\"white\"},\"yaxis\":{\"backgroundcolor\":\"#E5ECF6\",\"gridcolor\":\"white\",\"gridwidth\":2,\"linecolor\":\"white\",\"showbackground\":true,\"ticks\":\"\",\"zerolinecolor\":\"white\"},\"zaxis\":{\"backgroundcolor\":\"#E5ECF6\",\"gridcolor\":\"white\",\"gridwidth\":2,\"linecolor\":\"white\",\"showbackground\":true,\"ticks\":\"\",\"zerolinecolor\":\"white\"}},\"shapedefaults\":{\"line\":{\"color\":\"#2a3f5f\"}},\"ternary\":{\"aaxis\":{\"gridcolor\":\"white\",\"linecolor\":\"white\",\"ticks\":\"\"},\"baxis\":{\"gridcolor\":\"white\",\"linecolor\":\"white\",\"ticks\":\"\"},\"bgcolor\":\"#E5ECF6\",\"caxis\":{\"gridcolor\":\"white\",\"linecolor\":\"white\",\"ticks\":\"\"}},\"title\":{\"x\":0.05},\"xaxis\":{\"automargin\":true,\"gridcolor\":\"white\",\"linecolor\":\"white\",\"ticks\":\"\",\"title\":{\"standoff\":15},\"zerolinecolor\":\"white\",\"zerolinewidth\":2},\"yaxis\":{\"automargin\":true,\"gridcolor\":\"white\",\"linecolor\":\"white\",\"ticks\":\"\",\"title\":{\"standoff\":15},\"zerolinecolor\":\"white\",\"zerolinewidth\":2}}},\"title\":{\"text\":\"GHG Emissions Over Time For Selected CA Counties\",\"x\":0.5},\"xaxis\":{\"title\":{\"text\":\"Year\"}},\"yaxis\":{\"title\":{\"text\":\"GHG Emissions, MT\"}}},                        {\"responsive\": true}                    ).then(function(){\n",
       "                            \n",
       "var gd = document.getElementById('05d6aac8-138f-4d26-9ae0-649d6954d62b');\n",
       "var x = new MutationObserver(function (mutations, observer) {{\n",
       "        var display = window.getComputedStyle(gd).display;\n",
       "        if (!display || display === 'none') {{\n",
       "            console.log([gd, 'removed!']);\n",
       "            Plotly.purge(gd);\n",
       "            observer.disconnect();\n",
       "        }}\n",
       "}});\n",
       "\n",
       "// Listen for the removal of the full notebook cells\n",
       "var notebookContainer = gd.closest('#notebook-container');\n",
       "if (notebookContainer) {{\n",
       "    x.observe(notebookContainer, {childList: true});\n",
       "}}\n",
       "\n",
       "// Listen for the clearing of the current output cell\n",
       "var outputEl = gd.closest('.output');\n",
       "if (outputEl) {{\n",
       "    x.observe(outputEl, {childList: true});\n",
       "}}\n",
       "\n",
       "                        })                };                });            </script>        </div>"
      ]
     },
     "metadata": {},
     "output_type": "display_data"
    }
   ],
   "source": [
    "fig = go.Figure()\n",
    "\n",
    "\n",
    "kern=df[df[\"County\"]==\"Kern\"].groupby('Year')['Total GHG'].sum().reset_index()\n",
    "la=df[df[\"County\"]==\"Los Angeles\"].groupby('Year')['Total GHG'].sum().reset_index()\n",
    "sb=df[df[\"County\"]==\"San Bernardino\"].groupby('Year')['Total GHG'].sum().reset_index()\n",
    "sd=df[df[\"County\"]==\"San Diego\"].groupby('Year')['Total GHG'].sum().reset_index()\n",
    "contra=df[df[\"County\"]==\"Contra Costa\"].groupby('Year')['Total GHG'].sum().reset_index()\n",
    "\n",
    "fig.add_trace(go.Scatter(x=kern['Year'], y=kern['Total GHG'], name = 'Kern',\n",
    "                         line=dict(color='royalblue', width=4,dash=\"dot\")))\n",
    "\n",
    "fig.add_trace(go.Scatter(x=la['Year'], y=la['Total GHG'], name = 'Los Angeles',\n",
    "                         line=dict(color='green', width=4,dash=\"dashdot\")))\n",
    "\n",
    "fig.add_trace(go.Scatter(x=sb['Year'], y=sb['Total GHG'], name = 'San Bernardino',\n",
    "                         line=dict(color='orange', width=4,dash=\"dash\")))\n",
    "\n",
    "fig.add_trace(go.Scatter(x=sd['Year'], y=sd['Total GHG'], name = 'San Diego',\n",
    "                         line=dict(color='red', width=4,dash=\"dot\")))\n",
    "\n",
    "fig.add_trace(go.Scatter(x=contra['Year'], y=contra['Total GHG'], name = 'Contra Costa',\n",
    "                         line=dict(color='brown', width=4,dash=\"dashdot\")))\n",
    "\n",
    "fig.update_layout(title='GHG Emissions Over Time For Selected CA Counties',title_x=0.5,xaxis_title=\"Year\",yaxis_title=\"GHG Emissions, MT\")\n",
    "fig.show()"
   ]
  },
  {
   "cell_type": "markdown",
   "id": "8fc429db",
   "metadata": {},
   "source": [
    "#### Helpful to QC names (i.e., duplicate entries)"
   ]
  },
  {
   "cell_type": "code",
   "execution_count": 47,
   "id": "d88c40a9",
   "metadata": {},
   "outputs": [
    {
     "data": {
      "text/html": [
       "<div>\n",
       "<style scoped>\n",
       "    .dataframe tbody tr th:only-of-type {\n",
       "        vertical-align: middle;\n",
       "    }\n",
       "\n",
       "    .dataframe tbody tr th {\n",
       "        vertical-align: top;\n",
       "    }\n",
       "\n",
       "    .dataframe thead th {\n",
       "        text-align: right;\n",
       "    }\n",
       "</style>\n",
       "<table border=\"1\" class=\"dataframe\">\n",
       "  <thead>\n",
       "    <tr style=\"text-align: right;\">\n",
       "      <th></th>\n",
       "      <th>Facility</th>\n",
       "      <th>Total GHG</th>\n",
       "    </tr>\n",
       "  </thead>\n",
       "  <tbody>\n",
       "    <tr>\n",
       "      <th>0</th>\n",
       "      <td>3M Corona</td>\n",
       "      <td>113599.0</td>\n",
       "    </tr>\n",
       "    <tr>\n",
       "      <th>1</th>\n",
       "      <td>AAK Richmond</td>\n",
       "      <td>24951.0</td>\n",
       "    </tr>\n",
       "    <tr>\n",
       "      <th>2</th>\n",
       "      <td>AB&amp;I Foundry</td>\n",
       "      <td>0.0</td>\n",
       "    </tr>\n",
       "    <tr>\n",
       "      <th>3</th>\n",
       "      <td>ABI Foundry</td>\n",
       "      <td>125738.0</td>\n",
       "    </tr>\n",
       "    <tr>\n",
       "      <th>4</th>\n",
       "      <td>ACE Cogeneration</td>\n",
       "      <td>2906407.0</td>\n",
       "    </tr>\n",
       "    <tr>\n",
       "      <th>...</th>\n",
       "      <td>...</td>\n",
       "      <td>...</td>\n",
       "    </tr>\n",
       "    <tr>\n",
       "      <th>807</th>\n",
       "      <td>Wildflower Energy, LP - Larkspur Energy Facili...</td>\n",
       "      <td>321222.0</td>\n",
       "    </tr>\n",
       "    <tr>\n",
       "      <th>808</th>\n",
       "      <td>Windset Farms</td>\n",
       "      <td>271116.0</td>\n",
       "    </tr>\n",
       "    <tr>\n",
       "      <th>809</th>\n",
       "      <td>Wm. Bolthouse Farms, Inc.</td>\n",
       "      <td>295071.0</td>\n",
       "    </tr>\n",
       "    <tr>\n",
       "      <th>810</th>\n",
       "      <td>Woodland Biomass Power, Ltd</td>\n",
       "      <td>2703365.0</td>\n",
       "    </tr>\n",
       "    <tr>\n",
       "      <th>811</th>\n",
       "      <td>Yuba City Cogeneration Partners LP</td>\n",
       "      <td>228127.0</td>\n",
       "    </tr>\n",
       "  </tbody>\n",
       "</table>\n",
       "<p>812 rows × 2 columns</p>\n",
       "</div>"
      ],
      "text/plain": [
       "                                              Facility  Total GHG\n",
       "0                                            3M Corona   113599.0\n",
       "1                                         AAK Richmond    24951.0\n",
       "2                                         AB&I Foundry        0.0\n",
       "3                                          ABI Foundry   125738.0\n",
       "4                                     ACE Cogeneration  2906407.0\n",
       "..                                                 ...        ...\n",
       "807  Wildflower Energy, LP - Larkspur Energy Facili...   321222.0\n",
       "808                                      Windset Farms   271116.0\n",
       "809                          Wm. Bolthouse Farms, Inc.   295071.0\n",
       "810                        Woodland Biomass Power, Ltd  2703365.0\n",
       "811                 Yuba City Cogeneration Partners LP   228127.0\n",
       "\n",
       "[812 rows x 2 columns]"
      ]
     },
     "execution_count": 47,
     "metadata": {},
     "output_type": "execute_result"
    }
   ],
   "source": [
    "facility = df.groupby('Facility')['Total GHG'].sum().reset_index()\n",
    "facility"
   ]
  },
  {
   "cell_type": "code",
   "execution_count": 46,
   "id": "a066590f",
   "metadata": {},
   "outputs": [
    {
     "data": {
      "application/vnd.plotly.v1+json": {
       "config": {
        "plotlyServerURL": "https://plot.ly"
       },
       "data": [
        {
         "branchvalues": "total",
         "domain": {
          "x": [
           0,
           1
          ],
          "y": [
           0,
           1
          ]
         },
         "hovertemplate": "labels=%{label}<br>Total GHG=%{value}<br>parent=%{parent}<br>id=%{id}<extra></extra>",
         "ids": [
          "3M Corona",
          "AAK Richmond",
          "AB&I Foundry",
          "ABI Foundry",
          "ACE Cogeneration",
          "AES Alamitos, LLC",
          "AES Huntington Beach, LLC",
          "AES Redondo Beach LLC",
          "APS Energy Services Company, Inc.",
          "Aemetis Advanced Fuels Keyes, Inc.",
          "Aera Energy Belridge Gas Plant 32",
          "Aera Energy Coastal Basins",
          "Aera Energy LLC, 25 Hill, 93252",
          "Aera Energy LLC, Alberta, Finley, Shale, 93224",
          "Aera Energy LLC, Anderson Fitzgerald, 93251",
          "Aera Energy LLC, Belridge, 93251",
          "Aera Energy LLC, Buena Fe, 93224",
          "Aera Energy LLC, Calso, 93251",
          "Aera Energy LLC, Coalinga, 93210",
          "Aera Energy LLC, Lost Hills, 93251",
          "Aera Energy LLC, MOCO, D&E, 93252",
          "Aera Energy LLC, Metson, 93252",
          "Aera Energy LLC, San Ardo, 93450",
          "Aera Energy LLC, Ventura Avenue, 93301",
          "Aera Energy San Joaquin Basin",
          "Aera Energy Ventura Basin (opt-in 2014)",
          "Aera Energy Ventura Gas Plant",
          "Aerojet Rocketdyne",
          "Agrium US Inc",
          "Air Liquide El Segundo Hydrogen Plant",
          "Air Liquide Large Industries US L.P. - Rodeo Hydrogen Plant",
          "Air Products & Chemicals, Inc., Martinez",
          "Air Products - APMC - Stockton CoGen",
          "Air Products Carson Hydrogen Plant",
          "Air Products Manufacturing Corporation, Sacramento",
          "Air Products Wilmington Hydrogen Plant",
          "Algonquin Power Sanger, LLC",
          "All American Asphalt - Corona",
          "All American Asphalt - Irvine",
          "All American Oil & Gas. Inc.",
          "Allergan",
          "Alon Asphalt Company - Elk Grove Asphalt Terminal",
          "Alon Bakersfield Refinery - Area 3",
          "Alon Bakersfield Refinery - Areas 1&2",
          "Alstyle Apparel",
          "AltaGas Pomona Energy Inc (San Gabriel Energy Facility)",
          "AltaGas Ripon Energy Inc.",
          "Ameresco Chiquita Energy LLC",
          "Ameresco Forward LLC",
          "Ameresco Half Moon Bay",
          "Ameresco Keller Canyon",
          "Ameresco San Joaquin LLC ",
          "Ameresco Santa Cruz",
          "Ameresco Vasco Road",
          "Amgen Inc.",
          "Ampersand Chowchilla Biomass, LLC, 93610",
          "Ampine: A Division of Timber Products",
          "Anheuser-Busch LLC - Fairfield (opt-in 2013)",
          "Anheuser-Busch LLC - Los Angeles Brewery",
          "Apple Inc - Bloom Energy Servers",
          "Applied Energy LLC - NAS North Island",
          "Applied Energy LLC - NTC/MCRD",
          "Applied Energy LLC - U.S. Naval Station",
          "Arcturus Manufacturing",
          "Ardagh Glass Inc.",
          "Avenal State Prison",
          "Azteca Milling, L.P.",
          "BFI/ Sunshine Canyon City/County Landfill",
          "BWP/MPP Electricity Generating Facilities at 164 W. Magnolia",
          "Badger Creek Limited",
          "Baker Commodities, Inc., Kerman Division",
          "Baker Commodities, Inc., Vernon Division",
          "Baxalta US Inc.",
          "Bayer Healthcare",
          "Bear Mountain Limited",
          "Berry Petroleum Company - Ethel D",
          "Berry Petroleum Company - Homebase",
          "Berry Petroleum Company - North Midway Sunset",
          "Berry Petroleum Company - Placerita",
          "Berry Petroleum Company - Poso Creek",
          "Berry Petroleum Company - San Joaquin Basin",
          "Big Valley Power LLC",
          "Biola University",
          "Blue Lake Power",
          "Blythe Energy",
          "Bottle Rock Power - Geothermal",
          "Bowerman Power LFG, LLC",
          "Braun Medical Inc",
          "Brea Generation, LLC",
          "Breitburn Operating LP - Los Angeles Basin Facility",
          "Bridge Energy, LLC",
          "Buena Vista Biomass Power, LLC",
          "Burbank Water And Power (Generating Facility)",
          "Burney Forest Products",
          "Byron Power Partners LP",
          "CMO Inc",
          "CP Kelco San Diego",
          "CalEnergy Operating Corporation - J J Elmore - Geothermal",
          "CalEnergy Operating Corporation - J M Leathers - Geothermal",
          "CalEnergy Operating Corporation - Region 1 - Geothermal",
          "CalEnergy Operating Corporation - Region 2 - Geothermal",
          "CalPeak Power - Border",
          "CalPeak Power - Enterprise",
          "CalPeak Power - Panoche, LLC",
          "CalPeak Power - Vaca Dixon, LLC",
          "CalPortland Company, Colton Plant",
          "CalPortland Company, Mojave Plant",
          "CalPortland Company, Oro Grande Plant",
          "California Dairies, Inc. Artesia",
          "California Dairies, Inc. Fresno",
          "California Dairies, Inc. Los Banos",
          "California Dairies, Inc. Tipton",
          "California Dairies, Inc. Turlock",
          "California Dairies, Inc. Visalia",
          "California Institute of Technology (CalTech)",
          "California Medical Facility",
          "California Natural Products",
          "California Paperboard Corporation (opt-in 2013)",
          "California Polytechnic State University",
          "California Power Holdings, LLC-Chowchilla Facility, 95360",
          "California Power Holdings, LLC-Red Bluff Facility, 96080",
          "California Resources Elk Hills, LLC - 35R Gas Plant",
          "California Resources Production Corporation - 760 Los Angeles Basin",
          "California Resources Production Corporation - SCVGP Gas Plant",
          "California Resources Production Corporation - Sacramento Valley Basin 730",
          "California Resources Production Corporation - San Joaquin Valley Basin 745",
          "California Resources Production Corporation - Ventura Basin 755",
          "California State Prison - Corcoran",
          "California State Prison - Sacramento",
          "California State University, Channel Islands",
          "California State University, Fullerton",
          "California State University, San Diego",
          "California State University, San Jose",
          "California Steel Industries",
          "Calpine - CCFC Sutter Energy, LLC",
          "Calpine - Creed Energy Center, LLC",
          "Calpine - Delta Energy Center, LLC",
          "Calpine - Geysers Power Company, LLC - Geothermal",
          "Calpine - Gilroy Cogen, L.P., Gilroy Cogen_Peaker",
          "Calpine - Gilroy Energy Center, LLC For Lambie Energy Center",
          "Calpine - Gilroy Energy Center, LLC, Feather River",
          "Calpine - Gilroy Energy Center, LLC, Gilroy Peaker",
          "Calpine - Gilroy Energy Center, LLC, King City Peaker",
          "Calpine - Gilroy Energy Center, LLC, Riverview Peaker",
          "Calpine - Gilroy Energy Center, LLC, Wolfskill Peaker",
          "Calpine - Goose Haven Energy Center, Peaker",
          "Calpine - King City Cogen, LLC, King City Cogen_Peaker",
          "Calpine - Los Esteros Critical Energy Facility, LLC",
          "Calpine - Los Medanos Energy Center, LLC",
          "Calpine - Metcalf Energy Center, LLC",
          "Calpine - Monterey Cogeneration, Inc., Watsonville",
          "Calpine - O.L.S. Energy - Agnews Inc. 95134",
          "Calpine - Otay Mesa Energy Center",
          "Calpine - Pastoria Energy Facility L.L.C.",
          "Calpine - Russell City Energy Center",
          "Calpine - Yuba City Energy Center (Gilroy Energy Center, LLC)",
          "Campbell Soup Supply Company - Sacramento",
          "Campbell Soup Supply Company, L.L.C. - Dixon",
          "Campbell Soup Supply Company, L.L.C. - Stockton",
          "Canyon Power Project (CPP)",
          "Cardinal Cogen",
          "Cargill Salt Operations",
          "Carlsbad Energy Center Project",
          "Carlton Forge Works",
          "Carson Cogeneration Co",
          "Cedars-Sinai Medical Center",
          "Cemex - Cement Plant Davenport",
          "Cemex Construction Materials Pacific LLC - Victorville Plant",
          "Central Contra Costa Sanitary District",
          "Central Valley Meat",
          "CertainTeed Corporation",
          "Chalk Cliff Limited",
          "Chemical Lime Company",
          "Chemtrade West US, LLC",
          "Chevron 17Z Gas Plant",
          "Chevron AAPG 740 Coastal Basin",
          "Chevron AAPG 745 San Joaquin Basin",
          "Chevron Business and Real Estate Services, 94520",
          "Chevron Energy Solutions, 93272",
          "Chevron Products Company - El Segundo Refinery, 90245",
          "Chevron Products Company - Richmond Refinery, 94802",
          "Chevron U.S.A Inc - Coalinga Asset, 93210",
          "Chevron U.S.A Inc - Cymric Asset, 93251",
          "Chevron U.S.A Inc - Kern River Asset, 93308",
          "Chevron U.S.A Inc - Lost Hills Asset, 93249",
          "Chevron U.S.A Inc - Midway Sunset Asset, 93225",
          "Chevron U.S.A Inc - San Ardo Asset, 93540",
          "Children's Hospital Los Angeles",
          "Chino Basin Desalter Authority",
          "Chiquita Canyon Landfill",
          "Chula Vista Energy Center",
          "City Of Santa Rosa Wastewater",
          "City of Anaheim, Combustion Turbine Generator",
          "City of Colton - Generation",
          "City of Hope National Medical Center",
          "City of Palo Alto Water Quality Control Treatment Plant",
          "City of Riverside, Public Works Department, Regional H2O Plant",
          "City of Roseville - Roseville Power Plant #2",
          "City of San Diego, Public Utilities Dept, North City Water Reclamation Plant",
          "City of San Diego, Public Utilities Dept, Point Loma Treatment Plant",
          "City of San Diego, Public Utilities Dept, Pump Station 2",
          "City of Santa Cruz Wastewater Treatment",
          "Civic Center Cogen, LA County",
          "Clougherty Packing, LLC",
          "Coalinga Cogeneration Facility",
          "Collins Pine Co.",
          "Colmac Energy, Inc. 92254",
          "ConAgra - Oakdale",
          "ConAgra Foods - Helm Facility",
          "Coolwater Generating Station",
          "Corona Energy Partners, Ltd.",
          "Coso Energy Developers (BLM E&W) - Geothermal",
          "Coso Finance Partners (Navy I) - Geothermal",
          "Coso Power Developers (Navy II) - Geothermal",
          "Covanta - Burney Mountain Power",
          "Covanta - Delano, Inc.",
          "Covanta - Mendota",
          "Covanta - Mt. Lassen Power",
          "Covanta - Pacific Oroville Power Inc",
          "Covanta - Pacific Recovery Corp - Salinas Facility",
          "Covanta - Pacific Recovery Corporation - Oxnard Facility",
          "Covanta - Stanislaus, Inc",
          "Crestwood West Coast, LLC",
          "Crimson Resource Management Corp",
          "Criterion Catalyst and Technologies, L. P.",
          "Crockett Cogeneration Project, LP",
          "Custom Alloy Light Metals, Inc.",
          "DG Fairhaven Power LLC",
          "DSH-Napa State Hospital",
          "DST Output, LLC",
          "DTE Stockton, LLC",
          "Darling Ingredients Inc - Fresno",
          "Darling Ingredients Inc - Los Angeles",
          "Darling Ingredients Inc - Turlock",
          "Dart Container Corporation of California",
          "DeMenno/Kerdoon",
          "Del Monte - Hanford",
          "Del Monte - Modesto",
          "Delano Energy Center, LLC",
          "Delano Growers Grape Products",
          "Diamond Pet Food Processors of California, LLC - Lathrop",
          "Diamond Pet Food Processors of California, LLC - Ripon",
          "Dicalite Minerals Corp.",
          "Dinuba Energy",
          "Disneyland Resort",
          "Double C Limited",
          "Dow Chemical",
          "Dow Chemical Company - Pittsburg",
          "Dublin San Ramon Services District",
          "Dynegy Morro Bay, LLC",
          "Dynegy Moss Landing, LLC",
          "Dynegy Oakland, LLC.",
          "Dynegy South Bay, LLC",
          "E & J Gallo Winery - Fresno",
          "E & J Gallo Winery - Livingston",
          "E&B Natural Resources - San Joaquin Valley",
          "E.F. Oxnard LLC",
          "ERG Operating Company, LLC. 750 Santa Maria Basin",
          "Eagle Petroleum - Lynch Canyon Field",
          "East Bay Municipal Utility District",
          "Eco Services - Dominguez",
          "Eco Services - Martinez",
          "Edgington Oil Company",
          "Edwards Air Force Base",
          "Eisenhower Medical Center",
          "El Cajon Energy, LLC",
          "Elk Hills Power, LLC",
          "Emidio Pump Station - Shell Pipeline Company",
          "Encina Water Pollution Control Facility",
          "Energy 2001, Placer WRSL",
          "Equinix - Great Oaks",
          "Equinix - Lundy",
          "Equinix Caspian - Bloom Energy Servers",
          "Equinix Duane - Bloom Energy Servers",
          "Escalon Premier Brands, a Division of Kraft Heinz Company",
          "Escondido Energy Center, LLC",
          "Etiwanda Generating Station",
          "Exide Technologies",
          "ExxonMobil - South Belridge Hill",
          "ExxonMobil LFC Facility",
          "ExxonMobil POPCO Facility",
          "ExxonMobil SYU Project",
          "Fairfield-Suisun Sewer District",
          "FlexEnergy Energy Systems - Project East, LLC.",
          "Forged Metals, Inc.",
          "Foster Dairy Farms DBA Crystal Creamery",
          "Foster Farms Porterville Plant ",
          "Foster Farms Traver Complex ",
          "Foster Poultry Farms - Livingston Complex, 95334",
          "Freeport-McMoRan Oil & Gas LLC - Gaviota Oil Heating Facility",
          "Fresno Cogeneration Partners, LP",
          "Fresno-Clovis Regional Wastewater Reclamation Facility",
          "Frito Lay - Kern Plant",
          "Frito Lay - Modesto",
          "Frito Lay - Rancho Cucamonga",
          "G2 Energy Ostrom Road, LLC",
          "GWF Power Systems, L.P., East Third Street Power Plant",
          "GWF Power Systems, L.P., Loveridge Road Power Plant",
          "GWF Power Systems, L.P., Nichols Road Power Plant",
          "GWF Power Systems, L.P., Wilbur East Power Plant",
          "GWF Power Systems, L.P., Wilbur West Power Plant",
          "Gallo Glass Company",
          "Gas Recovery Systems - Coyote Canyon",
          "Gas Recovery Systems LLC ? American Canyon",
          "Gas Recovery Systems LLC ? Guadalupe",
          "Gas Recovery Systems LLC ? Menlo Park",
          "GenOn Delta, Contra Costa Generating Station 94509",
          "GenOn Delta, Pittsburg Generating Station 94565",
          "GenOn Potrero, LLC",
          "GenPower Lincon Landfill Power Plant",
          "Genentech - Vacaville",
          "Genentech Inc South San Francisco",
          "General Chemical Corporation",
          "General Mills Cereal Properties, LLC",
          "Georgia-Pacific Gypsum LLC - Antioch",
          "Georgia-Pacific Gypsum LLC - San Leandro",
          "Goal Line LP, 92025",
          "Goodrich Corporation",
          "Graphic Packaging International, Inc",
          "Grayson Power Plant",
          "Greka Santa Maria Refinery ",
          "Guardian Industries, LLC",
          "HGST, Inc",
          "HL Power Company",
          "Hanford Energy Park Peaker",
          "Hanford L.P., GWF, Hanford Power Plant",
          "Harbor Cogeneration Company, LLC",
          "Harris Ranch Beef Company",
          "Heber Geothermal Co.",
          "Henrietta Peaker Plant",
          "High Desert Power Project, LLC",
          "High Sierra Cogeneration",
          "High Sierra Limited",
          "Hilmar Cheese Company",
          "Hilmar Cheese, Inc. - Turlock Facility",
          "Hoag Memorial Hospital Presbyterian",
          "Holmes Western Oil Corporation",
          "Hood Dairy",
          "Houweling Nurseries Oxnard, Inc",
          "Hudson Ranch Power I - Geothermal",
          "Humboldt Flakeboard Panels, Inc.",
          "Humboldt Sawmill Company",
          "Huntington Memorial Hospital",
          "Hyperion Water Reclamation Plant",
          "IBE Project - Bloom Energy Servers",
          "Imerys Minerals California, Inc.",
          "Imperial Irrigation District (IID), Coachella",
          "Imperial Irrigation District (IID), El Centro Generating Station",
          "Imperial Irrigation District (IID), Niland Gas Turbine Plant",
          "Imperial Irrigation District (IID), Rockwood",
          "Imperial Valley Resource Recovery, LLC",
          "Ingomar Packing Company",
          "Ingredion Incorporated Stockton Plant",
          "Inland Empire Energy Center, LLC.",
          "Inland Empire Utilities Agency RP-1",
          "Ivanpah Solar Electric Generating System",
          "J. G. Boswell Tomato Company Kern",
          "J.G. Boswell Company West Processing Townsite",
          "J.G.Boswell Tomato Company Kings",
          "JP Oil",
          "JR Simplot Company",
          "JRW Associates LP",
          "John Wayne Airport Orange County",
          "Johns Manville (opt-in 2013)",
          "Johnson & Johnson, PRD, L.L.C.",
          "K2 Pure Solutions, Inc",
          "KES Kingsburg L.P.--Kingsburg Cogeneration Facility",
          "Kaiser Aluminum Fabricated Products, LLC",
          "Kaiser Permanente - Bloom Energy Servers",
          "Kaweah Delta Medical Center",
          "Kern Front Limited",
          "Kern Oil Refinery",
          "Kern River Cogeneration Facility",
          "Keysight Technologies Inc - Bloom Energy Servers",
          "Kiefer Landfill, Department of Waste Management and Recycling",
          "Kimberly Clark Worldwide Inc.",
          "Kirby Hills Compressor Station",
          "Knauf Insulation",
          "Kraft Heinz Foods Company - Tulare",
          "Kyocera International Inc.",
          "LAC+USC Medical Center",
          "LACSD - Calabasas LF",
          "LACSD - Commerce Refuse To Energy",
          "LACSD - Joint Water Pollution Control Plant",
          "LACSD - Palos Verdes Gas to Energy Facility",
          "LACSD - Puente Hills Landfill",
          "LACSD - Spadra Landfill",
          "LWFP LLC",
          "La Paloma Generating Plant - GHG",
          "Land O' Lakes, Inc.",
          "Lawrence Livermore National Laboratory (LLNL)",
          "Lehigh Southwest Cement Co - Cupertino",
          "Lehigh Southwest Cement Co - Redding",
          "Lehigh Southwest Cement Co - Tehachapi",
          "Leprino Foods - Lemoore East",
          "Leprino Foods - Lemoore West",
          "Leprino Foods - Tracy",
          "Lhoist North America - Natividad Plant",
          "Liberty Packing - Los Banos (Morning Star)",
          "Live Oak Limited",
          "Lockheed Martin Aeronautics Company - Palmdale",
          "Lockheed Martin Corporation - Sunnyvale",
          "Lodi Compressor Station",
          "Lodi Energy Center",
          "Loma Linda University",
          "Lompoc Field Stationary Source",
          "Lopez Canyon Landfill",
          "Los Angeles Department of Water & Power-Harbor Generating Station (LADWP)",
          "Los Angeles Department of Water & Power-Haynes Generating Station (LADWP)",
          "Los Angeles Department of Water & Power-Scattergood Generating Station (LADWP)",
          "Los Angeles Department of Water & Power-Valley Generating Station (LADWP)",
          "Los Angeles International Airport (LAX)",
          "Los Gatos Tomato Products",
          "Lunday-Thagard Company, DBA World Oil Refining",
          "Luz Solar Partners LTD",
          "Luz Solar Partners LTD VIII & IX",
          "MAGTFTC MCAGCC Twentynine Palms",
          "MATRIX OIL CORP",
          "MM Lopez Energy LLC",
          "MM Prima Deshecha Energy LLC",
          "MM San Diego LLC - North City",
          "MM Tajiguas Energy LLC",
          "MM Tulare Energy LLC",
          "MM West Covina LLC",
          "MM Yolo Power LLC",
          "MP Mine Operations LLC",
          "Macpherson Oil Company",
          "Madera Power LLC",
          "Magnolia Power Plant, SCPPA (Generating Facility/Unit)",
          "Malaga Power, LLC",
          "Malburg Generating Station",
          "Mandalay Generating Station",
          "Mariposa Energy LLC",
          "Martinez Cogen Limited Partnership",
          "Maruchan, Inc. - Laguna Canyon",
          "Matchmaster Dyeing & Finishing",
          "Matsui Nursery, Inc.",
          "McKittrick Limited",
          "Merced Power, LLC, 95340",
          "Mesa Consolidated Water District Well #5",
          "Metal Coaters of California",
          "Metropolitan State Hospital",
          "Mid-Set Cogeneration Facility",
          "Midway Peaking, LLC",
          "Midway-Sunset Cogeneration",
          "Milk Specialties Global",
          "MillerCoors USA LLC.",
          "Mira Loma Metal Container Corp",
          "Miramar - MM and Miramar Energy",
          "Mission Bell Winery ",
          "Mission Foods Corporation",
          "Mitsubishi Cement 2000",
          "Mizkan America, Inc.",
          "Modesto Irrigation District (MID) - Woodland Generation Station, 95351",
          "Modesto Irrigation District (MID), Sconza Candy",
          "Modesto Irrigation District - McClure Generation Station, 95357",
          "Modesto Irrigation District - Ripon Generation Station, 95366",
          "Mojave Cogeneration Co",
          "Monterey Regional Waste Management District",
          "Monterey Regional Water Pollution Control Agency, Cogen, 93933",
          "Morning Star Packing Company - Los Banos",
          "Morning Star Packing Company - Williams",
          "Morton Salt, Inc.",
          "Mountain Utilities (MU) Power House",
          "Mt. Poso Cogeneration Company",
          "NALF San Clemente Island",
          "NASA Ames Research Center",
          "NBVC San Nicolas Island",
          "NCPA - CT1 Alameda",
          "NM Colton Genco LLC",
          "NM Mid Valley Genco, LLC",
          "NM Milliken Genco LLC",
          "NOVE Power Plant",
          "NRG Energy - El Cajon",
          "NRG Energy - El Segundo",
          "NRG Energy - Encina",
          "NRG Energy - Kearny 1",
          "NRG Energy - Kearny 2 and 3",
          "NRG Energy - Long Beach",
          "NRG Energy - Miramar",
          "NRG Energy - San Francisco Thermal",
          "NRG, Marsh Landing Generating Station ",
          "Naftex Operating Company",
          "National Beef",
          "National Cement Company - Lebec",
          "National Training Center & Fort Irwin",
          "Naval Air Station Lemoore",
          "Naval Air Station North Island",
          "Naval Air Weapons Station China Lake",
          "Naval Medical Center - San Diego",
          "New NGC, Inc - Long Beach",
          "New NGC, Inc - Richmond",
          "New United Motor Manufacturing, NUMMI",
          "New-Indy Ontario, LLC Linerboard Mill",
          "New-Indy Oxnard LLC",
          "Newark Pacific Paperboard (opt-in 2013)",
          "Newby Island , 95134",
          "Newby Island II, 95134",
          "Newport Fab, LLC (DBA TowerJazz Semiconductor)",
          "Nong Shim America, Inc.",
          "Nor-Cal Beverage Company, Inc. - Anaheim",
          "Northern California Power Agency - Alameda Combustion Turbine Project No. 1",
          "Northern California Power Agency - Geothermal Plant No. 1",
          "Northern California Power Agency - Geothermal Plant No. 2",
          "Northern California Power Agency - Lodi Combustion Turbine Proj No. 1",
          "Northern California Power Agency - Lodi Combustion Turbine Proj No. 2 - STIG",
          "Northrop Grumman - Palmdale",
          "Northrop Grumman Marine Systems - Sunnyvale",
          "Northrop Grumman Mission Systems - San Diego",
          "Northrop Grumman Systems Corp. - Redondo Beach",
          "Northrop Grumman Systems Corporation - El Segundo",
          "OLS Energy Chino",
          "Oildale Energy LLC",
          "Olam West Coast Inc - Williams",
          "Olam West Coast Inc- Lemoore",
          "Olam West Coast, Inc. - Firebaugh",
          "Olam West Coast, Inc. - Gilroy",
          "Olive View Medical Center, Los Angeles County Department of Health Services",
          "Orange County Central Utility Facility",
          "Orange County Sanitation District - Plant 1",
          "Orange County Sanitation District - Plant 2",
          "Orange County Waste & Recycling/ Frank R. Bowerman Landfill",
          "Orange County Waste & Recycling/ Olinda Alpha Landfill",
          "Orange Grove Energy Center",
          "Orange Plant - R.J. Noble",
          "Ormat Nevada, Inc. / ORNI 18 North Brawley - Geothermal",
          "Ormat Nevada, Inc./ GEM 2 & 3 - Geothermal",
          "Ormond Beach Generating Station",
          "Oroville Cogeneration, L.P. 95966",
          "Otay Landfill Gas LLC",
          "Otay Solid Waste Landfill",
          "Owens Corning Insulating Systems, LLC Santa Clara",
          "Owens Corning Roofing and Asphalt, LLC",
          "Owens-Brockway Glass Container, Oakland",
          "Owens-Brockway Glass Container, Tracy",
          "Owens-Brockway Glass Container, Vernon",
          "Ox Mountain Landfill",
          "Oxnard Wastewater Treatment Plant",
          "Oxy - Occidental Of Elk Hills, Inc.",
          "Oxy - Thums Long Beach Company",
          "Oxy - Vintage Production California LLC--Grubb Facility",
          "PABCO Clay Products, LLC, dba Gladding McBean",
          "PABCO Gypsum Newark",
          "PABCO Paper",
          "PE-Berkeley, Inc",
          "PG&E Burney Compressor Station",
          "PG&E Colusa Generating Station",
          "PG&E Delevan Compressor Station",
          "PG&E Gateway Generating Station",
          "PG&E Gerber Compressor Station",
          "PG&E Hinkley Compressor Station",
          "PG&E Humboldt Bay Generating Station",
          "PG&E Kettleman Compressor Station",
          "PG&E McDonald Island Underground Storage Station",
          "PG&E Tionesta Compressor Station",
          "PG&E Topock Compressor Station",
          "Pacific Clay Products",
          "Pacific Coast Energy Company LP",
          "Pacific Coast Producers",
          "Pacific Continental Textiles",
          "Pacific Ethanol Madera, LLC",
          "Pacific Ethanol Stockton, LLC",
          "Pacific Ultrapower Chinese",
          "Pactiv - Red Bluff",
          "Palo Alto V.A. Health Care System Division",
          "Panoche Energy Center, LLC",
          "Paramount Petroleum Corporation ",
          "Pasadena Water and Power, Broadway",
          "Pasadena Water and Power, Glenarm",
          "Peet's Coffee",
          "Penrose Landfill Gas Conversion, LLC",
          "Phillips 66 Company - Los Angeles Refinery - Carson Plant",
          "Phillips 66 Company - Los Angeles Refinery - Wilmington Plant",
          "Phillips 66 Company - San Francisco Carbon Plant",
          "Phillips 66 Company - San Francisco Refinery",
          "Phillips 66 Company - Santa Maria Refinery",
          "Pilkington Glass North America, Lathrop Plant",
          "Pio Pico Energy Center",
          "Pitchess Cogeneration Station",
          "Pixley Cogeneration Partners / Calgren Renewable Fuels",
          "Plains Exploration & Production Company - Cymric Facility",
          "Plains Exploration & Production Company - MWSS Facility",
          "Plains Exploration & Production Company - South Belridge Facility",
          "Plains LPG Services/ Lone Star Frac & Isom Facility",
          "Potrero Hills Energy Producers, LLC",
          "Praxair Inc.",
          "Press Forge Co",
          "Prime Wheel Corporation",
          "ProEnergy - Greenleaf Energy Unit 1, LLC",
          "ProEnergy - Greenleaf Energy Unit 2, LLC",
          "Procter & Gamble Manufacturing Co. - Sacramento Plant (opt-in 2017)",
          "Qualcomm, Inc. - Morehouse Facility",
          "Qualcomm, Inc. - Pacific Center Facility",
          "Quemetco, Inc.",
          "RCWMD Badlands Power Plant",
          "Rady Children's Hospital San Diego",
          "Redding Electric Utility - Redding Power Generation",
          "Richard J Donovan Correctional Facility",
          "Rio Bravo Fresno",
          "Rio Bravo Jasmin",
          "Rio Bravo Poso",
          "Rio Bravo Rocklin",
          "Rio Tinto - Wilmington",
          "Riverside Public Utilities - Clearwater Facility",
          "Riverside Public Utilities - Riverside Energy Resource Center",
          "Riverside Public Utilities - Springs Facility",
          "Rohr, Inc. a UTC Aerospace Systems Company-Cogen Plant",
          "Roseburg Forest Products",
          "Roseville Electric, Roseville Energy Park",
          "SB Channel (Onshore)",
          "SDG&E - Cuyamaca Peak Energy Plant",
          "SDG&E - Miramar Energy Facility",
          "SDG&E - Moreno Compressor Station",
          "SDG&E - Palomar Energy Center",
          "SFPP L.P. - Colton Terminal",
          "SRI International Cogen Project",
          "Sacramento Municipal Utility District (SMUD) , Carson Ice CG",
          "Sacramento Municipal Utility District (SMUD) , Cosumnes Power Plant",
          "Sacramento Municipal Utility District (SMUD) , McClellan",
          "Sacramento Municipal Utility District (SMUD) , SCA",
          "Sacramento Municipal Utility District (SMUD) , SPA",
          "Sacramento Rendering Company",
          "Saddleback Community College",
          "Safety-Kleen of California Inc.",
          "Saint Agnes Medical Center",
          "Saint Bernardine Medical Center",
          "Salinas River Cogeneration Facility",
          "San Benito Foods",
          "San Bernardino County Solid Waste Mgmt - MVSL",
          "San Francisco General Hospital",
          "San Francisco International Airport (SFO)",
          "San Francisco Southeast Treatment Plant",
          "San Joaquin Cogen LLC",
          "San Joaquin Cogen, LLC",
          "San Joaquin Refining Company",
          "San Jose/Santa Clara Regional Wastewater Facility",
          "San Marcos Energy LLC",
          "Santa Barbara Cottage Hospital",
          "Santa Clara Valley Medical Center",
          "Santa Cruz Energy LLC",
          "Santa Maria Energy, LLC, Careaga Lease",
          "Saputo Cheese USA Inc. - Newman",
          "Saputo Cheese USA Inc. - Paige",
          "Saputo Cheese USA Inc.- Levin",
          "Sargent Canyon Cogeneration Facility",
          "Schlosser Forge Company",
          "Searles Valley Minerals Inc.",
          "Seneca Foods Corporation ",
          "Seneca Resources - Midway Sunset",
          "Seneca Resources - North Lost Hills",
          "Seneca San Joaquin Production Facilities",
          "Sensient Natural Ingredients LLC",
          "Sentinel Energy Center, LLC",
          "Sentinel Peak Resources - SJV Basin Facility",
          "Sentinel Peak Resources- Arroyo Grande Oil Production Facility",
          "Setton Pistachio of Terra Bella, Inc",
          "Sharp Grossmont Hospital",
          "Shasta Renewable Resources, LLC",
          "Shell Chemical LP - Martinez Catalyst Plant",
          "Shell Oil Products US - Martinez",
          "Shultz Steel Company",
          "Sierra Aluminum Company",
          "Sierra Pacific Industries (SPI) - Anderson, 96007",
          "Sierra Pacific Industries (SPI) - Arcata",
          "Sierra Pacific Industries (SPI) - Burney",
          "Sierra Pacific Industries (SPI) - Camino",
          "Sierra Pacific Industries (SPI) - Lincoln",
          "Sierra Pacific Industries (SPI) - Loyalton",
          "Sierra Pacific Industries (SPI) - Quincy Division",
          "Sierra Pacific Industries (SPI) - Shasta Lake",
          "Sierra Pacific Industries (SPI) - Sonora",
          "Sierra Pacific Power Company - Kings Beach Generating Facility",
          "Sierra Power Corporation, 93270",
          "Sierra Resources Santa Barbara Basin",
          "Signal Hill Petroleum Facilities",
          "Signal Hill Petroleum Inc",
          "Silicon Valley Power (SVP), City of Santa Clara , Cogen",
          "Silicon Valley Power (SVP), City of Santa Clara , DVR",
          "Silicon Valley Power (SVP), City of Santa Clara , Gianera",
          "Simi Valley Landfill and Recycling Center",
          "Soil Safe of California, Inc.",
          "Solano County Cogeneration Facility",
          "Solar Turbines Incorporated - Kearny Mesa",
          "Solar Turbines Incorporated - Pacific Highway",
          "Sonoma County Landfill Gas to Energy",
          "Sonoma Developmental Center",
          "South Orange County Wastewater Authority",
          "Southeast Resource Recovery Facility (SERRF)",
          "Southern California Edison (SCE) - Barre Peaker",
          "Southern California Edison (SCE) - Center Hybrid",
          "Southern California Edison (SCE) - Grapeland Hybrid",
          "Southern California Edison (SCE) - McGrath Peaker",
          "Southern California Edison (SCE) - Mira Loma Peaker",
          "Southern California Edison (SCE) - Mountainview Generating Station",
          "Southern California Edison (SCE) - Pebbly Beach",
          "Southern California Gas Co - Aliso Canyon Facility",
          "Southern California Gas Co - Blythe Facility",
          "Southern California Gas Co - Distribution",
          "Southern California Gas Co - Honor Rancho Facility",
          "Southern California Gas Co - Kelso Facility",
          "Southern California Gas Co - Newberry Springs Facility",
          "Southern California Gas Co - North Needles Facility",
          "Southern California Gas Co - South Needles Facility",
          "Southern California Gas Co - Wheeler Ridge Compressor Station",
          "Spreckels Sugar Company, Inc. - Mendota",
          "Spreckels Sugar Company, Inc.- Brawley",
          "Stanford University",
          "Stanislaus Food Products",
          "State of California Central Utility Plant - General Services",
          "Steelscape Inc.",
          "Stockton Landfill Gas LLC",
          "Styrotek",
          "SunOpta Aseptic",
          "SunSelect Produce (California) Inc",
          "Sunnyvale Water Pollution Control Plant",
          "Sunray Energy, Inc",
          "Sunrise Power Company",
          "Sunshine Gas Producers, LLC",
          "Superstore Industries",
          "Sycamore Cogeneration Facility",
          "Sycamore Energy LLC",
          "TAMCO",
          "TRC Cypress Group, LLC",
          "TST, Inc.",
          "TXI Riverside Cement (Crestmore Plant)",
          "Techni-Cast Corp.",
          "Teichert Materials",
          "Tesla, Inc.",
          "Tesoro Los Angeles Refinery - Wilmington Calciner",
          "Tesoro Refining & Marketing Company LLC - Los Angeles Refinery - Carson ",
          "Tesoro Refining and Marketing Co. - LAR",
          "Tesoro Refining and Marketing Co. - Martinez",
          "Tesoro Refining and Marketing Co. - SRP",
          "The P&G Paper Products Co.",
          "The Sun Valley Group",
          "Thermal Energy Development Partnership, L.P.",
          "Timber Products Company Yreka Veneer",
          "Toland Landfill - Ventura Regional Sanitation District",
          "Tomatek / Neil Jones Food Companies",
          "Torrance Refinery",
          "Toyon Landfill Gas Conversion, LLC",
          "Tracy Peaker Plant",
          "Tricor Refining, LLC",
          "Turlock Irrigation District (TID), Almond Power Plant",
          "Turlock Irrigation District (TID)/ Walnut",
          "Turlock Irrigation District/ Walnut Energy Center",
          "Tuscarora Gas Transmission - Shoetree Compressor Station",
          "U.S. Air Force, South Vandenberg Power Plant 93437",
          "U.S. Borax, 93516",
          "U.S. Gypsum Co Plaster City Plant",
          "UC Davis Medical Center",
          "USS-POSCO Industries",
          "Ultramar Inc - Valero Wilmington",
          "Union Sanitary District",
          "Union Tribune San Diego",
          "United Airlines, Inc. - San Francisco Maintenance Center",
          "United States Pipe & Foundry Co. LLC",
          "University of California, Berkeley",
          "University of California, Davis",
          "University of California, Irvine",
          "University of California, Los Angeles, UCLA",
          "University of California, Riverside, UCR",
          "University of California, San Diego, UCSD",
          "University of California, San Francisco",
          "University of California, Santa Barbara (opt-in 2015)",
          "University of California, Santa Cruz, UCSC EH&S Office",
          "University of Redlands",
          "University of Southern California (USC) - University Park Campus (UPC)",
          "VA Greater Los Angeles Healthcare System",
          "VA San Diego Healthcare System",
          "Valero Refining Company - California, Benicia Refinery and Benicia Asphalt Plant",
          "Valero Wilmington Asphalt Plant",
          "Valley Milk, LLC",
          "Vandenberg Air Force Base",
          "Vaquero Energy - Kern County",
          "Vaquero Energy - Santa Barbara County",
          "Venoco Inc",
          "Venoco Platform Gail",
          "Ventura Coastal",
          "Ventura Coastal LLC",
          "Victorville Municipal - Foxborough",
          "Victorville Municipal - Plant No. 2-SCLA",
          "Vintage Production California - Bakersfield",
          "Vintage Production California - Lost Hills",
          "Vista Metals Corp.",
          "Vitro Flat Glass LLC",
          "WP&A Firebaugh",
          "WP&A King",
          "WP&A Lost Hills",
          "WWF Operating Company",
          "Wadham Energy Ltd Partnership",
          "Walnut Creek Energy, LLC",
          "Waste Management - Altamont Landfill",
          "Waste Management - Bradley Landfill",
          "Waste Management - El Sobrante Landfill",
          "Waste Management - Redwood Landfill",
          "Waste Management - Redwood Landfill, Inc.",
          "Waste Management - Simi Valley Landfill",
          "Watkins Manufacturing Corporation",
          "Weber Metals",
          "Wellhead Power Gates, LLC",
          "Wellhead Power Panoche, LLC",
          "Western Milling, Goshen CA",
          "Wheelabrator Lassen Inc",
          "Wheelabrator Shasta Energy Company",
          "Wild Goose Storage LLC",
          "Wildflower Energy, LP - Indigo Generation, LLC",
          "Wildflower Energy, LP - Larkspur Energy Facility, LLC",
          "Windset Farms",
          "Wm. Bolthouse Farms, Inc.",
          "Woodland Biomass Power, Ltd",
          "Yuba City Cogeneration Partners LP"
         ],
         "labels": [
          "3M Corona",
          "AAK Richmond",
          "AB&I Foundry",
          "ABI Foundry",
          "ACE Cogeneration",
          "AES Alamitos, LLC",
          "AES Huntington Beach, LLC",
          "AES Redondo Beach LLC",
          "APS Energy Services Company, Inc.",
          "Aemetis Advanced Fuels Keyes, Inc.",
          "Aera Energy Belridge Gas Plant 32",
          "Aera Energy Coastal Basins",
          "Aera Energy LLC, 25 Hill, 93252",
          "Aera Energy LLC, Alberta, Finley, Shale, 93224",
          "Aera Energy LLC, Anderson Fitzgerald, 93251",
          "Aera Energy LLC, Belridge, 93251",
          "Aera Energy LLC, Buena Fe, 93224",
          "Aera Energy LLC, Calso, 93251",
          "Aera Energy LLC, Coalinga, 93210",
          "Aera Energy LLC, Lost Hills, 93251",
          "Aera Energy LLC, MOCO, D&E, 93252",
          "Aera Energy LLC, Metson, 93252",
          "Aera Energy LLC, San Ardo, 93450",
          "Aera Energy LLC, Ventura Avenue, 93301",
          "Aera Energy San Joaquin Basin",
          "Aera Energy Ventura Basin (opt-in 2014)",
          "Aera Energy Ventura Gas Plant",
          "Aerojet Rocketdyne",
          "Agrium US Inc",
          "Air Liquide El Segundo Hydrogen Plant",
          "Air Liquide Large Industries US L.P. - Rodeo Hydrogen Plant",
          "Air Products & Chemicals, Inc., Martinez",
          "Air Products - APMC - Stockton CoGen",
          "Air Products Carson Hydrogen Plant",
          "Air Products Manufacturing Corporation, Sacramento",
          "Air Products Wilmington Hydrogen Plant",
          "Algonquin Power Sanger, LLC",
          "All American Asphalt - Corona",
          "All American Asphalt - Irvine",
          "All American Oil & Gas. Inc.",
          "Allergan",
          "Alon Asphalt Company - Elk Grove Asphalt Terminal",
          "Alon Bakersfield Refinery - Area 3",
          "Alon Bakersfield Refinery - Areas 1&2",
          "Alstyle Apparel",
          "AltaGas Pomona Energy Inc (San Gabriel Energy Facility)",
          "AltaGas Ripon Energy Inc.",
          "Ameresco Chiquita Energy LLC",
          "Ameresco Forward LLC",
          "Ameresco Half Moon Bay",
          "Ameresco Keller Canyon",
          "Ameresco San Joaquin LLC ",
          "Ameresco Santa Cruz",
          "Ameresco Vasco Road",
          "Amgen Inc.",
          "Ampersand Chowchilla Biomass, LLC, 93610",
          "Ampine: A Division of Timber Products",
          "Anheuser-Busch LLC - Fairfield (opt-in 2013)",
          "Anheuser-Busch LLC - Los Angeles Brewery",
          "Apple Inc - Bloom Energy Servers",
          "Applied Energy LLC - NAS North Island",
          "Applied Energy LLC - NTC/MCRD",
          "Applied Energy LLC - U.S. Naval Station",
          "Arcturus Manufacturing",
          "Ardagh Glass Inc.",
          "Avenal State Prison",
          "Azteca Milling, L.P.",
          "BFI/ Sunshine Canyon City/County Landfill",
          "BWP/MPP Electricity Generating Facilities at 164 W. Magnolia",
          "Badger Creek Limited",
          "Baker Commodities, Inc., Kerman Division",
          "Baker Commodities, Inc., Vernon Division",
          "Baxalta US Inc.",
          "Bayer Healthcare",
          "Bear Mountain Limited",
          "Berry Petroleum Company - Ethel D",
          "Berry Petroleum Company - Homebase",
          "Berry Petroleum Company - North Midway Sunset",
          "Berry Petroleum Company - Placerita",
          "Berry Petroleum Company - Poso Creek",
          "Berry Petroleum Company - San Joaquin Basin",
          "Big Valley Power LLC",
          "Biola University",
          "Blue Lake Power",
          "Blythe Energy",
          "Bottle Rock Power - Geothermal",
          "Bowerman Power LFG, LLC",
          "Braun Medical Inc",
          "Brea Generation, LLC",
          "Breitburn Operating LP - Los Angeles Basin Facility",
          "Bridge Energy, LLC",
          "Buena Vista Biomass Power, LLC",
          "Burbank Water And Power (Generating Facility)",
          "Burney Forest Products",
          "Byron Power Partners LP",
          "CMO Inc",
          "CP Kelco San Diego",
          "CalEnergy Operating Corporation - J J Elmore - Geothermal",
          "CalEnergy Operating Corporation - J M Leathers - Geothermal",
          "CalEnergy Operating Corporation - Region 1 - Geothermal",
          "CalEnergy Operating Corporation - Region 2 - Geothermal",
          "CalPeak Power - Border",
          "CalPeak Power - Enterprise",
          "CalPeak Power - Panoche, LLC",
          "CalPeak Power - Vaca Dixon, LLC",
          "CalPortland Company, Colton Plant",
          "CalPortland Company, Mojave Plant",
          "CalPortland Company, Oro Grande Plant",
          "California Dairies, Inc. Artesia",
          "California Dairies, Inc. Fresno",
          "California Dairies, Inc. Los Banos",
          "California Dairies, Inc. Tipton",
          "California Dairies, Inc. Turlock",
          "California Dairies, Inc. Visalia",
          "California Institute of Technology (CalTech)",
          "California Medical Facility",
          "California Natural Products",
          "California Paperboard Corporation (opt-in 2013)",
          "California Polytechnic State University",
          "California Power Holdings, LLC-Chowchilla Facility, 95360",
          "California Power Holdings, LLC-Red Bluff Facility, 96080",
          "California Resources Elk Hills, LLC - 35R Gas Plant",
          "California Resources Production Corporation - 760 Los Angeles Basin",
          "California Resources Production Corporation - SCVGP Gas Plant",
          "California Resources Production Corporation - Sacramento Valley Basin 730",
          "California Resources Production Corporation - San Joaquin Valley Basin 745",
          "California Resources Production Corporation - Ventura Basin 755",
          "California State Prison - Corcoran",
          "California State Prison - Sacramento",
          "California State University, Channel Islands",
          "California State University, Fullerton",
          "California State University, San Diego",
          "California State University, San Jose",
          "California Steel Industries",
          "Calpine - CCFC Sutter Energy, LLC",
          "Calpine - Creed Energy Center, LLC",
          "Calpine - Delta Energy Center, LLC",
          "Calpine - Geysers Power Company, LLC - Geothermal",
          "Calpine - Gilroy Cogen, L.P., Gilroy Cogen_Peaker",
          "Calpine - Gilroy Energy Center, LLC For Lambie Energy Center",
          "Calpine - Gilroy Energy Center, LLC, Feather River",
          "Calpine - Gilroy Energy Center, LLC, Gilroy Peaker",
          "Calpine - Gilroy Energy Center, LLC, King City Peaker",
          "Calpine - Gilroy Energy Center, LLC, Riverview Peaker",
          "Calpine - Gilroy Energy Center, LLC, Wolfskill Peaker",
          "Calpine - Goose Haven Energy Center, Peaker",
          "Calpine - King City Cogen, LLC, King City Cogen_Peaker",
          "Calpine - Los Esteros Critical Energy Facility, LLC",
          "Calpine - Los Medanos Energy Center, LLC",
          "Calpine - Metcalf Energy Center, LLC",
          "Calpine - Monterey Cogeneration, Inc., Watsonville",
          "Calpine - O.L.S. Energy - Agnews Inc. 95134",
          "Calpine - Otay Mesa Energy Center",
          "Calpine - Pastoria Energy Facility L.L.C.",
          "Calpine - Russell City Energy Center",
          "Calpine - Yuba City Energy Center (Gilroy Energy Center, LLC)",
          "Campbell Soup Supply Company - Sacramento",
          "Campbell Soup Supply Company, L.L.C. - Dixon",
          "Campbell Soup Supply Company, L.L.C. - Stockton",
          "Canyon Power Project (CPP)",
          "Cardinal Cogen",
          "Cargill Salt Operations",
          "Carlsbad Energy Center Project",
          "Carlton Forge Works",
          "Carson Cogeneration Co",
          "Cedars-Sinai Medical Center",
          "Cemex - Cement Plant Davenport",
          "Cemex Construction Materials Pacific LLC - Victorville Plant",
          "Central Contra Costa Sanitary District",
          "Central Valley Meat",
          "CertainTeed Corporation",
          "Chalk Cliff Limited",
          "Chemical Lime Company",
          "Chemtrade West US, LLC",
          "Chevron 17Z Gas Plant",
          "Chevron AAPG 740 Coastal Basin",
          "Chevron AAPG 745 San Joaquin Basin",
          "Chevron Business and Real Estate Services, 94520",
          "Chevron Energy Solutions, 93272",
          "Chevron Products Company - El Segundo Refinery, 90245",
          "Chevron Products Company - Richmond Refinery, 94802",
          "Chevron U.S.A Inc - Coalinga Asset, 93210",
          "Chevron U.S.A Inc - Cymric Asset, 93251",
          "Chevron U.S.A Inc - Kern River Asset, 93308",
          "Chevron U.S.A Inc - Lost Hills Asset, 93249",
          "Chevron U.S.A Inc - Midway Sunset Asset, 93225",
          "Chevron U.S.A Inc - San Ardo Asset, 93540",
          "Children's Hospital Los Angeles",
          "Chino Basin Desalter Authority",
          "Chiquita Canyon Landfill",
          "Chula Vista Energy Center",
          "City Of Santa Rosa Wastewater",
          "City of Anaheim, Combustion Turbine Generator",
          "City of Colton - Generation",
          "City of Hope National Medical Center",
          "City of Palo Alto Water Quality Control Treatment Plant",
          "City of Riverside, Public Works Department, Regional H2O Plant",
          "City of Roseville - Roseville Power Plant #2",
          "City of San Diego, Public Utilities Dept, North City Water Reclamation Plant",
          "City of San Diego, Public Utilities Dept, Point Loma Treatment Plant",
          "City of San Diego, Public Utilities Dept, Pump Station 2",
          "City of Santa Cruz Wastewater Treatment",
          "Civic Center Cogen, LA County",
          "Clougherty Packing, LLC",
          "Coalinga Cogeneration Facility",
          "Collins Pine Co.",
          "Colmac Energy, Inc. 92254",
          "ConAgra - Oakdale",
          "ConAgra Foods - Helm Facility",
          "Coolwater Generating Station",
          "Corona Energy Partners, Ltd.",
          "Coso Energy Developers (BLM E&W) - Geothermal",
          "Coso Finance Partners (Navy I) - Geothermal",
          "Coso Power Developers (Navy II) - Geothermal",
          "Covanta - Burney Mountain Power",
          "Covanta - Delano, Inc.",
          "Covanta - Mendota",
          "Covanta - Mt. Lassen Power",
          "Covanta - Pacific Oroville Power Inc",
          "Covanta - Pacific Recovery Corp - Salinas Facility",
          "Covanta - Pacific Recovery Corporation - Oxnard Facility",
          "Covanta - Stanislaus, Inc",
          "Crestwood West Coast, LLC",
          "Crimson Resource Management Corp",
          "Criterion Catalyst and Technologies, L. P.",
          "Crockett Cogeneration Project, LP",
          "Custom Alloy Light Metals, Inc.",
          "DG Fairhaven Power LLC",
          "DSH-Napa State Hospital",
          "DST Output, LLC",
          "DTE Stockton, LLC",
          "Darling Ingredients Inc - Fresno",
          "Darling Ingredients Inc - Los Angeles",
          "Darling Ingredients Inc - Turlock",
          "Dart Container Corporation of California",
          "DeMenno/Kerdoon",
          "Del Monte - Hanford",
          "Del Monte - Modesto",
          "Delano Energy Center, LLC",
          "Delano Growers Grape Products",
          "Diamond Pet Food Processors of California, LLC - Lathrop",
          "Diamond Pet Food Processors of California, LLC - Ripon",
          "Dicalite Minerals Corp.",
          "Dinuba Energy",
          "Disneyland Resort",
          "Double C Limited",
          "Dow Chemical",
          "Dow Chemical Company - Pittsburg",
          "Dublin San Ramon Services District",
          "Dynegy Morro Bay, LLC",
          "Dynegy Moss Landing, LLC",
          "Dynegy Oakland, LLC.",
          "Dynegy South Bay, LLC",
          "E & J Gallo Winery - Fresno",
          "E & J Gallo Winery - Livingston",
          "E&B Natural Resources - San Joaquin Valley",
          "E.F. Oxnard LLC",
          "ERG Operating Company, LLC. 750 Santa Maria Basin",
          "Eagle Petroleum - Lynch Canyon Field",
          "East Bay Municipal Utility District",
          "Eco Services - Dominguez",
          "Eco Services - Martinez",
          "Edgington Oil Company",
          "Edwards Air Force Base",
          "Eisenhower Medical Center",
          "El Cajon Energy, LLC",
          "Elk Hills Power, LLC",
          "Emidio Pump Station - Shell Pipeline Company",
          "Encina Water Pollution Control Facility",
          "Energy 2001, Placer WRSL",
          "Equinix - Great Oaks",
          "Equinix - Lundy",
          "Equinix Caspian - Bloom Energy Servers",
          "Equinix Duane - Bloom Energy Servers",
          "Escalon Premier Brands, a Division of Kraft Heinz Company",
          "Escondido Energy Center, LLC",
          "Etiwanda Generating Station",
          "Exide Technologies",
          "ExxonMobil - South Belridge Hill",
          "ExxonMobil LFC Facility",
          "ExxonMobil POPCO Facility",
          "ExxonMobil SYU Project",
          "Fairfield-Suisun Sewer District",
          "FlexEnergy Energy Systems - Project East, LLC.",
          "Forged Metals, Inc.",
          "Foster Dairy Farms DBA Crystal Creamery",
          "Foster Farms Porterville Plant ",
          "Foster Farms Traver Complex ",
          "Foster Poultry Farms - Livingston Complex, 95334",
          "Freeport-McMoRan Oil & Gas LLC - Gaviota Oil Heating Facility",
          "Fresno Cogeneration Partners, LP",
          "Fresno-Clovis Regional Wastewater Reclamation Facility",
          "Frito Lay - Kern Plant",
          "Frito Lay - Modesto",
          "Frito Lay - Rancho Cucamonga",
          "G2 Energy Ostrom Road, LLC",
          "GWF Power Systems, L.P., East Third Street Power Plant",
          "GWF Power Systems, L.P., Loveridge Road Power Plant",
          "GWF Power Systems, L.P., Nichols Road Power Plant",
          "GWF Power Systems, L.P., Wilbur East Power Plant",
          "GWF Power Systems, L.P., Wilbur West Power Plant",
          "Gallo Glass Company",
          "Gas Recovery Systems - Coyote Canyon",
          "Gas Recovery Systems LLC ? American Canyon",
          "Gas Recovery Systems LLC ? Guadalupe",
          "Gas Recovery Systems LLC ? Menlo Park",
          "GenOn Delta, Contra Costa Generating Station 94509",
          "GenOn Delta, Pittsburg Generating Station 94565",
          "GenOn Potrero, LLC",
          "GenPower Lincon Landfill Power Plant",
          "Genentech - Vacaville",
          "Genentech Inc South San Francisco",
          "General Chemical Corporation",
          "General Mills Cereal Properties, LLC",
          "Georgia-Pacific Gypsum LLC - Antioch",
          "Georgia-Pacific Gypsum LLC - San Leandro",
          "Goal Line LP, 92025",
          "Goodrich Corporation",
          "Graphic Packaging International, Inc",
          "Grayson Power Plant",
          "Greka Santa Maria Refinery ",
          "Guardian Industries, LLC",
          "HGST, Inc",
          "HL Power Company",
          "Hanford Energy Park Peaker",
          "Hanford L.P., GWF, Hanford Power Plant",
          "Harbor Cogeneration Company, LLC",
          "Harris Ranch Beef Company",
          "Heber Geothermal Co.",
          "Henrietta Peaker Plant",
          "High Desert Power Project, LLC",
          "High Sierra Cogeneration",
          "High Sierra Limited",
          "Hilmar Cheese Company",
          "Hilmar Cheese, Inc. - Turlock Facility",
          "Hoag Memorial Hospital Presbyterian",
          "Holmes Western Oil Corporation",
          "Hood Dairy",
          "Houweling Nurseries Oxnard, Inc",
          "Hudson Ranch Power I - Geothermal",
          "Humboldt Flakeboard Panels, Inc.",
          "Humboldt Sawmill Company",
          "Huntington Memorial Hospital",
          "Hyperion Water Reclamation Plant",
          "IBE Project - Bloom Energy Servers",
          "Imerys Minerals California, Inc.",
          "Imperial Irrigation District (IID), Coachella",
          "Imperial Irrigation District (IID), El Centro Generating Station",
          "Imperial Irrigation District (IID), Niland Gas Turbine Plant",
          "Imperial Irrigation District (IID), Rockwood",
          "Imperial Valley Resource Recovery, LLC",
          "Ingomar Packing Company",
          "Ingredion Incorporated Stockton Plant",
          "Inland Empire Energy Center, LLC.",
          "Inland Empire Utilities Agency RP-1",
          "Ivanpah Solar Electric Generating System",
          "J. G. Boswell Tomato Company Kern",
          "J.G. Boswell Company West Processing Townsite",
          "J.G.Boswell Tomato Company Kings",
          "JP Oil",
          "JR Simplot Company",
          "JRW Associates LP",
          "John Wayne Airport Orange County",
          "Johns Manville (opt-in 2013)",
          "Johnson & Johnson, PRD, L.L.C.",
          "K2 Pure Solutions, Inc",
          "KES Kingsburg L.P.--Kingsburg Cogeneration Facility",
          "Kaiser Aluminum Fabricated Products, LLC",
          "Kaiser Permanente - Bloom Energy Servers",
          "Kaweah Delta Medical Center",
          "Kern Front Limited",
          "Kern Oil Refinery",
          "Kern River Cogeneration Facility",
          "Keysight Technologies Inc - Bloom Energy Servers",
          "Kiefer Landfill, Department of Waste Management and Recycling",
          "Kimberly Clark Worldwide Inc.",
          "Kirby Hills Compressor Station",
          "Knauf Insulation",
          "Kraft Heinz Foods Company - Tulare",
          "Kyocera International Inc.",
          "LAC+USC Medical Center",
          "LACSD - Calabasas LF",
          "LACSD - Commerce Refuse To Energy",
          "LACSD - Joint Water Pollution Control Plant",
          "LACSD - Palos Verdes Gas to Energy Facility",
          "LACSD - Puente Hills Landfill",
          "LACSD - Spadra Landfill",
          "LWFP LLC",
          "La Paloma Generating Plant - GHG",
          "Land O' Lakes, Inc.",
          "Lawrence Livermore National Laboratory (LLNL)",
          "Lehigh Southwest Cement Co - Cupertino",
          "Lehigh Southwest Cement Co - Redding",
          "Lehigh Southwest Cement Co - Tehachapi",
          "Leprino Foods - Lemoore East",
          "Leprino Foods - Lemoore West",
          "Leprino Foods - Tracy",
          "Lhoist North America - Natividad Plant",
          "Liberty Packing - Los Banos (Morning Star)",
          "Live Oak Limited",
          "Lockheed Martin Aeronautics Company - Palmdale",
          "Lockheed Martin Corporation - Sunnyvale",
          "Lodi Compressor Station",
          "Lodi Energy Center",
          "Loma Linda University",
          "Lompoc Field Stationary Source",
          "Lopez Canyon Landfill",
          "Los Angeles Department of Water & Power-Harbor Generating Station (LADWP)",
          "Los Angeles Department of Water & Power-Haynes Generating Station (LADWP)",
          "Los Angeles Department of Water & Power-Scattergood Generating Station (LADWP)",
          "Los Angeles Department of Water & Power-Valley Generating Station (LADWP)",
          "Los Angeles International Airport (LAX)",
          "Los Gatos Tomato Products",
          "Lunday-Thagard Company, DBA World Oil Refining",
          "Luz Solar Partners LTD",
          "Luz Solar Partners LTD VIII & IX",
          "MAGTFTC MCAGCC Twentynine Palms",
          "MATRIX OIL CORP",
          "MM Lopez Energy LLC",
          "MM Prima Deshecha Energy LLC",
          "MM San Diego LLC - North City",
          "MM Tajiguas Energy LLC",
          "MM Tulare Energy LLC",
          "MM West Covina LLC",
          "MM Yolo Power LLC",
          "MP Mine Operations LLC",
          "Macpherson Oil Company",
          "Madera Power LLC",
          "Magnolia Power Plant, SCPPA (Generating Facility/Unit)",
          "Malaga Power, LLC",
          "Malburg Generating Station",
          "Mandalay Generating Station",
          "Mariposa Energy LLC",
          "Martinez Cogen Limited Partnership",
          "Maruchan, Inc. - Laguna Canyon",
          "Matchmaster Dyeing & Finishing",
          "Matsui Nursery, Inc.",
          "McKittrick Limited",
          "Merced Power, LLC, 95340",
          "Mesa Consolidated Water District Well #5",
          "Metal Coaters of California",
          "Metropolitan State Hospital",
          "Mid-Set Cogeneration Facility",
          "Midway Peaking, LLC",
          "Midway-Sunset Cogeneration",
          "Milk Specialties Global",
          "MillerCoors USA LLC.",
          "Mira Loma Metal Container Corp",
          "Miramar - MM and Miramar Energy",
          "Mission Bell Winery ",
          "Mission Foods Corporation",
          "Mitsubishi Cement 2000",
          "Mizkan America, Inc.",
          "Modesto Irrigation District (MID) - Woodland Generation Station, 95351",
          "Modesto Irrigation District (MID), Sconza Candy",
          "Modesto Irrigation District - McClure Generation Station, 95357",
          "Modesto Irrigation District - Ripon Generation Station, 95366",
          "Mojave Cogeneration Co",
          "Monterey Regional Waste Management District",
          "Monterey Regional Water Pollution Control Agency, Cogen, 93933",
          "Morning Star Packing Company - Los Banos",
          "Morning Star Packing Company - Williams",
          "Morton Salt, Inc.",
          "Mountain Utilities (MU) Power House",
          "Mt. Poso Cogeneration Company",
          "NALF San Clemente Island",
          "NASA Ames Research Center",
          "NBVC San Nicolas Island",
          "NCPA - CT1 Alameda",
          "NM Colton Genco LLC",
          "NM Mid Valley Genco, LLC",
          "NM Milliken Genco LLC",
          "NOVE Power Plant",
          "NRG Energy - El Cajon",
          "NRG Energy - El Segundo",
          "NRG Energy - Encina",
          "NRG Energy - Kearny 1",
          "NRG Energy - Kearny 2 and 3",
          "NRG Energy - Long Beach",
          "NRG Energy - Miramar",
          "NRG Energy - San Francisco Thermal",
          "NRG, Marsh Landing Generating Station ",
          "Naftex Operating Company",
          "National Beef",
          "National Cement Company - Lebec",
          "National Training Center & Fort Irwin",
          "Naval Air Station Lemoore",
          "Naval Air Station North Island",
          "Naval Air Weapons Station China Lake",
          "Naval Medical Center - San Diego",
          "New NGC, Inc - Long Beach",
          "New NGC, Inc - Richmond",
          "New United Motor Manufacturing, NUMMI",
          "New-Indy Ontario, LLC Linerboard Mill",
          "New-Indy Oxnard LLC",
          "Newark Pacific Paperboard (opt-in 2013)",
          "Newby Island , 95134",
          "Newby Island II, 95134",
          "Newport Fab, LLC (DBA TowerJazz Semiconductor)",
          "Nong Shim America, Inc.",
          "Nor-Cal Beverage Company, Inc. - Anaheim",
          "Northern California Power Agency - Alameda Combustion Turbine Project No. 1",
          "Northern California Power Agency - Geothermal Plant No. 1",
          "Northern California Power Agency - Geothermal Plant No. 2",
          "Northern California Power Agency - Lodi Combustion Turbine Proj No. 1",
          "Northern California Power Agency - Lodi Combustion Turbine Proj No. 2 - STIG",
          "Northrop Grumman - Palmdale",
          "Northrop Grumman Marine Systems - Sunnyvale",
          "Northrop Grumman Mission Systems - San Diego",
          "Northrop Grumman Systems Corp. - Redondo Beach",
          "Northrop Grumman Systems Corporation - El Segundo",
          "OLS Energy Chino",
          "Oildale Energy LLC",
          "Olam West Coast Inc - Williams",
          "Olam West Coast Inc- Lemoore",
          "Olam West Coast, Inc. - Firebaugh",
          "Olam West Coast, Inc. - Gilroy",
          "Olive View Medical Center, Los Angeles County Department of Health Services",
          "Orange County Central Utility Facility",
          "Orange County Sanitation District - Plant 1",
          "Orange County Sanitation District - Plant 2",
          "Orange County Waste & Recycling/ Frank R. Bowerman Landfill",
          "Orange County Waste & Recycling/ Olinda Alpha Landfill",
          "Orange Grove Energy Center",
          "Orange Plant - R.J. Noble",
          "Ormat Nevada, Inc. / ORNI 18 North Brawley - Geothermal",
          "Ormat Nevada, Inc./ GEM 2 & 3 - Geothermal",
          "Ormond Beach Generating Station",
          "Oroville Cogeneration, L.P. 95966",
          "Otay Landfill Gas LLC",
          "Otay Solid Waste Landfill",
          "Owens Corning Insulating Systems, LLC Santa Clara",
          "Owens Corning Roofing and Asphalt, LLC",
          "Owens-Brockway Glass Container, Oakland",
          "Owens-Brockway Glass Container, Tracy",
          "Owens-Brockway Glass Container, Vernon",
          "Ox Mountain Landfill",
          "Oxnard Wastewater Treatment Plant",
          "Oxy - Occidental Of Elk Hills, Inc.",
          "Oxy - Thums Long Beach Company",
          "Oxy - Vintage Production California LLC--Grubb Facility",
          "PABCO Clay Products, LLC, dba Gladding McBean",
          "PABCO Gypsum Newark",
          "PABCO Paper",
          "PE-Berkeley, Inc",
          "PG&E Burney Compressor Station",
          "PG&E Colusa Generating Station",
          "PG&E Delevan Compressor Station",
          "PG&E Gateway Generating Station",
          "PG&E Gerber Compressor Station",
          "PG&E Hinkley Compressor Station",
          "PG&E Humboldt Bay Generating Station",
          "PG&E Kettleman Compressor Station",
          "PG&E McDonald Island Underground Storage Station",
          "PG&E Tionesta Compressor Station",
          "PG&E Topock Compressor Station",
          "Pacific Clay Products",
          "Pacific Coast Energy Company LP",
          "Pacific Coast Producers",
          "Pacific Continental Textiles",
          "Pacific Ethanol Madera, LLC",
          "Pacific Ethanol Stockton, LLC",
          "Pacific Ultrapower Chinese",
          "Pactiv - Red Bluff",
          "Palo Alto V.A. Health Care System Division",
          "Panoche Energy Center, LLC",
          "Paramount Petroleum Corporation ",
          "Pasadena Water and Power, Broadway",
          "Pasadena Water and Power, Glenarm",
          "Peet's Coffee",
          "Penrose Landfill Gas Conversion, LLC",
          "Phillips 66 Company - Los Angeles Refinery - Carson Plant",
          "Phillips 66 Company - Los Angeles Refinery - Wilmington Plant",
          "Phillips 66 Company - San Francisco Carbon Plant",
          "Phillips 66 Company - San Francisco Refinery",
          "Phillips 66 Company - Santa Maria Refinery",
          "Pilkington Glass North America, Lathrop Plant",
          "Pio Pico Energy Center",
          "Pitchess Cogeneration Station",
          "Pixley Cogeneration Partners / Calgren Renewable Fuels",
          "Plains Exploration & Production Company - Cymric Facility",
          "Plains Exploration & Production Company - MWSS Facility",
          "Plains Exploration & Production Company - South Belridge Facility",
          "Plains LPG Services/ Lone Star Frac & Isom Facility",
          "Potrero Hills Energy Producers, LLC",
          "Praxair Inc.",
          "Press Forge Co",
          "Prime Wheel Corporation",
          "ProEnergy - Greenleaf Energy Unit 1, LLC",
          "ProEnergy - Greenleaf Energy Unit 2, LLC",
          "Procter & Gamble Manufacturing Co. - Sacramento Plant (opt-in 2017)",
          "Qualcomm, Inc. - Morehouse Facility",
          "Qualcomm, Inc. - Pacific Center Facility",
          "Quemetco, Inc.",
          "RCWMD Badlands Power Plant",
          "Rady Children's Hospital San Diego",
          "Redding Electric Utility - Redding Power Generation",
          "Richard J Donovan Correctional Facility",
          "Rio Bravo Fresno",
          "Rio Bravo Jasmin",
          "Rio Bravo Poso",
          "Rio Bravo Rocklin",
          "Rio Tinto - Wilmington",
          "Riverside Public Utilities - Clearwater Facility",
          "Riverside Public Utilities - Riverside Energy Resource Center",
          "Riverside Public Utilities - Springs Facility",
          "Rohr, Inc. a UTC Aerospace Systems Company-Cogen Plant",
          "Roseburg Forest Products",
          "Roseville Electric, Roseville Energy Park",
          "SB Channel (Onshore)",
          "SDG&E - Cuyamaca Peak Energy Plant",
          "SDG&E - Miramar Energy Facility",
          "SDG&E - Moreno Compressor Station",
          "SDG&E - Palomar Energy Center",
          "SFPP L.P. - Colton Terminal",
          "SRI International Cogen Project",
          "Sacramento Municipal Utility District (SMUD) , Carson Ice CG",
          "Sacramento Municipal Utility District (SMUD) , Cosumnes Power Plant",
          "Sacramento Municipal Utility District (SMUD) , McClellan",
          "Sacramento Municipal Utility District (SMUD) , SCA",
          "Sacramento Municipal Utility District (SMUD) , SPA",
          "Sacramento Rendering Company",
          "Saddleback Community College",
          "Safety-Kleen of California Inc.",
          "Saint Agnes Medical Center",
          "Saint Bernardine Medical Center",
          "Salinas River Cogeneration Facility",
          "San Benito Foods",
          "San Bernardino County Solid Waste Mgmt - MVSL",
          "San Francisco General Hospital",
          "San Francisco International Airport (SFO)",
          "San Francisco Southeast Treatment Plant",
          "San Joaquin Cogen LLC",
          "San Joaquin Cogen, LLC",
          "San Joaquin Refining Company",
          "San Jose/Santa Clara Regional Wastewater Facility",
          "San Marcos Energy LLC",
          "Santa Barbara Cottage Hospital",
          "Santa Clara Valley Medical Center",
          "Santa Cruz Energy LLC",
          "Santa Maria Energy, LLC, Careaga Lease",
          "Saputo Cheese USA Inc. - Newman",
          "Saputo Cheese USA Inc. - Paige",
          "Saputo Cheese USA Inc.- Levin",
          "Sargent Canyon Cogeneration Facility",
          "Schlosser Forge Company",
          "Searles Valley Minerals Inc.",
          "Seneca Foods Corporation ",
          "Seneca Resources - Midway Sunset",
          "Seneca Resources - North Lost Hills",
          "Seneca San Joaquin Production Facilities",
          "Sensient Natural Ingredients LLC",
          "Sentinel Energy Center, LLC",
          "Sentinel Peak Resources - SJV Basin Facility",
          "Sentinel Peak Resources- Arroyo Grande Oil Production Facility",
          "Setton Pistachio of Terra Bella, Inc",
          "Sharp Grossmont Hospital",
          "Shasta Renewable Resources, LLC",
          "Shell Chemical LP - Martinez Catalyst Plant",
          "Shell Oil Products US - Martinez",
          "Shultz Steel Company",
          "Sierra Aluminum Company",
          "Sierra Pacific Industries (SPI) - Anderson, 96007",
          "Sierra Pacific Industries (SPI) - Arcata",
          "Sierra Pacific Industries (SPI) - Burney",
          "Sierra Pacific Industries (SPI) - Camino",
          "Sierra Pacific Industries (SPI) - Lincoln",
          "Sierra Pacific Industries (SPI) - Loyalton",
          "Sierra Pacific Industries (SPI) - Quincy Division",
          "Sierra Pacific Industries (SPI) - Shasta Lake",
          "Sierra Pacific Industries (SPI) - Sonora",
          "Sierra Pacific Power Company - Kings Beach Generating Facility",
          "Sierra Power Corporation, 93270",
          "Sierra Resources Santa Barbara Basin",
          "Signal Hill Petroleum Facilities",
          "Signal Hill Petroleum Inc",
          "Silicon Valley Power (SVP), City of Santa Clara , Cogen",
          "Silicon Valley Power (SVP), City of Santa Clara , DVR",
          "Silicon Valley Power (SVP), City of Santa Clara , Gianera",
          "Simi Valley Landfill and Recycling Center",
          "Soil Safe of California, Inc.",
          "Solano County Cogeneration Facility",
          "Solar Turbines Incorporated - Kearny Mesa",
          "Solar Turbines Incorporated - Pacific Highway",
          "Sonoma County Landfill Gas to Energy",
          "Sonoma Developmental Center",
          "South Orange County Wastewater Authority",
          "Southeast Resource Recovery Facility (SERRF)",
          "Southern California Edison (SCE) - Barre Peaker",
          "Southern California Edison (SCE) - Center Hybrid",
          "Southern California Edison (SCE) - Grapeland Hybrid",
          "Southern California Edison (SCE) - McGrath Peaker",
          "Southern California Edison (SCE) - Mira Loma Peaker",
          "Southern California Edison (SCE) - Mountainview Generating Station",
          "Southern California Edison (SCE) - Pebbly Beach",
          "Southern California Gas Co - Aliso Canyon Facility",
          "Southern California Gas Co - Blythe Facility",
          "Southern California Gas Co - Distribution",
          "Southern California Gas Co - Honor Rancho Facility",
          "Southern California Gas Co - Kelso Facility",
          "Southern California Gas Co - Newberry Springs Facility",
          "Southern California Gas Co - North Needles Facility",
          "Southern California Gas Co - South Needles Facility",
          "Southern California Gas Co - Wheeler Ridge Compressor Station",
          "Spreckels Sugar Company, Inc. - Mendota",
          "Spreckels Sugar Company, Inc.- Brawley",
          "Stanford University",
          "Stanislaus Food Products",
          "State of California Central Utility Plant - General Services",
          "Steelscape Inc.",
          "Stockton Landfill Gas LLC",
          "Styrotek",
          "SunOpta Aseptic",
          "SunSelect Produce (California) Inc",
          "Sunnyvale Water Pollution Control Plant",
          "Sunray Energy, Inc",
          "Sunrise Power Company",
          "Sunshine Gas Producers, LLC",
          "Superstore Industries",
          "Sycamore Cogeneration Facility",
          "Sycamore Energy LLC",
          "TAMCO",
          "TRC Cypress Group, LLC",
          "TST, Inc.",
          "TXI Riverside Cement (Crestmore Plant)",
          "Techni-Cast Corp.",
          "Teichert Materials",
          "Tesla, Inc.",
          "Tesoro Los Angeles Refinery - Wilmington Calciner",
          "Tesoro Refining & Marketing Company LLC - Los Angeles Refinery - Carson ",
          "Tesoro Refining and Marketing Co. - LAR",
          "Tesoro Refining and Marketing Co. - Martinez",
          "Tesoro Refining and Marketing Co. - SRP",
          "The P&G Paper Products Co.",
          "The Sun Valley Group",
          "Thermal Energy Development Partnership, L.P.",
          "Timber Products Company Yreka Veneer",
          "Toland Landfill - Ventura Regional Sanitation District",
          "Tomatek / Neil Jones Food Companies",
          "Torrance Refinery",
          "Toyon Landfill Gas Conversion, LLC",
          "Tracy Peaker Plant",
          "Tricor Refining, LLC",
          "Turlock Irrigation District (TID), Almond Power Plant",
          "Turlock Irrigation District (TID)/ Walnut",
          "Turlock Irrigation District/ Walnut Energy Center",
          "Tuscarora Gas Transmission - Shoetree Compressor Station",
          "U.S. Air Force, South Vandenberg Power Plant 93437",
          "U.S. Borax, 93516",
          "U.S. Gypsum Co Plaster City Plant",
          "UC Davis Medical Center",
          "USS-POSCO Industries",
          "Ultramar Inc - Valero Wilmington",
          "Union Sanitary District",
          "Union Tribune San Diego",
          "United Airlines, Inc. - San Francisco Maintenance Center",
          "United States Pipe & Foundry Co. LLC",
          "University of California, Berkeley",
          "University of California, Davis",
          "University of California, Irvine",
          "University of California, Los Angeles, UCLA",
          "University of California, Riverside, UCR",
          "University of California, San Diego, UCSD",
          "University of California, San Francisco",
          "University of California, Santa Barbara (opt-in 2015)",
          "University of California, Santa Cruz, UCSC EH&S Office",
          "University of Redlands",
          "University of Southern California (USC) - University Park Campus (UPC)",
          "VA Greater Los Angeles Healthcare System",
          "VA San Diego Healthcare System",
          "Valero Refining Company - California, Benicia Refinery and Benicia Asphalt Plant",
          "Valero Wilmington Asphalt Plant",
          "Valley Milk, LLC",
          "Vandenberg Air Force Base",
          "Vaquero Energy - Kern County",
          "Vaquero Energy - Santa Barbara County",
          "Venoco Inc",
          "Venoco Platform Gail",
          "Ventura Coastal",
          "Ventura Coastal LLC",
          "Victorville Municipal - Foxborough",
          "Victorville Municipal - Plant No. 2-SCLA",
          "Vintage Production California - Bakersfield",
          "Vintage Production California - Lost Hills",
          "Vista Metals Corp.",
          "Vitro Flat Glass LLC",
          "WP&A Firebaugh",
          "WP&A King",
          "WP&A Lost Hills",
          "WWF Operating Company",
          "Wadham Energy Ltd Partnership",
          "Walnut Creek Energy, LLC",
          "Waste Management - Altamont Landfill",
          "Waste Management - Bradley Landfill",
          "Waste Management - El Sobrante Landfill",
          "Waste Management - Redwood Landfill",
          "Waste Management - Redwood Landfill, Inc.",
          "Waste Management - Simi Valley Landfill",
          "Watkins Manufacturing Corporation",
          "Weber Metals",
          "Wellhead Power Gates, LLC",
          "Wellhead Power Panoche, LLC",
          "Western Milling, Goshen CA",
          "Wheelabrator Lassen Inc",
          "Wheelabrator Shasta Energy Company",
          "Wild Goose Storage LLC",
          "Wildflower Energy, LP - Indigo Generation, LLC",
          "Wildflower Energy, LP - Larkspur Energy Facility, LLC",
          "Windset Farms",
          "Wm. Bolthouse Farms, Inc.",
          "Woodland Biomass Power, Ltd",
          "Yuba City Cogeneration Partners LP"
         ],
         "name": "",
         "parents": [
          "",
          "",
          "",
          "",
          "",
          "",
          "",
          "",
          "",
          "",
          "",
          "",
          "",
          "",
          "",
          "",
          "",
          "",
          "",
          "",
          "",
          "",
          "",
          "",
          "",
          "",
          "",
          "",
          "",
          "",
          "",
          "",
          "",
          "",
          "",
          "",
          "",
          "",
          "",
          "",
          "",
          "",
          "",
          "",
          "",
          "",
          "",
          "",
          "",
          "",
          "",
          "",
          "",
          "",
          "",
          "",
          "",
          "",
          "",
          "",
          "",
          "",
          "",
          "",
          "",
          "",
          "",
          "",
          "",
          "",
          "",
          "",
          "",
          "",
          "",
          "",
          "",
          "",
          "",
          "",
          "",
          "",
          "",
          "",
          "",
          "",
          "",
          "",
          "",
          "",
          "",
          "",
          "",
          "",
          "",
          "",
          "",
          "",
          "",
          "",
          "",
          "",
          "",
          "",
          "",
          "",
          "",
          "",
          "",
          "",
          "",
          "",
          "",
          "",
          "",
          "",
          "",
          "",
          "",
          "",
          "",
          "",
          "",
          "",
          "",
          "",
          "",
          "",
          "",
          "",
          "",
          "",
          "",
          "",
          "",
          "",
          "",
          "",
          "",
          "",
          "",
          "",
          "",
          "",
          "",
          "",
          "",
          "",
          "",
          "",
          "",
          "",
          "",
          "",
          "",
          "",
          "",
          "",
          "",
          "",
          "",
          "",
          "",
          "",
          "",
          "",
          "",
          "",
          "",
          "",
          "",
          "",
          "",
          "",
          "",
          "",
          "",
          "",
          "",
          "",
          "",
          "",
          "",
          "",
          "",
          "",
          "",
          "",
          "",
          "",
          "",
          "",
          "",
          "",
          "",
          "",
          "",
          "",
          "",
          "",
          "",
          "",
          "",
          "",
          "",
          "",
          "",
          "",
          "",
          "",
          "",
          "",
          "",
          "",
          "",
          "",
          "",
          "",
          "",
          "",
          "",
          "",
          "",
          "",
          "",
          "",
          "",
          "",
          "",
          "",
          "",
          "",
          "",
          "",
          "",
          "",
          "",
          "",
          "",
          "",
          "",
          "",
          "",
          "",
          "",
          "",
          "",
          "",
          "",
          "",
          "",
          "",
          "",
          "",
          "",
          "",
          "",
          "",
          "",
          "",
          "",
          "",
          "",
          "",
          "",
          "",
          "",
          "",
          "",
          "",
          "",
          "",
          "",
          "",
          "",
          "",
          "",
          "",
          "",
          "",
          "",
          "",
          "",
          "",
          "",
          "",
          "",
          "",
          "",
          "",
          "",
          "",
          "",
          "",
          "",
          "",
          "",
          "",
          "",
          "",
          "",
          "",
          "",
          "",
          "",
          "",
          "",
          "",
          "",
          "",
          "",
          "",
          "",
          "",
          "",
          "",
          "",
          "",
          "",
          "",
          "",
          "",
          "",
          "",
          "",
          "",
          "",
          "",
          "",
          "",
          "",
          "",
          "",
          "",
          "",
          "",
          "",
          "",
          "",
          "",
          "",
          "",
          "",
          "",
          "",
          "",
          "",
          "",
          "",
          "",
          "",
          "",
          "",
          "",
          "",
          "",
          "",
          "",
          "",
          "",
          "",
          "",
          "",
          "",
          "",
          "",
          "",
          "",
          "",
          "",
          "",
          "",
          "",
          "",
          "",
          "",
          "",
          "",
          "",
          "",
          "",
          "",
          "",
          "",
          "",
          "",
          "",
          "",
          "",
          "",
          "",
          "",
          "",
          "",
          "",
          "",
          "",
          "",
          "",
          "",
          "",
          "",
          "",
          "",
          "",
          "",
          "",
          "",
          "",
          "",
          "",
          "",
          "",
          "",
          "",
          "",
          "",
          "",
          "",
          "",
          "",
          "",
          "",
          "",
          "",
          "",
          "",
          "",
          "",
          "",
          "",
          "",
          "",
          "",
          "",
          "",
          "",
          "",
          "",
          "",
          "",
          "",
          "",
          "",
          "",
          "",
          "",
          "",
          "",
          "",
          "",
          "",
          "",
          "",
          "",
          "",
          "",
          "",
          "",
          "",
          "",
          "",
          "",
          "",
          "",
          "",
          "",
          "",
          "",
          "",
          "",
          "",
          "",
          "",
          "",
          "",
          "",
          "",
          "",
          "",
          "",
          "",
          "",
          "",
          "",
          "",
          "",
          "",
          "",
          "",
          "",
          "",
          "",
          "",
          "",
          "",
          "",
          "",
          "",
          "",
          "",
          "",
          "",
          "",
          "",
          "",
          "",
          "",
          "",
          "",
          "",
          "",
          "",
          "",
          "",
          "",
          "",
          "",
          "",
          "",
          "",
          "",
          "",
          "",
          "",
          "",
          "",
          "",
          "",
          "",
          "",
          "",
          "",
          "",
          "",
          "",
          "",
          "",
          "",
          "",
          "",
          "",
          "",
          "",
          "",
          "",
          "",
          "",
          "",
          "",
          "",
          "",
          "",
          "",
          "",
          "",
          "",
          "",
          "",
          "",
          "",
          "",
          "",
          "",
          "",
          "",
          "",
          "",
          "",
          "",
          "",
          "",
          "",
          "",
          "",
          "",
          "",
          "",
          "",
          "",
          "",
          "",
          "",
          "",
          "",
          "",
          "",
          "",
          "",
          "",
          "",
          "",
          "",
          "",
          "",
          "",
          "",
          "",
          "",
          "",
          "",
          "",
          "",
          "",
          "",
          "",
          "",
          "",
          "",
          "",
          "",
          "",
          "",
          "",
          "",
          "",
          "",
          "",
          "",
          "",
          "",
          "",
          "",
          "",
          "",
          "",
          "",
          "",
          "",
          "",
          "",
          "",
          "",
          "",
          "",
          "",
          "",
          "",
          "",
          "",
          "",
          "",
          "",
          "",
          "",
          "",
          "",
          "",
          "",
          "",
          "",
          "",
          "",
          "",
          "",
          "",
          "",
          "",
          "",
          "",
          "",
          "",
          "",
          "",
          "",
          "",
          "",
          "",
          "",
          "",
          "",
          "",
          "",
          "",
          "",
          "",
          "",
          "",
          "",
          "",
          "",
          "",
          "",
          "",
          "",
          "",
          "",
          "",
          "",
          "",
          "",
          "",
          "",
          "",
          "",
          "",
          "",
          "",
          "",
          "",
          "",
          "",
          "",
          "",
          "",
          "",
          "",
          "",
          "",
          "",
          "",
          "",
          "",
          "",
          "",
          "",
          "",
          "",
          "",
          "",
          "",
          "",
          "",
          "",
          "",
          "",
          "",
          "",
          "",
          "",
          "",
          "",
          "",
          "",
          "",
          "",
          "",
          "",
          "",
          "",
          "",
          "",
          "",
          "",
          "",
          "",
          "",
          "",
          "",
          "",
          "",
          "",
          "",
          "",
          "",
          "",
          "",
          "",
          "",
          "",
          "",
          "",
          "",
          "",
          "",
          "",
          "",
          "",
          "",
          "",
          "",
          "",
          "",
          "",
          "",
          "",
          "",
          "",
          "",
          "",
          "",
          "",
          "",
          "",
          "",
          "",
          "",
          "",
          "",
          "",
          "",
          "",
          "",
          "",
          "",
          "",
          "",
          "",
          "",
          "",
          "",
          "",
          "",
          "",
          "",
          "",
          "",
          "",
          "",
          "",
          "",
          ""
         ],
         "type": "treemap",
         "values": [
          113599,
          24951,
          0,
          125738,
          2906407,
          7013869,
          4396744,
          2467809,
          0,
          627902,
          238979,
          2465817,
          164247,
          131030,
          101556,
          1611318,
          33421,
          51066,
          236131,
          226884,
          501745,
          47664,
          144447,
          25793,
          29176053,
          147313,
          41582,
          57433,
          125495,
          6005677,
          7824078,
          2469297,
          1113290,
          6787692,
          462437,
          7071068,
          526259,
          149691,
          50007,
          1704231,
          78353,
          69602,
          2262,
          533476,
          24325,
          365978,
          361909,
          301110,
          83881,
          525078,
          182126,
          77076,
          131869,
          85804,
          220712,
          896496,
          105654,
          179363,
          458860,
          22542,
          1320972,
          799860,
          1532689,
          27022,
          779968,
          176210,
          105121,
          220355,
          5199473,
          692266,
          148984,
          72245,
          55659,
          118923,
          833257,
          77650,
          401657,
          195607,
          1695663,
          161688,
          13124933,
          0,
          79236,
          489921,
          6340018,
          61902,
          310229,
          447020,
          931550,
          239503,
          1048353,
          548376,
          16064,
          3699453,
          0,
          184653,
          970141,
          168284,
          298987,
          978147,
          545564,
          81223,
          94750,
          81853,
          63814,
          982,
          10403075,
          9968290,
          95506,
          320342,
          86297,
          431537,
          341221,
          564540,
          578231,
          70400,
          140506,
          12195,
          88035,
          188550,
          117428,
          17172061,
          1259461,
          259134,
          1526602,
          9923156,
          91207,
          56128,
          61191,
          781254,
          165748,
          468697,
          298590,
          1796572,
          3531979,
          27876,
          15490778,
          2008937,
          1003295,
          27595,
          145714,
          16762,
          4267,
          104691,
          86954,
          28708,
          2049553,
          926546,
          12562662,
          9793035,
          0,
          317739,
          9627413,
          16290642,
          3847401,
          111277,
          12877,
          365062,
          185322,
          585289,
          1186115,
          63502,
          293619,
          331190,
          712534,
          136710,
          0,
          18700238,
          709467,
          45435,
          488831,
          653012,
          17830,
          96198,
          158374,
          3224728,
          23186476,
          4390,
          9125,
          34057411,
          43332260,
          342498,
          1052086,
          448116,
          18347,
          627481,
          348505,
          124351,
          0,
          96884,
          24242,
          10186,
          278703,
          107701,
          123865,
          166483,
          15273,
          646,
          47120,
          262864,
          84865,
          6938,
          913043,
          160283,
          1390447,
          949674,
          0,
          671959,
          183839,
          680894,
          516969,
          1443269,
          797517,
          2332697,
          119510,
          3394521,
          1197139,
          176587,
          592577,
          0,
          0,
          2490038,
          308931,
          571785,
          120757,
          7373575,
          91758,
          1427167,
          154556,
          0,
          2956526,
          93103,
          142845,
          134644,
          144703,
          276790,
          281234,
          112223,
          69060,
          122234,
          88382,
          49377,
          285841,
          766080,
          159875,
          221868,
          0,
          443708,
          11911,
          285746,
          15171620,
          81563,
          48421,
          312959,
          83757,
          2378432,
          778368,
          300097,
          191473,
          365720,
          340846,
          133794,
          20859,
          150200,
          155936,
          100036,
          1396453,
          35426,
          139566,
          145944,
          44394,
          10723,
          13674,
          13831,
          188147,
          115068,
          1040082,
          74882,
          220103,
          711852,
          104814,
          926965,
          4786,
          4005,
          8804,
          114856,
          58960,
          57277,
          431212,
          78275,
          111770,
          182050,
          506193,
          194653,
          31386,
          164268,
          359233,
          403814,
          406760,
          396145,
          376207,
          1377888,
          333863,
          17331,
          56147,
          17685,
          189668,
          575921,
          252783,
          101291,
          69496,
          330633,
          3269,
          127995,
          341222,
          85068,
          506982,
          43118,
          963662,
          1440650,
          190380,
          1147522,
          147663,
          2480375,
          323015,
          338984,
          94236,
          52460,
          3813,
          267752,
          13499733,
          152697,
          147278,
          718859,
          48500,
          186212,
          237925,
          136519,
          281648,
          166126,
          16671,
          2415121,
          117448,
          266202,
          27359,
          426604,
          2392,
          4424844,
          320639,
          2171,
          121105,
          817761,
          574347,
          5991608,
          10612,
          449164,
          378227,
          86800,
          365618,
          97973,
          140859,
          0,
          108318,
          106126,
          109,
          84617,
          250027,
          102277,
          27701,
          129406,
          165712,
          1423734,
          6138492,
          12396,
          1279220,
          645522,
          90062,
          192991,
          171599,
          72515,
          139694,
          370418,
          949563,
          1193421,
          53254,
          2193493,
          193420,
          164941,
          15371374,
          610304,
          183924,
          8735830,
          2572434,
          5531785,
          191403,
          496991,
          158008,
          679949,
          903746,
          910638,
          187296,
          255665,
          106420,
          3207857,
          580340,
          35784,
          0,
          665530,
          13962507,
          7533213,
          6472293,
          276465,
          573081,
          364017,
          374813,
          438454,
          441214,
          26714,
          222933,
          287494,
          163828,
          156531,
          10493,
          490643,
          122389,
          219242,
          2435145,
          770872,
          629491,
          459612,
          2932264,
          814397,
          440643,
          4031942,
          148024,
          204270,
          115424,
          617368,
          855447,
          0,
          10899,
          286441,
          1423217,
          311162,
          7249633,
          51212,
          311296,
          91181,
          427335,
          129140,
          129945,
          11301756,
          236168,
          2074816,
          77,
          4578,
          211503,
          615196,
          172732,
          8543,
          628790,
          881214,
          69058,
          5509,
          3197012,
          5797,
          125640,
          5010,
          26105,
          27411,
          79243,
          51842,
          129782,
          7709,
          5042557,
          3476092,
          15726,
          98455,
          287300,
          19222,
          610907,
          540825,
          316713,
          122986,
          6341269,
          6609,
          82033,
          17591,
          106312,
          186732,
          259291,
          187527,
          14766,
          2338550,
          1186736,
          212972,
          56369,
          0,
          104515,
          82212,
          84043,
          0,
          196945,
          239255,
          0,
          7139,
          85737,
          105635,
          4125,
          101768,
          60727,
          881548,
          835731,
          410815,
          384559,
          245822,
          264073,
          142526,
          355242,
          271123,
          322782,
          156270,
          173800,
          228161,
          53125,
          193003,
          185289,
          1404025,
          7951,
          373115,
          85592,
          115862,
          20102,
          350228,
          854108,
          600448,
          718,
          10001,
          1099437,
          1308450,
          0,
          105817,
          76508,
          140940,
          862157,
          418811,
          9556717,
          368161,
          11719043,
          515350,
          662776,
          1997856,
          260427,
          176864,
          331762,
          360993,
          119400,
          449474,
          353145,
          25599,
          210719,
          571938,
          2362522,
          55100,
          56542,
          2510672,
          676876,
          23248,
          614358,
          20888,
          0,
          9299998,
          19034010,
          1673042,
          13358214,
          2162790,
          372109,
          261776,
          888470,
          914916,
          381794,
          301234,
          173805,
          666990,
          128956,
          550912,
          150399,
          196804,
          189288,
          1368933,
          159852,
          236645,
          327317,
          378286,
          8553,
          178917,
          849616,
          81680,
          2722743,
          1104979,
          1084333,
          2805063,
          44270,
          81588,
          355913,
          2638,
          159050,
          1192262,
          1645729,
          52019,
          114837,
          604187,
          146879,
          9775205,
          95132,
          252481,
          1876883,
          13591905,
          1327,
          3618006,
          3122601,
          78374,
          5735,
          66109,
          178543,
          67622,
          1935551,
          118926,
          34653,
          132357,
          123383,
          59165,
          1638,
          10780,
          941764,
          414811,
          100265,
          77195,
          133858,
          79946,
          65042,
          52774,
          654460,
          87216,
          1419338,
          211134,
          14508458,
          64705,
          169383,
          40874,
          2497917,
          448309,
          1886788,
          8147686,
          740897,
          18283,
          148482,
          138475,
          82686,
          40776988,
          200448,
          149280,
          1669908,
          61069,
          2057819,
          0,
          2162941,
          85828,
          3434561,
          463124,
          1113135,
          0,
          446001,
          24435,
          291805,
          27178,
          393595,
          3236363,
          0,
          18642,
          21081,
          6908,
          367388,
          37834,
          315910,
          39579,
          7817,
          3879224,
          129332,
          104159,
          92298,
          116982,
          105459,
          19120540,
          226990,
          2672354,
          363514,
          11519034,
          426313,
          30820,
          79800,
          26644,
          170906,
          203362,
          55,
          845520,
          96972,
          498534,
          93234,
          156091,
          15967,
          9048,
          10046,
          127910,
          53274,
          57126,
          9391738,
          490641,
          5206,
          8563450,
          241778,
          504311,
          321348,
          167918,
          0,
          3287,
          18130,
          190789,
          2753476,
          55239565,
          5797344,
          22395435,
          255654,
          3182868,
          81484,
          862351,
          136651,
          65177,
          276320,
          27678997,
          18408,
          2289089,
          248416,
          894642,
          625,
          5811059,
          34303,
          5079,
          3262596,
          552185,
          565506,
          450528,
          9975618,
          5737,
          3455,
          447623,
          348026,
          399475,
          566956,
          713216,
          2274091,
          206130,
          1525963,
          591022,
          146370,
          212543,
          5530,
          144466,
          127541,
          153006,
          27052306,
          103408,
          14748,
          132782,
          13988,
          74482,
          156588,
          0,
          53925,
          15085,
          0,
          0,
          261087,
          220340,
          316931,
          844016,
          46133,
          38958,
          295477,
          139731,
          2139450,
          1508860,
          541635,
          217372,
          150643,
          80892,
          33821,
          79693,
          4356,
          150870,
          3179,
          2151,
          67822,
          100147,
          6490268,
          191694,
          315521,
          321222,
          271116,
          295071,
          2703365,
          228127
         ]
        }
       ],
       "layout": {
        "legend": {
         "tracegroupgap": 0
        },
        "margin": {
         "t": 60
        },
        "template": {
         "data": {
          "bar": [
           {
            "error_x": {
             "color": "#2a3f5f"
            },
            "error_y": {
             "color": "#2a3f5f"
            },
            "marker": {
             "line": {
              "color": "#E5ECF6",
              "width": 0.5
             },
             "pattern": {
              "fillmode": "overlay",
              "size": 10,
              "solidity": 0.2
             }
            },
            "type": "bar"
           }
          ],
          "barpolar": [
           {
            "marker": {
             "line": {
              "color": "#E5ECF6",
              "width": 0.5
             },
             "pattern": {
              "fillmode": "overlay",
              "size": 10,
              "solidity": 0.2
             }
            },
            "type": "barpolar"
           }
          ],
          "carpet": [
           {
            "aaxis": {
             "endlinecolor": "#2a3f5f",
             "gridcolor": "white",
             "linecolor": "white",
             "minorgridcolor": "white",
             "startlinecolor": "#2a3f5f"
            },
            "baxis": {
             "endlinecolor": "#2a3f5f",
             "gridcolor": "white",
             "linecolor": "white",
             "minorgridcolor": "white",
             "startlinecolor": "#2a3f5f"
            },
            "type": "carpet"
           }
          ],
          "choropleth": [
           {
            "colorbar": {
             "outlinewidth": 0,
             "ticks": ""
            },
            "type": "choropleth"
           }
          ],
          "contour": [
           {
            "colorbar": {
             "outlinewidth": 0,
             "ticks": ""
            },
            "colorscale": [
             [
              0,
              "#0d0887"
             ],
             [
              0.1111111111111111,
              "#46039f"
             ],
             [
              0.2222222222222222,
              "#7201a8"
             ],
             [
              0.3333333333333333,
              "#9c179e"
             ],
             [
              0.4444444444444444,
              "#bd3786"
             ],
             [
              0.5555555555555556,
              "#d8576b"
             ],
             [
              0.6666666666666666,
              "#ed7953"
             ],
             [
              0.7777777777777778,
              "#fb9f3a"
             ],
             [
              0.8888888888888888,
              "#fdca26"
             ],
             [
              1,
              "#f0f921"
             ]
            ],
            "type": "contour"
           }
          ],
          "contourcarpet": [
           {
            "colorbar": {
             "outlinewidth": 0,
             "ticks": ""
            },
            "type": "contourcarpet"
           }
          ],
          "heatmap": [
           {
            "colorbar": {
             "outlinewidth": 0,
             "ticks": ""
            },
            "colorscale": [
             [
              0,
              "#0d0887"
             ],
             [
              0.1111111111111111,
              "#46039f"
             ],
             [
              0.2222222222222222,
              "#7201a8"
             ],
             [
              0.3333333333333333,
              "#9c179e"
             ],
             [
              0.4444444444444444,
              "#bd3786"
             ],
             [
              0.5555555555555556,
              "#d8576b"
             ],
             [
              0.6666666666666666,
              "#ed7953"
             ],
             [
              0.7777777777777778,
              "#fb9f3a"
             ],
             [
              0.8888888888888888,
              "#fdca26"
             ],
             [
              1,
              "#f0f921"
             ]
            ],
            "type": "heatmap"
           }
          ],
          "heatmapgl": [
           {
            "colorbar": {
             "outlinewidth": 0,
             "ticks": ""
            },
            "colorscale": [
             [
              0,
              "#0d0887"
             ],
             [
              0.1111111111111111,
              "#46039f"
             ],
             [
              0.2222222222222222,
              "#7201a8"
             ],
             [
              0.3333333333333333,
              "#9c179e"
             ],
             [
              0.4444444444444444,
              "#bd3786"
             ],
             [
              0.5555555555555556,
              "#d8576b"
             ],
             [
              0.6666666666666666,
              "#ed7953"
             ],
             [
              0.7777777777777778,
              "#fb9f3a"
             ],
             [
              0.8888888888888888,
              "#fdca26"
             ],
             [
              1,
              "#f0f921"
             ]
            ],
            "type": "heatmapgl"
           }
          ],
          "histogram": [
           {
            "marker": {
             "pattern": {
              "fillmode": "overlay",
              "size": 10,
              "solidity": 0.2
             }
            },
            "type": "histogram"
           }
          ],
          "histogram2d": [
           {
            "colorbar": {
             "outlinewidth": 0,
             "ticks": ""
            },
            "colorscale": [
             [
              0,
              "#0d0887"
             ],
             [
              0.1111111111111111,
              "#46039f"
             ],
             [
              0.2222222222222222,
              "#7201a8"
             ],
             [
              0.3333333333333333,
              "#9c179e"
             ],
             [
              0.4444444444444444,
              "#bd3786"
             ],
             [
              0.5555555555555556,
              "#d8576b"
             ],
             [
              0.6666666666666666,
              "#ed7953"
             ],
             [
              0.7777777777777778,
              "#fb9f3a"
             ],
             [
              0.8888888888888888,
              "#fdca26"
             ],
             [
              1,
              "#f0f921"
             ]
            ],
            "type": "histogram2d"
           }
          ],
          "histogram2dcontour": [
           {
            "colorbar": {
             "outlinewidth": 0,
             "ticks": ""
            },
            "colorscale": [
             [
              0,
              "#0d0887"
             ],
             [
              0.1111111111111111,
              "#46039f"
             ],
             [
              0.2222222222222222,
              "#7201a8"
             ],
             [
              0.3333333333333333,
              "#9c179e"
             ],
             [
              0.4444444444444444,
              "#bd3786"
             ],
             [
              0.5555555555555556,
              "#d8576b"
             ],
             [
              0.6666666666666666,
              "#ed7953"
             ],
             [
              0.7777777777777778,
              "#fb9f3a"
             ],
             [
              0.8888888888888888,
              "#fdca26"
             ],
             [
              1,
              "#f0f921"
             ]
            ],
            "type": "histogram2dcontour"
           }
          ],
          "mesh3d": [
           {
            "colorbar": {
             "outlinewidth": 0,
             "ticks": ""
            },
            "type": "mesh3d"
           }
          ],
          "parcoords": [
           {
            "line": {
             "colorbar": {
              "outlinewidth": 0,
              "ticks": ""
             }
            },
            "type": "parcoords"
           }
          ],
          "pie": [
           {
            "automargin": true,
            "type": "pie"
           }
          ],
          "scatter": [
           {
            "marker": {
             "colorbar": {
              "outlinewidth": 0,
              "ticks": ""
             }
            },
            "type": "scatter"
           }
          ],
          "scatter3d": [
           {
            "line": {
             "colorbar": {
              "outlinewidth": 0,
              "ticks": ""
             }
            },
            "marker": {
             "colorbar": {
              "outlinewidth": 0,
              "ticks": ""
             }
            },
            "type": "scatter3d"
           }
          ],
          "scattercarpet": [
           {
            "marker": {
             "colorbar": {
              "outlinewidth": 0,
              "ticks": ""
             }
            },
            "type": "scattercarpet"
           }
          ],
          "scattergeo": [
           {
            "marker": {
             "colorbar": {
              "outlinewidth": 0,
              "ticks": ""
             }
            },
            "type": "scattergeo"
           }
          ],
          "scattergl": [
           {
            "marker": {
             "colorbar": {
              "outlinewidth": 0,
              "ticks": ""
             }
            },
            "type": "scattergl"
           }
          ],
          "scattermapbox": [
           {
            "marker": {
             "colorbar": {
              "outlinewidth": 0,
              "ticks": ""
             }
            },
            "type": "scattermapbox"
           }
          ],
          "scatterpolar": [
           {
            "marker": {
             "colorbar": {
              "outlinewidth": 0,
              "ticks": ""
             }
            },
            "type": "scatterpolar"
           }
          ],
          "scatterpolargl": [
           {
            "marker": {
             "colorbar": {
              "outlinewidth": 0,
              "ticks": ""
             }
            },
            "type": "scatterpolargl"
           }
          ],
          "scatterternary": [
           {
            "marker": {
             "colorbar": {
              "outlinewidth": 0,
              "ticks": ""
             }
            },
            "type": "scatterternary"
           }
          ],
          "surface": [
           {
            "colorbar": {
             "outlinewidth": 0,
             "ticks": ""
            },
            "colorscale": [
             [
              0,
              "#0d0887"
             ],
             [
              0.1111111111111111,
              "#46039f"
             ],
             [
              0.2222222222222222,
              "#7201a8"
             ],
             [
              0.3333333333333333,
              "#9c179e"
             ],
             [
              0.4444444444444444,
              "#bd3786"
             ],
             [
              0.5555555555555556,
              "#d8576b"
             ],
             [
              0.6666666666666666,
              "#ed7953"
             ],
             [
              0.7777777777777778,
              "#fb9f3a"
             ],
             [
              0.8888888888888888,
              "#fdca26"
             ],
             [
              1,
              "#f0f921"
             ]
            ],
            "type": "surface"
           }
          ],
          "table": [
           {
            "cells": {
             "fill": {
              "color": "#EBF0F8"
             },
             "line": {
              "color": "white"
             }
            },
            "header": {
             "fill": {
              "color": "#C8D4E3"
             },
             "line": {
              "color": "white"
             }
            },
            "type": "table"
           }
          ]
         },
         "layout": {
          "annotationdefaults": {
           "arrowcolor": "#2a3f5f",
           "arrowhead": 0,
           "arrowwidth": 1
          },
          "autotypenumbers": "strict",
          "coloraxis": {
           "colorbar": {
            "outlinewidth": 0,
            "ticks": ""
           }
          },
          "colorscale": {
           "diverging": [
            [
             0,
             "#8e0152"
            ],
            [
             0.1,
             "#c51b7d"
            ],
            [
             0.2,
             "#de77ae"
            ],
            [
             0.3,
             "#f1b6da"
            ],
            [
             0.4,
             "#fde0ef"
            ],
            [
             0.5,
             "#f7f7f7"
            ],
            [
             0.6,
             "#e6f5d0"
            ],
            [
             0.7,
             "#b8e186"
            ],
            [
             0.8,
             "#7fbc41"
            ],
            [
             0.9,
             "#4d9221"
            ],
            [
             1,
             "#276419"
            ]
           ],
           "sequential": [
            [
             0,
             "#0d0887"
            ],
            [
             0.1111111111111111,
             "#46039f"
            ],
            [
             0.2222222222222222,
             "#7201a8"
            ],
            [
             0.3333333333333333,
             "#9c179e"
            ],
            [
             0.4444444444444444,
             "#bd3786"
            ],
            [
             0.5555555555555556,
             "#d8576b"
            ],
            [
             0.6666666666666666,
             "#ed7953"
            ],
            [
             0.7777777777777778,
             "#fb9f3a"
            ],
            [
             0.8888888888888888,
             "#fdca26"
            ],
            [
             1,
             "#f0f921"
            ]
           ],
           "sequentialminus": [
            [
             0,
             "#0d0887"
            ],
            [
             0.1111111111111111,
             "#46039f"
            ],
            [
             0.2222222222222222,
             "#7201a8"
            ],
            [
             0.3333333333333333,
             "#9c179e"
            ],
            [
             0.4444444444444444,
             "#bd3786"
            ],
            [
             0.5555555555555556,
             "#d8576b"
            ],
            [
             0.6666666666666666,
             "#ed7953"
            ],
            [
             0.7777777777777778,
             "#fb9f3a"
            ],
            [
             0.8888888888888888,
             "#fdca26"
            ],
            [
             1,
             "#f0f921"
            ]
           ]
          },
          "colorway": [
           "#636efa",
           "#EF553B",
           "#00cc96",
           "#ab63fa",
           "#FFA15A",
           "#19d3f3",
           "#FF6692",
           "#B6E880",
           "#FF97FF",
           "#FECB52"
          ],
          "font": {
           "color": "#2a3f5f"
          },
          "geo": {
           "bgcolor": "white",
           "lakecolor": "white",
           "landcolor": "#E5ECF6",
           "showlakes": true,
           "showland": true,
           "subunitcolor": "white"
          },
          "hoverlabel": {
           "align": "left"
          },
          "hovermode": "closest",
          "mapbox": {
           "style": "light"
          },
          "paper_bgcolor": "white",
          "plot_bgcolor": "#E5ECF6",
          "polar": {
           "angularaxis": {
            "gridcolor": "white",
            "linecolor": "white",
            "ticks": ""
           },
           "bgcolor": "#E5ECF6",
           "radialaxis": {
            "gridcolor": "white",
            "linecolor": "white",
            "ticks": ""
           }
          },
          "scene": {
           "xaxis": {
            "backgroundcolor": "#E5ECF6",
            "gridcolor": "white",
            "gridwidth": 2,
            "linecolor": "white",
            "showbackground": true,
            "ticks": "",
            "zerolinecolor": "white"
           },
           "yaxis": {
            "backgroundcolor": "#E5ECF6",
            "gridcolor": "white",
            "gridwidth": 2,
            "linecolor": "white",
            "showbackground": true,
            "ticks": "",
            "zerolinecolor": "white"
           },
           "zaxis": {
            "backgroundcolor": "#E5ECF6",
            "gridcolor": "white",
            "gridwidth": 2,
            "linecolor": "white",
            "showbackground": true,
            "ticks": "",
            "zerolinecolor": "white"
           }
          },
          "shapedefaults": {
           "line": {
            "color": "#2a3f5f"
           }
          },
          "ternary": {
           "aaxis": {
            "gridcolor": "white",
            "linecolor": "white",
            "ticks": ""
           },
           "baxis": {
            "gridcolor": "white",
            "linecolor": "white",
            "ticks": ""
           },
           "bgcolor": "#E5ECF6",
           "caxis": {
            "gridcolor": "white",
            "linecolor": "white",
            "ticks": ""
           }
          },
          "title": {
           "x": 0.05
          },
          "xaxis": {
           "automargin": true,
           "gridcolor": "white",
           "linecolor": "white",
           "ticks": "",
           "title": {
            "standoff": 15
           },
           "zerolinecolor": "white",
           "zerolinewidth": 2
          },
          "yaxis": {
           "automargin": true,
           "gridcolor": "white",
           "linecolor": "white",
           "ticks": "",
           "title": {
            "standoff": 15
           },
           "zerolinecolor": "white",
           "zerolinewidth": 2
          }
         }
        },
        "title": {
         "text": "California CARB-Reported GHG Emissions by Facility",
         "x": 0.5
        }
       }
      },
      "text/html": [
       "<div>                            <div id=\"2c4b5cef-998f-4f1b-92a7-76cbd78be884\" class=\"plotly-graph-div\" style=\"height:525px; width:100%;\"></div>            <script type=\"text/javascript\">                require([\"plotly\"], function(Plotly) {                    window.PLOTLYENV=window.PLOTLYENV || {};                                    if (document.getElementById(\"2c4b5cef-998f-4f1b-92a7-76cbd78be884\")) {                    Plotly.newPlot(                        \"2c4b5cef-998f-4f1b-92a7-76cbd78be884\",                        [{\"branchvalues\":\"total\",\"domain\":{\"x\":[0.0,1.0],\"y\":[0.0,1.0]},\"hovertemplate\":\"labels=%{label}<br>Total GHG=%{value}<br>parent=%{parent}<br>id=%{id}<extra></extra>\",\"ids\":[\"3M Corona\",\"AAK Richmond\",\"AB&I Foundry\",\"ABI Foundry\",\"ACE Cogeneration\",\"AES Alamitos, LLC\",\"AES Huntington Beach, LLC\",\"AES Redondo Beach LLC\",\"APS Energy Services Company, Inc.\",\"Aemetis Advanced Fuels Keyes, Inc.\",\"Aera Energy Belridge Gas Plant 32\",\"Aera Energy Coastal Basins\",\"Aera Energy LLC, 25 Hill, 93252\",\"Aera Energy LLC, Alberta, Finley, Shale, 93224\",\"Aera Energy LLC, Anderson Fitzgerald, 93251\",\"Aera Energy LLC, Belridge, 93251\",\"Aera Energy LLC, Buena Fe, 93224\",\"Aera Energy LLC, Calso, 93251\",\"Aera Energy LLC, Coalinga, 93210\",\"Aera Energy LLC, Lost Hills, 93251\",\"Aera Energy LLC, MOCO, D&E, 93252\",\"Aera Energy LLC, Metson, 93252\",\"Aera Energy LLC, San Ardo, 93450\",\"Aera Energy LLC, Ventura Avenue, 93301\",\"Aera Energy San Joaquin Basin\",\"Aera Energy Ventura Basin (opt-in 2014)\",\"Aera Energy Ventura Gas Plant\",\"Aerojet Rocketdyne\",\"Agrium US Inc\",\"Air Liquide El Segundo Hydrogen Plant\",\"Air Liquide Large Industries US L.P. - Rodeo Hydrogen Plant\",\"Air Products & Chemicals, Inc., Martinez\",\"Air Products - APMC - Stockton CoGen\",\"Air Products Carson Hydrogen Plant\",\"Air Products Manufacturing Corporation, Sacramento\",\"Air Products Wilmington Hydrogen Plant\",\"Algonquin Power Sanger, LLC\",\"All American Asphalt - Corona\",\"All American Asphalt - Irvine\",\"All American Oil & Gas. Inc.\",\"Allergan\",\"Alon Asphalt Company - Elk Grove Asphalt Terminal\",\"Alon Bakersfield Refinery - Area 3\",\"Alon Bakersfield Refinery - Areas 1&2\",\"Alstyle Apparel\",\"AltaGas Pomona Energy Inc (San Gabriel Energy Facility)\",\"AltaGas Ripon Energy Inc.\",\"Ameresco Chiquita Energy LLC\",\"Ameresco Forward LLC\",\"Ameresco Half Moon Bay\",\"Ameresco Keller Canyon\",\"Ameresco San Joaquin LLC \",\"Ameresco Santa Cruz\",\"Ameresco Vasco Road\",\"Amgen Inc.\",\"Ampersand Chowchilla Biomass, LLC, 93610\",\"Ampine: A Division of Timber Products\",\"Anheuser-Busch LLC - Fairfield (opt-in 2013)\",\"Anheuser-Busch LLC - Los Angeles Brewery\",\"Apple Inc - Bloom Energy Servers\",\"Applied Energy LLC - NAS North Island\",\"Applied Energy LLC - NTC/MCRD\",\"Applied Energy LLC - U.S. Naval Station\",\"Arcturus Manufacturing\",\"Ardagh Glass Inc.\",\"Avenal State Prison\",\"Azteca Milling, L.P.\",\"BFI/ Sunshine Canyon City/County Landfill\",\"BWP/MPP Electricity Generating Facilities at 164 W. Magnolia\",\"Badger Creek Limited\",\"Baker Commodities, Inc., Kerman Division\",\"Baker Commodities, Inc., Vernon Division\",\"Baxalta US Inc.\",\"Bayer Healthcare\",\"Bear Mountain Limited\",\"Berry Petroleum Company - Ethel D\",\"Berry Petroleum Company - Homebase\",\"Berry Petroleum Company - North Midway Sunset\",\"Berry Petroleum Company - Placerita\",\"Berry Petroleum Company - Poso Creek\",\"Berry Petroleum Company - San Joaquin Basin\",\"Big Valley Power LLC\",\"Biola University\",\"Blue Lake Power\",\"Blythe Energy\",\"Bottle Rock Power - Geothermal\",\"Bowerman Power LFG, LLC\",\"Braun Medical Inc\",\"Brea Generation, LLC\",\"Breitburn Operating LP - Los Angeles Basin Facility\",\"Bridge Energy, LLC\",\"Buena Vista Biomass Power, LLC\",\"Burbank Water And Power (Generating Facility)\",\"Burney Forest Products\",\"Byron Power Partners LP\",\"CMO Inc\",\"CP Kelco San Diego\",\"CalEnergy Operating Corporation - J J Elmore - Geothermal\",\"CalEnergy Operating Corporation - J M Leathers - Geothermal\",\"CalEnergy Operating Corporation - Region 1 - Geothermal\",\"CalEnergy Operating Corporation - Region 2 - Geothermal\",\"CalPeak Power - Border\",\"CalPeak Power - Enterprise\",\"CalPeak Power - Panoche, LLC\",\"CalPeak Power - Vaca Dixon, LLC\",\"CalPortland Company, Colton Plant\",\"CalPortland Company, Mojave Plant\",\"CalPortland Company, Oro Grande Plant\",\"California Dairies, Inc. Artesia\",\"California Dairies, Inc. Fresno\",\"California Dairies, Inc. Los Banos\",\"California Dairies, Inc. Tipton\",\"California Dairies, Inc. Turlock\",\"California Dairies, Inc. Visalia\",\"California Institute of Technology (CalTech)\",\"California Medical Facility\",\"California Natural Products\",\"California Paperboard Corporation (opt-in 2013)\",\"California Polytechnic State University\",\"California Power Holdings, LLC-Chowchilla Facility, 95360\",\"California Power Holdings, LLC-Red Bluff Facility, 96080\",\"California Resources Elk Hills, LLC - 35R Gas Plant\",\"California Resources Production Corporation - 760 Los Angeles Basin\",\"California Resources Production Corporation - SCVGP Gas Plant\",\"California Resources Production Corporation - Sacramento Valley Basin 730\",\"California Resources Production Corporation - San Joaquin Valley Basin 745\",\"California Resources Production Corporation - Ventura Basin 755\",\"California State Prison - Corcoran\",\"California State Prison - Sacramento\",\"California State University, Channel Islands\",\"California State University, Fullerton\",\"California State University, San Diego\",\"California State University, San Jose\",\"California Steel Industries\",\"Calpine - CCFC Sutter Energy, LLC\",\"Calpine - Creed Energy Center, LLC\",\"Calpine - Delta Energy Center, LLC\",\"Calpine - Geysers Power Company, LLC - Geothermal\",\"Calpine - Gilroy Cogen, L.P., Gilroy Cogen_Peaker\",\"Calpine - Gilroy Energy Center, LLC For Lambie Energy Center\",\"Calpine - Gilroy Energy Center, LLC, Feather River\",\"Calpine - Gilroy Energy Center, LLC, Gilroy Peaker\",\"Calpine - Gilroy Energy Center, LLC, King City Peaker\",\"Calpine - Gilroy Energy Center, LLC, Riverview Peaker\",\"Calpine - Gilroy Energy Center, LLC, Wolfskill Peaker\",\"Calpine - Goose Haven Energy Center, Peaker\",\"Calpine - King City Cogen, LLC, King City Cogen_Peaker\",\"Calpine - Los Esteros Critical Energy Facility, LLC\",\"Calpine - Los Medanos Energy Center, LLC\",\"Calpine - Metcalf Energy Center, LLC\",\"Calpine - Monterey Cogeneration, Inc., Watsonville\",\"Calpine - O.L.S. Energy - Agnews Inc. 95134\",\"Calpine - Otay Mesa Energy Center\",\"Calpine - Pastoria Energy Facility L.L.C.\",\"Calpine - Russell City Energy Center\",\"Calpine - Yuba City Energy Center (Gilroy Energy Center, LLC)\",\"Campbell Soup Supply Company - Sacramento\",\"Campbell Soup Supply Company, L.L.C. - Dixon\",\"Campbell Soup Supply Company, L.L.C. - Stockton\",\"Canyon Power Project (CPP)\",\"Cardinal Cogen\",\"Cargill Salt Operations\",\"Carlsbad Energy Center Project\",\"Carlton Forge Works\",\"Carson Cogeneration Co\",\"Cedars-Sinai Medical Center\",\"Cemex - Cement Plant Davenport\",\"Cemex Construction Materials Pacific LLC - Victorville Plant\",\"Central Contra Costa Sanitary District\",\"Central Valley Meat\",\"CertainTeed Corporation\",\"Chalk Cliff Limited\",\"Chemical Lime Company\",\"Chemtrade West US, LLC\",\"Chevron 17Z Gas Plant\",\"Chevron AAPG 740 Coastal Basin\",\"Chevron AAPG 745 San Joaquin Basin\",\"Chevron Business and Real Estate Services, 94520\",\"Chevron Energy Solutions, 93272\",\"Chevron Products Company - El Segundo Refinery, 90245\",\"Chevron Products Company - Richmond Refinery, 94802\",\"Chevron U.S.A Inc - Coalinga Asset, 93210\",\"Chevron U.S.A Inc - Cymric Asset, 93251\",\"Chevron U.S.A Inc - Kern River Asset, 93308\",\"Chevron U.S.A Inc - Lost Hills Asset, 93249\",\"Chevron U.S.A Inc - Midway Sunset Asset, 93225\",\"Chevron U.S.A Inc - San Ardo Asset, 93540\",\"Children's Hospital Los Angeles\",\"Chino Basin Desalter Authority\",\"Chiquita Canyon Landfill\",\"Chula Vista Energy Center\",\"City Of Santa Rosa Wastewater\",\"City of Anaheim, Combustion Turbine Generator\",\"City of Colton - Generation\",\"City of Hope National Medical Center\",\"City of Palo Alto Water Quality Control Treatment Plant\",\"City of Riverside, Public Works Department, Regional H2O Plant\",\"City of Roseville - Roseville Power Plant #2\",\"City of San Diego, Public Utilities Dept, North City Water Reclamation Plant\",\"City of San Diego, Public Utilities Dept, Point Loma Treatment Plant\",\"City of San Diego, Public Utilities Dept, Pump Station 2\",\"City of Santa Cruz Wastewater Treatment\",\"Civic Center Cogen, LA County\",\"Clougherty Packing, LLC\",\"Coalinga Cogeneration Facility\",\"Collins Pine Co.\",\"Colmac Energy, Inc. 92254\",\"ConAgra - Oakdale\",\"ConAgra Foods - Helm Facility\",\"Coolwater Generating Station\",\"Corona Energy Partners, Ltd.\",\"Coso Energy Developers (BLM E&W) - Geothermal\",\"Coso Finance Partners (Navy I) - Geothermal\",\"Coso Power Developers (Navy II) - Geothermal\",\"Covanta - Burney Mountain Power\",\"Covanta - Delano, Inc.\",\"Covanta - Mendota\",\"Covanta - Mt. Lassen Power\",\"Covanta - Pacific Oroville Power Inc\",\"Covanta - Pacific Recovery Corp - Salinas Facility\",\"Covanta - Pacific Recovery Corporation - Oxnard Facility\",\"Covanta - Stanislaus, Inc\",\"Crestwood West Coast, LLC\",\"Crimson Resource Management Corp\",\"Criterion Catalyst and Technologies, L. P.\",\"Crockett Cogeneration Project, LP\",\"Custom Alloy Light Metals, Inc.\",\"DG Fairhaven Power LLC\",\"DSH-Napa State Hospital\",\"DST Output, LLC\",\"DTE Stockton, LLC\",\"Darling Ingredients Inc - Fresno\",\"Darling Ingredients Inc - Los Angeles\",\"Darling Ingredients Inc - Turlock\",\"Dart Container Corporation of California\",\"DeMenno/Kerdoon\",\"Del Monte - Hanford\",\"Del Monte - Modesto\",\"Delano Energy Center, LLC\",\"Delano Growers Grape Products\",\"Diamond Pet Food Processors of California, LLC - Lathrop\",\"Diamond Pet Food Processors of California, LLC - Ripon\",\"Dicalite Minerals Corp.\",\"Dinuba Energy\",\"Disneyland Resort\",\"Double C Limited\",\"Dow Chemical\",\"Dow Chemical Company - Pittsburg\",\"Dublin San Ramon Services District\",\"Dynegy Morro Bay, LLC\",\"Dynegy Moss Landing, LLC\",\"Dynegy Oakland, LLC.\",\"Dynegy South Bay, LLC\",\"E & J Gallo Winery - Fresno\",\"E & J Gallo Winery - Livingston\",\"E&B Natural Resources - San Joaquin Valley\",\"E.F. Oxnard LLC\",\"ERG Operating Company, LLC. 750 Santa Maria Basin\",\"Eagle Petroleum - Lynch Canyon Field\",\"East Bay Municipal Utility District\",\"Eco Services - Dominguez\",\"Eco Services - Martinez\",\"Edgington Oil Company\",\"Edwards Air Force Base\",\"Eisenhower Medical Center\",\"El Cajon Energy, LLC\",\"Elk Hills Power, LLC\",\"Emidio Pump Station - Shell Pipeline Company\",\"Encina Water Pollution Control Facility\",\"Energy 2001, Placer WRSL\",\"Equinix - Great Oaks\",\"Equinix - Lundy\",\"Equinix Caspian - Bloom Energy Servers\",\"Equinix Duane - Bloom Energy Servers\",\"Escalon Premier Brands, a Division of Kraft Heinz Company\",\"Escondido Energy Center, LLC\",\"Etiwanda Generating Station\",\"Exide Technologies\",\"ExxonMobil - South Belridge Hill\",\"ExxonMobil LFC Facility\",\"ExxonMobil POPCO Facility\",\"ExxonMobil SYU Project\",\"Fairfield-Suisun Sewer District\",\"FlexEnergy Energy Systems - Project East, LLC.\",\"Forged Metals, Inc.\",\"Foster Dairy Farms DBA Crystal Creamery\",\"Foster Farms Porterville Plant \",\"Foster Farms Traver Complex \",\"Foster Poultry Farms - Livingston Complex, 95334\",\"Freeport-McMoRan Oil & Gas LLC - Gaviota Oil Heating Facility\",\"Fresno Cogeneration Partners, LP\",\"Fresno-Clovis Regional Wastewater Reclamation Facility\",\"Frito Lay - Kern Plant\",\"Frito Lay - Modesto\",\"Frito Lay - Rancho Cucamonga\",\"G2 Energy Ostrom Road, LLC\",\"GWF Power Systems, L.P., East Third Street Power Plant\",\"GWF Power Systems, L.P., Loveridge Road Power Plant\",\"GWF Power Systems, L.P., Nichols Road Power Plant\",\"GWF Power Systems, L.P., Wilbur East Power Plant\",\"GWF Power Systems, L.P., Wilbur West Power Plant\",\"Gallo Glass Company\",\"Gas Recovery Systems - Coyote Canyon\",\"Gas Recovery Systems LLC ? American Canyon\",\"Gas Recovery Systems LLC ? Guadalupe\",\"Gas Recovery Systems LLC ? Menlo Park\",\"GenOn Delta, Contra Costa Generating Station 94509\",\"GenOn Delta, Pittsburg Generating Station 94565\",\"GenOn Potrero, LLC\",\"GenPower Lincon Landfill Power Plant\",\"Genentech - Vacaville\",\"Genentech Inc South San Francisco\",\"General Chemical Corporation\",\"General Mills Cereal Properties, LLC\",\"Georgia-Pacific Gypsum LLC - Antioch\",\"Georgia-Pacific Gypsum LLC - San Leandro\",\"Goal Line LP, 92025\",\"Goodrich Corporation\",\"Graphic Packaging International, Inc\",\"Grayson Power Plant\",\"Greka Santa Maria Refinery \",\"Guardian Industries, LLC\",\"HGST, Inc\",\"HL Power Company\",\"Hanford Energy Park Peaker\",\"Hanford L.P., GWF, Hanford Power Plant\",\"Harbor Cogeneration Company, LLC\",\"Harris Ranch Beef Company\",\"Heber Geothermal Co.\",\"Henrietta Peaker Plant\",\"High Desert Power Project, LLC\",\"High Sierra Cogeneration\",\"High Sierra Limited\",\"Hilmar Cheese Company\",\"Hilmar Cheese, Inc. - Turlock Facility\",\"Hoag Memorial Hospital Presbyterian\",\"Holmes Western Oil Corporation\",\"Hood Dairy\",\"Houweling Nurseries Oxnard, Inc\",\"Hudson Ranch Power I - Geothermal\",\"Humboldt Flakeboard Panels, Inc.\",\"Humboldt Sawmill Company\",\"Huntington Memorial Hospital\",\"Hyperion Water Reclamation Plant\",\"IBE Project - Bloom Energy Servers\",\"Imerys Minerals California, Inc.\",\"Imperial Irrigation District (IID), Coachella\",\"Imperial Irrigation District (IID), El Centro Generating Station\",\"Imperial Irrigation District (IID), Niland Gas Turbine Plant\",\"Imperial Irrigation District (IID), Rockwood\",\"Imperial Valley Resource Recovery, LLC\",\"Ingomar Packing Company\",\"Ingredion Incorporated Stockton Plant\",\"Inland Empire Energy Center, LLC.\",\"Inland Empire Utilities Agency RP-1\",\"Ivanpah Solar Electric Generating System\",\"J. G. Boswell Tomato Company Kern\",\"J.G. Boswell Company West Processing Townsite\",\"J.G.Boswell Tomato Company Kings\",\"JP Oil\",\"JR Simplot Company\",\"JRW Associates LP\",\"John Wayne Airport Orange County\",\"Johns Manville (opt-in 2013)\",\"Johnson & Johnson, PRD, L.L.C.\",\"K2 Pure Solutions, Inc\",\"KES Kingsburg L.P.--Kingsburg Cogeneration Facility\",\"Kaiser Aluminum Fabricated Products, LLC\",\"Kaiser Permanente - Bloom Energy Servers\",\"Kaweah Delta Medical Center\",\"Kern Front Limited\",\"Kern Oil Refinery\",\"Kern River Cogeneration Facility\",\"Keysight Technologies Inc - Bloom Energy Servers\",\"Kiefer Landfill, Department of Waste Management and Recycling\",\"Kimberly Clark Worldwide Inc.\",\"Kirby Hills Compressor Station\",\"Knauf Insulation\",\"Kraft Heinz Foods Company - Tulare\",\"Kyocera International Inc.\",\"LAC+USC Medical Center\",\"LACSD - Calabasas LF\",\"LACSD - Commerce Refuse To Energy\",\"LACSD - Joint Water Pollution Control Plant\",\"LACSD - Palos Verdes Gas to Energy Facility\",\"LACSD - Puente Hills Landfill\",\"LACSD - Spadra Landfill\",\"LWFP LLC\",\"La Paloma Generating Plant - GHG\",\"Land O' Lakes, Inc.\",\"Lawrence Livermore National Laboratory (LLNL)\",\"Lehigh Southwest Cement Co - Cupertino\",\"Lehigh Southwest Cement Co - Redding\",\"Lehigh Southwest Cement Co - Tehachapi\",\"Leprino Foods - Lemoore East\",\"Leprino Foods - Lemoore West\",\"Leprino Foods - Tracy\",\"Lhoist North America - Natividad Plant\",\"Liberty Packing - Los Banos (Morning Star)\",\"Live Oak Limited\",\"Lockheed Martin Aeronautics Company - Palmdale\",\"Lockheed Martin Corporation - Sunnyvale\",\"Lodi Compressor Station\",\"Lodi Energy Center\",\"Loma Linda University\",\"Lompoc Field Stationary Source\",\"Lopez Canyon Landfill\",\"Los Angeles Department of Water & Power-Harbor Generating Station (LADWP)\",\"Los Angeles Department of Water & Power-Haynes Generating Station (LADWP)\",\"Los Angeles Department of Water & Power-Scattergood Generating Station (LADWP)\",\"Los Angeles Department of Water & Power-Valley Generating Station (LADWP)\",\"Los Angeles International Airport (LAX)\",\"Los Gatos Tomato Products\",\"Lunday-Thagard Company, DBA World Oil Refining\",\"Luz Solar Partners LTD\",\"Luz Solar Partners LTD VIII & IX\",\"MAGTFTC MCAGCC Twentynine Palms\",\"MATRIX OIL CORP\",\"MM Lopez Energy LLC\",\"MM Prima Deshecha Energy LLC\",\"MM San Diego LLC - North City\",\"MM Tajiguas Energy LLC\",\"MM Tulare Energy LLC\",\"MM West Covina LLC\",\"MM Yolo Power LLC\",\"MP Mine Operations LLC\",\"Macpherson Oil Company\",\"Madera Power LLC\",\"Magnolia Power Plant, SCPPA (Generating Facility/Unit)\",\"Malaga Power, LLC\",\"Malburg Generating Station\",\"Mandalay Generating Station\",\"Mariposa Energy LLC\",\"Martinez Cogen Limited Partnership\",\"Maruchan, Inc. - Laguna Canyon\",\"Matchmaster Dyeing & Finishing\",\"Matsui Nursery, Inc.\",\"McKittrick Limited\",\"Merced Power, LLC, 95340\",\"Mesa Consolidated Water District Well #5\",\"Metal Coaters of California\",\"Metropolitan State Hospital\",\"Mid-Set Cogeneration Facility\",\"Midway Peaking, LLC\",\"Midway-Sunset Cogeneration\",\"Milk Specialties Global\",\"MillerCoors USA LLC.\",\"Mira Loma Metal Container Corp\",\"Miramar - MM and Miramar Energy\",\"Mission Bell Winery \",\"Mission Foods Corporation\",\"Mitsubishi Cement 2000\",\"Mizkan America, Inc.\",\"Modesto Irrigation District (MID) - Woodland Generation Station, 95351\",\"Modesto Irrigation District (MID), Sconza Candy\",\"Modesto Irrigation District - McClure Generation Station, 95357\",\"Modesto Irrigation District - Ripon Generation Station, 95366\",\"Mojave Cogeneration Co\",\"Monterey Regional Waste Management District\",\"Monterey Regional Water Pollution Control Agency, Cogen, 93933\",\"Morning Star Packing Company - Los Banos\",\"Morning Star Packing Company - Williams\",\"Morton Salt, Inc.\",\"Mountain Utilities (MU) Power House\",\"Mt. Poso Cogeneration Company\",\"NALF San Clemente Island\",\"NASA Ames Research Center\",\"NBVC San Nicolas Island\",\"NCPA - CT1 Alameda\",\"NM Colton Genco LLC\",\"NM Mid Valley Genco, LLC\",\"NM Milliken Genco LLC\",\"NOVE Power Plant\",\"NRG Energy - El Cajon\",\"NRG Energy - El Segundo\",\"NRG Energy - Encina\",\"NRG Energy - Kearny 1\",\"NRG Energy - Kearny 2 and 3\",\"NRG Energy - Long Beach\",\"NRG Energy - Miramar\",\"NRG Energy - San Francisco Thermal\",\"NRG, Marsh Landing Generating Station \",\"Naftex Operating Company\",\"National Beef\",\"National Cement Company - Lebec\",\"National Training Center & Fort Irwin\",\"Naval Air Station Lemoore\",\"Naval Air Station North Island\",\"Naval Air Weapons Station China Lake\",\"Naval Medical Center - San Diego\",\"New NGC, Inc - Long Beach\",\"New NGC, Inc - Richmond\",\"New United Motor Manufacturing, NUMMI\",\"New-Indy Ontario, LLC Linerboard Mill\",\"New-Indy Oxnard LLC\",\"Newark Pacific Paperboard (opt-in 2013)\",\"Newby Island , 95134\",\"Newby Island II, 95134\",\"Newport Fab, LLC (DBA TowerJazz Semiconductor)\",\"Nong Shim America, Inc.\",\"Nor-Cal Beverage Company, Inc. - Anaheim\",\"Northern California Power Agency - Alameda Combustion Turbine Project No. 1\",\"Northern California Power Agency - Geothermal Plant No. 1\",\"Northern California Power Agency - Geothermal Plant No. 2\",\"Northern California Power Agency - Lodi Combustion Turbine Proj No. 1\",\"Northern California Power Agency - Lodi Combustion Turbine Proj No. 2 - STIG\",\"Northrop Grumman - Palmdale\",\"Northrop Grumman Marine Systems - Sunnyvale\",\"Northrop Grumman Mission Systems - San Diego\",\"Northrop Grumman Systems Corp. - Redondo Beach\",\"Northrop Grumman Systems Corporation - El Segundo\",\"OLS Energy Chino\",\"Oildale Energy LLC\",\"Olam West Coast Inc - Williams\",\"Olam West Coast Inc- Lemoore\",\"Olam West Coast, Inc. - Firebaugh\",\"Olam West Coast, Inc. - Gilroy\",\"Olive View Medical Center, Los Angeles County Department of Health Services\",\"Orange County Central Utility Facility\",\"Orange County Sanitation District - Plant 1\",\"Orange County Sanitation District - Plant 2\",\"Orange County Waste & Recycling/ Frank R. Bowerman Landfill\",\"Orange County Waste & Recycling/ Olinda Alpha Landfill\",\"Orange Grove Energy Center\",\"Orange Plant - R.J. Noble\",\"Ormat Nevada, Inc. / ORNI 18 North Brawley - Geothermal\",\"Ormat Nevada, Inc./ GEM 2 & 3 - Geothermal\",\"Ormond Beach Generating Station\",\"Oroville Cogeneration, L.P. 95966\",\"Otay Landfill Gas LLC\",\"Otay Solid Waste Landfill\",\"Owens Corning Insulating Systems, LLC Santa Clara\",\"Owens Corning Roofing and Asphalt, LLC\",\"Owens-Brockway Glass Container, Oakland\",\"Owens-Brockway Glass Container, Tracy\",\"Owens-Brockway Glass Container, Vernon\",\"Ox Mountain Landfill\",\"Oxnard Wastewater Treatment Plant\",\"Oxy - Occidental Of Elk Hills, Inc.\",\"Oxy - Thums Long Beach Company\",\"Oxy - Vintage Production California LLC--Grubb Facility\",\"PABCO Clay Products, LLC, dba Gladding McBean\",\"PABCO Gypsum Newark\",\"PABCO Paper\",\"PE-Berkeley, Inc\",\"PG&E Burney Compressor Station\",\"PG&E Colusa Generating Station\",\"PG&E Delevan Compressor Station\",\"PG&E Gateway Generating Station\",\"PG&E Gerber Compressor Station\",\"PG&E Hinkley Compressor Station\",\"PG&E Humboldt Bay Generating Station\",\"PG&E Kettleman Compressor Station\",\"PG&E McDonald Island Underground Storage Station\",\"PG&E Tionesta Compressor Station\",\"PG&E Topock Compressor Station\",\"Pacific Clay Products\",\"Pacific Coast Energy Company LP\",\"Pacific Coast Producers\",\"Pacific Continental Textiles\",\"Pacific Ethanol Madera, LLC\",\"Pacific Ethanol Stockton, LLC\",\"Pacific Ultrapower Chinese\",\"Pactiv - Red Bluff\",\"Palo Alto V.A. Health Care System Division\",\"Panoche Energy Center, LLC\",\"Paramount Petroleum Corporation \",\"Pasadena Water and Power, Broadway\",\"Pasadena Water and Power, Glenarm\",\"Peet's Coffee\",\"Penrose Landfill Gas Conversion, LLC\",\"Phillips 66 Company - Los Angeles Refinery - Carson Plant\",\"Phillips 66 Company - Los Angeles Refinery - Wilmington Plant\",\"Phillips 66 Company - San Francisco Carbon Plant\",\"Phillips 66 Company - San Francisco Refinery\",\"Phillips 66 Company - Santa Maria Refinery\",\"Pilkington Glass North America, Lathrop Plant\",\"Pio Pico Energy Center\",\"Pitchess Cogeneration Station\",\"Pixley Cogeneration Partners / Calgren Renewable Fuels\",\"Plains Exploration & Production Company - Cymric Facility\",\"Plains Exploration & Production Company - MWSS Facility\",\"Plains Exploration & Production Company - South Belridge Facility\",\"Plains LPG Services/ Lone Star Frac & Isom Facility\",\"Potrero Hills Energy Producers, LLC\",\"Praxair Inc.\",\"Press Forge Co\",\"Prime Wheel Corporation\",\"ProEnergy - Greenleaf Energy Unit 1, LLC\",\"ProEnergy - Greenleaf Energy Unit 2, LLC\",\"Procter & Gamble Manufacturing Co. - Sacramento Plant (opt-in 2017)\",\"Qualcomm, Inc. - Morehouse Facility\",\"Qualcomm, Inc. - Pacific Center Facility\",\"Quemetco, Inc.\",\"RCWMD Badlands Power Plant\",\"Rady Children's Hospital San Diego\",\"Redding Electric Utility - Redding Power Generation\",\"Richard J Donovan Correctional Facility\",\"Rio Bravo Fresno\",\"Rio Bravo Jasmin\",\"Rio Bravo Poso\",\"Rio Bravo Rocklin\",\"Rio Tinto - Wilmington\",\"Riverside Public Utilities - Clearwater Facility\",\"Riverside Public Utilities - Riverside Energy Resource Center\",\"Riverside Public Utilities - Springs Facility\",\"Rohr, Inc. a UTC Aerospace Systems Company-Cogen Plant\",\"Roseburg Forest Products\",\"Roseville Electric, Roseville Energy Park\",\"SB Channel (Onshore)\",\"SDG&E - Cuyamaca Peak Energy Plant\",\"SDG&E - Miramar Energy Facility\",\"SDG&E - Moreno Compressor Station\",\"SDG&E - Palomar Energy Center\",\"SFPP L.P. - Colton Terminal\",\"SRI International Cogen Project\",\"Sacramento Municipal Utility District (SMUD) , Carson Ice CG\",\"Sacramento Municipal Utility District (SMUD) , Cosumnes Power Plant\",\"Sacramento Municipal Utility District (SMUD) , McClellan\",\"Sacramento Municipal Utility District (SMUD) , SCA\",\"Sacramento Municipal Utility District (SMUD) , SPA\",\"Sacramento Rendering Company\",\"Saddleback Community College\",\"Safety-Kleen of California Inc.\",\"Saint Agnes Medical Center\",\"Saint Bernardine Medical Center\",\"Salinas River Cogeneration Facility\",\"San Benito Foods\",\"San Bernardino County Solid Waste Mgmt - MVSL\",\"San Francisco General Hospital\",\"San Francisco International Airport (SFO)\",\"San Francisco Southeast Treatment Plant\",\"San Joaquin Cogen LLC\",\"San Joaquin Cogen, LLC\",\"San Joaquin Refining Company\",\"San Jose/Santa Clara Regional Wastewater Facility\",\"San Marcos Energy LLC\",\"Santa Barbara Cottage Hospital\",\"Santa Clara Valley Medical Center\",\"Santa Cruz Energy LLC\",\"Santa Maria Energy, LLC, Careaga Lease\",\"Saputo Cheese USA Inc. - Newman\",\"Saputo Cheese USA Inc. - Paige\",\"Saputo Cheese USA Inc.- Levin\",\"Sargent Canyon Cogeneration Facility\",\"Schlosser Forge Company\",\"Searles Valley Minerals Inc.\",\"Seneca Foods Corporation \",\"Seneca Resources - Midway Sunset\",\"Seneca Resources - North Lost Hills\",\"Seneca San Joaquin Production Facilities\",\"Sensient Natural Ingredients LLC\",\"Sentinel Energy Center, LLC\",\"Sentinel Peak Resources - SJV Basin Facility\",\"Sentinel Peak Resources- Arroyo Grande Oil Production Facility\",\"Setton Pistachio of Terra Bella, Inc\",\"Sharp Grossmont Hospital\",\"Shasta Renewable Resources, LLC\",\"Shell Chemical LP - Martinez Catalyst Plant\",\"Shell Oil Products US - Martinez\",\"Shultz Steel Company\",\"Sierra Aluminum Company\",\"Sierra Pacific Industries (SPI) - Anderson, 96007\",\"Sierra Pacific Industries (SPI) - Arcata\",\"Sierra Pacific Industries (SPI) - Burney\",\"Sierra Pacific Industries (SPI) - Camino\",\"Sierra Pacific Industries (SPI) - Lincoln\",\"Sierra Pacific Industries (SPI) - Loyalton\",\"Sierra Pacific Industries (SPI) - Quincy Division\",\"Sierra Pacific Industries (SPI) - Shasta Lake\",\"Sierra Pacific Industries (SPI) - Sonora\",\"Sierra Pacific Power Company - Kings Beach Generating Facility\",\"Sierra Power Corporation, 93270\",\"Sierra Resources Santa Barbara Basin\",\"Signal Hill Petroleum Facilities\",\"Signal Hill Petroleum Inc\",\"Silicon Valley Power (SVP), City of Santa Clara , Cogen\",\"Silicon Valley Power (SVP), City of Santa Clara , DVR\",\"Silicon Valley Power (SVP), City of Santa Clara , Gianera\",\"Simi Valley Landfill and Recycling Center\",\"Soil Safe of California, Inc.\",\"Solano County Cogeneration Facility\",\"Solar Turbines Incorporated - Kearny Mesa\",\"Solar Turbines Incorporated - Pacific Highway\",\"Sonoma County Landfill Gas to Energy\",\"Sonoma Developmental Center\",\"South Orange County Wastewater Authority\",\"Southeast Resource Recovery Facility (SERRF)\",\"Southern California Edison (SCE) - Barre Peaker\",\"Southern California Edison (SCE) - Center Hybrid\",\"Southern California Edison (SCE) - Grapeland Hybrid\",\"Southern California Edison (SCE) - McGrath Peaker\",\"Southern California Edison (SCE) - Mira Loma Peaker\",\"Southern California Edison (SCE) - Mountainview Generating Station\",\"Southern California Edison (SCE) - Pebbly Beach\",\"Southern California Gas Co - Aliso Canyon Facility\",\"Southern California Gas Co - Blythe Facility\",\"Southern California Gas Co - Distribution\",\"Southern California Gas Co - Honor Rancho Facility\",\"Southern California Gas Co - Kelso Facility\",\"Southern California Gas Co - Newberry Springs Facility\",\"Southern California Gas Co - North Needles Facility\",\"Southern California Gas Co - South Needles Facility\",\"Southern California Gas Co - Wheeler Ridge Compressor Station\",\"Spreckels Sugar Company, Inc. - Mendota\",\"Spreckels Sugar Company, Inc.- Brawley\",\"Stanford University\",\"Stanislaus Food Products\",\"State of California Central Utility Plant - General Services\",\"Steelscape Inc.\",\"Stockton Landfill Gas LLC\",\"Styrotek\",\"SunOpta Aseptic\",\"SunSelect Produce (California) Inc\",\"Sunnyvale Water Pollution Control Plant\",\"Sunray Energy, Inc\",\"Sunrise Power Company\",\"Sunshine Gas Producers, LLC\",\"Superstore Industries\",\"Sycamore Cogeneration Facility\",\"Sycamore Energy LLC\",\"TAMCO\",\"TRC Cypress Group, LLC\",\"TST, Inc.\",\"TXI Riverside Cement (Crestmore Plant)\",\"Techni-Cast Corp.\",\"Teichert Materials\",\"Tesla, Inc.\",\"Tesoro Los Angeles Refinery - Wilmington Calciner\",\"Tesoro Refining & Marketing Company LLC - Los Angeles Refinery - Carson \",\"Tesoro Refining and Marketing Co. - LAR\",\"Tesoro Refining and Marketing Co. - Martinez\",\"Tesoro Refining and Marketing Co. - SRP\",\"The P&G Paper Products Co.\",\"The Sun Valley Group\",\"Thermal Energy Development Partnership, L.P.\",\"Timber Products Company Yreka Veneer\",\"Toland Landfill - Ventura Regional Sanitation District\",\"Tomatek / Neil Jones Food Companies\",\"Torrance Refinery\",\"Toyon Landfill Gas Conversion, LLC\",\"Tracy Peaker Plant\",\"Tricor Refining, LLC\",\"Turlock Irrigation District (TID), Almond Power Plant\",\"Turlock Irrigation District (TID)/ Walnut\",\"Turlock Irrigation District/ Walnut Energy Center\",\"Tuscarora Gas Transmission - Shoetree Compressor Station\",\"U.S. Air Force, South Vandenberg Power Plant 93437\",\"U.S. Borax, 93516\",\"U.S. Gypsum Co Plaster City Plant\",\"UC Davis Medical Center\",\"USS-POSCO Industries\",\"Ultramar Inc - Valero Wilmington\",\"Union Sanitary District\",\"Union Tribune San Diego\",\"United Airlines, Inc. - San Francisco Maintenance Center\",\"United States Pipe & Foundry Co. LLC\",\"University of California, Berkeley\",\"University of California, Davis\",\"University of California, Irvine\",\"University of California, Los Angeles, UCLA\",\"University of California, Riverside, UCR\",\"University of California, San Diego, UCSD\",\"University of California, San Francisco\",\"University of California, Santa Barbara (opt-in 2015)\",\"University of California, Santa Cruz, UCSC EH&S Office\",\"University of Redlands\",\"University of Southern California (USC) - University Park Campus (UPC)\",\"VA Greater Los Angeles Healthcare System\",\"VA San Diego Healthcare System\",\"Valero Refining Company - California, Benicia Refinery and Benicia Asphalt Plant\",\"Valero Wilmington Asphalt Plant\",\"Valley Milk, LLC\",\"Vandenberg Air Force Base\",\"Vaquero Energy - Kern County\",\"Vaquero Energy - Santa Barbara County\",\"Venoco Inc\",\"Venoco Platform Gail\",\"Ventura Coastal\",\"Ventura Coastal LLC\",\"Victorville Municipal - Foxborough\",\"Victorville Municipal - Plant No. 2-SCLA\",\"Vintage Production California - Bakersfield\",\"Vintage Production California - Lost Hills\",\"Vista Metals Corp.\",\"Vitro Flat Glass LLC\",\"WP&A Firebaugh\",\"WP&A King\",\"WP&A Lost Hills\",\"WWF Operating Company\",\"Wadham Energy Ltd Partnership\",\"Walnut Creek Energy, LLC\",\"Waste Management - Altamont Landfill\",\"Waste Management - Bradley Landfill\",\"Waste Management - El Sobrante Landfill\",\"Waste Management - Redwood Landfill\",\"Waste Management - Redwood Landfill, Inc.\",\"Waste Management - Simi Valley Landfill\",\"Watkins Manufacturing Corporation\",\"Weber Metals\",\"Wellhead Power Gates, LLC\",\"Wellhead Power Panoche, LLC\",\"Western Milling, Goshen CA\",\"Wheelabrator Lassen Inc\",\"Wheelabrator Shasta Energy Company\",\"Wild Goose Storage LLC\",\"Wildflower Energy, LP - Indigo Generation, LLC\",\"Wildflower Energy, LP - Larkspur Energy Facility, LLC\",\"Windset Farms\",\"Wm. Bolthouse Farms, Inc.\",\"Woodland Biomass Power, Ltd\",\"Yuba City Cogeneration Partners LP\"],\"labels\":[\"3M Corona\",\"AAK Richmond\",\"AB&I Foundry\",\"ABI Foundry\",\"ACE Cogeneration\",\"AES Alamitos, LLC\",\"AES Huntington Beach, LLC\",\"AES Redondo Beach LLC\",\"APS Energy Services Company, Inc.\",\"Aemetis Advanced Fuels Keyes, Inc.\",\"Aera Energy Belridge Gas Plant 32\",\"Aera Energy Coastal Basins\",\"Aera Energy LLC, 25 Hill, 93252\",\"Aera Energy LLC, Alberta, Finley, Shale, 93224\",\"Aera Energy LLC, Anderson Fitzgerald, 93251\",\"Aera Energy LLC, Belridge, 93251\",\"Aera Energy LLC, Buena Fe, 93224\",\"Aera Energy LLC, Calso, 93251\",\"Aera Energy LLC, Coalinga, 93210\",\"Aera Energy LLC, Lost Hills, 93251\",\"Aera Energy LLC, MOCO, D&E, 93252\",\"Aera Energy LLC, Metson, 93252\",\"Aera Energy LLC, San Ardo, 93450\",\"Aera Energy LLC, Ventura Avenue, 93301\",\"Aera Energy San Joaquin Basin\",\"Aera Energy Ventura Basin (opt-in 2014)\",\"Aera Energy Ventura Gas Plant\",\"Aerojet Rocketdyne\",\"Agrium US Inc\",\"Air Liquide El Segundo Hydrogen Plant\",\"Air Liquide Large Industries US L.P. - Rodeo Hydrogen Plant\",\"Air Products & Chemicals, Inc., Martinez\",\"Air Products - APMC - Stockton CoGen\",\"Air Products Carson Hydrogen Plant\",\"Air Products Manufacturing Corporation, Sacramento\",\"Air Products Wilmington Hydrogen Plant\",\"Algonquin Power Sanger, LLC\",\"All American Asphalt - Corona\",\"All American Asphalt - Irvine\",\"All American Oil & Gas. Inc.\",\"Allergan\",\"Alon Asphalt Company - Elk Grove Asphalt Terminal\",\"Alon Bakersfield Refinery - Area 3\",\"Alon Bakersfield Refinery - Areas 1&2\",\"Alstyle Apparel\",\"AltaGas Pomona Energy Inc (San Gabriel Energy Facility)\",\"AltaGas Ripon Energy Inc.\",\"Ameresco Chiquita Energy LLC\",\"Ameresco Forward LLC\",\"Ameresco Half Moon Bay\",\"Ameresco Keller Canyon\",\"Ameresco San Joaquin LLC \",\"Ameresco Santa Cruz\",\"Ameresco Vasco Road\",\"Amgen Inc.\",\"Ampersand Chowchilla Biomass, LLC, 93610\",\"Ampine: A Division of Timber Products\",\"Anheuser-Busch LLC - Fairfield (opt-in 2013)\",\"Anheuser-Busch LLC - Los Angeles Brewery\",\"Apple Inc - Bloom Energy Servers\",\"Applied Energy LLC - NAS North Island\",\"Applied Energy LLC - NTC/MCRD\",\"Applied Energy LLC - U.S. Naval Station\",\"Arcturus Manufacturing\",\"Ardagh Glass Inc.\",\"Avenal State Prison\",\"Azteca Milling, L.P.\",\"BFI/ Sunshine Canyon City/County Landfill\",\"BWP/MPP Electricity Generating Facilities at 164 W. Magnolia\",\"Badger Creek Limited\",\"Baker Commodities, Inc., Kerman Division\",\"Baker Commodities, Inc., Vernon Division\",\"Baxalta US Inc.\",\"Bayer Healthcare\",\"Bear Mountain Limited\",\"Berry Petroleum Company - Ethel D\",\"Berry Petroleum Company - Homebase\",\"Berry Petroleum Company - North Midway Sunset\",\"Berry Petroleum Company - Placerita\",\"Berry Petroleum Company - Poso Creek\",\"Berry Petroleum Company - San Joaquin Basin\",\"Big Valley Power LLC\",\"Biola University\",\"Blue Lake Power\",\"Blythe Energy\",\"Bottle Rock Power - Geothermal\",\"Bowerman Power LFG, LLC\",\"Braun Medical Inc\",\"Brea Generation, LLC\",\"Breitburn Operating LP - Los Angeles Basin Facility\",\"Bridge Energy, LLC\",\"Buena Vista Biomass Power, LLC\",\"Burbank Water And Power (Generating Facility)\",\"Burney Forest Products\",\"Byron Power Partners LP\",\"CMO Inc\",\"CP Kelco San Diego\",\"CalEnergy Operating Corporation - J J Elmore - Geothermal\",\"CalEnergy Operating Corporation - J M Leathers - Geothermal\",\"CalEnergy Operating Corporation - Region 1 - Geothermal\",\"CalEnergy Operating Corporation - Region 2 - Geothermal\",\"CalPeak Power - Border\",\"CalPeak Power - Enterprise\",\"CalPeak Power - Panoche, LLC\",\"CalPeak Power - Vaca Dixon, LLC\",\"CalPortland Company, Colton Plant\",\"CalPortland Company, Mojave Plant\",\"CalPortland Company, Oro Grande Plant\",\"California Dairies, Inc. Artesia\",\"California Dairies, Inc. Fresno\",\"California Dairies, Inc. Los Banos\",\"California Dairies, Inc. Tipton\",\"California Dairies, Inc. Turlock\",\"California Dairies, Inc. Visalia\",\"California Institute of Technology (CalTech)\",\"California Medical Facility\",\"California Natural Products\",\"California Paperboard Corporation (opt-in 2013)\",\"California Polytechnic State University\",\"California Power Holdings, LLC-Chowchilla Facility, 95360\",\"California Power Holdings, LLC-Red Bluff Facility, 96080\",\"California Resources Elk Hills, LLC - 35R Gas Plant\",\"California Resources Production Corporation - 760 Los Angeles Basin\",\"California Resources Production Corporation - SCVGP Gas Plant\",\"California Resources Production Corporation - Sacramento Valley Basin 730\",\"California Resources Production Corporation - San Joaquin Valley Basin 745\",\"California Resources Production Corporation - Ventura Basin 755\",\"California State Prison - Corcoran\",\"California State Prison - Sacramento\",\"California State University, Channel Islands\",\"California State University, Fullerton\",\"California State University, San Diego\",\"California State University, San Jose\",\"California Steel Industries\",\"Calpine - CCFC Sutter Energy, LLC\",\"Calpine - Creed Energy Center, LLC\",\"Calpine - Delta Energy Center, LLC\",\"Calpine - Geysers Power Company, LLC - Geothermal\",\"Calpine - Gilroy Cogen, L.P., Gilroy Cogen_Peaker\",\"Calpine - Gilroy Energy Center, LLC For Lambie Energy Center\",\"Calpine - Gilroy Energy Center, LLC, Feather River\",\"Calpine - Gilroy Energy Center, LLC, Gilroy Peaker\",\"Calpine - Gilroy Energy Center, LLC, King City Peaker\",\"Calpine - Gilroy Energy Center, LLC, Riverview Peaker\",\"Calpine - Gilroy Energy Center, LLC, Wolfskill Peaker\",\"Calpine - Goose Haven Energy Center, Peaker\",\"Calpine - King City Cogen, LLC, King City Cogen_Peaker\",\"Calpine - Los Esteros Critical Energy Facility, LLC\",\"Calpine - Los Medanos Energy Center, LLC\",\"Calpine - Metcalf Energy Center, LLC\",\"Calpine - Monterey Cogeneration, Inc., Watsonville\",\"Calpine - O.L.S. Energy - Agnews Inc. 95134\",\"Calpine - Otay Mesa Energy Center\",\"Calpine - Pastoria Energy Facility L.L.C.\",\"Calpine - Russell City Energy Center\",\"Calpine - Yuba City Energy Center (Gilroy Energy Center, LLC)\",\"Campbell Soup Supply Company - Sacramento\",\"Campbell Soup Supply Company, L.L.C. - Dixon\",\"Campbell Soup Supply Company, L.L.C. - Stockton\",\"Canyon Power Project (CPP)\",\"Cardinal Cogen\",\"Cargill Salt Operations\",\"Carlsbad Energy Center Project\",\"Carlton Forge Works\",\"Carson Cogeneration Co\",\"Cedars-Sinai Medical Center\",\"Cemex - Cement Plant Davenport\",\"Cemex Construction Materials Pacific LLC - Victorville Plant\",\"Central Contra Costa Sanitary District\",\"Central Valley Meat\",\"CertainTeed Corporation\",\"Chalk Cliff Limited\",\"Chemical Lime Company\",\"Chemtrade West US, LLC\",\"Chevron 17Z Gas Plant\",\"Chevron AAPG 740 Coastal Basin\",\"Chevron AAPG 745 San Joaquin Basin\",\"Chevron Business and Real Estate Services, 94520\",\"Chevron Energy Solutions, 93272\",\"Chevron Products Company - El Segundo Refinery, 90245\",\"Chevron Products Company - Richmond Refinery, 94802\",\"Chevron U.S.A Inc - Coalinga Asset, 93210\",\"Chevron U.S.A Inc - Cymric Asset, 93251\",\"Chevron U.S.A Inc - Kern River Asset, 93308\",\"Chevron U.S.A Inc - Lost Hills Asset, 93249\",\"Chevron U.S.A Inc - Midway Sunset Asset, 93225\",\"Chevron U.S.A Inc - San Ardo Asset, 93540\",\"Children's Hospital Los Angeles\",\"Chino Basin Desalter Authority\",\"Chiquita Canyon Landfill\",\"Chula Vista Energy Center\",\"City Of Santa Rosa Wastewater\",\"City of Anaheim, Combustion Turbine Generator\",\"City of Colton - Generation\",\"City of Hope National Medical Center\",\"City of Palo Alto Water Quality Control Treatment Plant\",\"City of Riverside, Public Works Department, Regional H2O Plant\",\"City of Roseville - Roseville Power Plant #2\",\"City of San Diego, Public Utilities Dept, North City Water Reclamation Plant\",\"City of San Diego, Public Utilities Dept, Point Loma Treatment Plant\",\"City of San Diego, Public Utilities Dept, Pump Station 2\",\"City of Santa Cruz Wastewater Treatment\",\"Civic Center Cogen, LA County\",\"Clougherty Packing, LLC\",\"Coalinga Cogeneration Facility\",\"Collins Pine Co.\",\"Colmac Energy, Inc. 92254\",\"ConAgra - Oakdale\",\"ConAgra Foods - Helm Facility\",\"Coolwater Generating Station\",\"Corona Energy Partners, Ltd.\",\"Coso Energy Developers (BLM E&W) - Geothermal\",\"Coso Finance Partners (Navy I) - Geothermal\",\"Coso Power Developers (Navy II) - Geothermal\",\"Covanta - Burney Mountain Power\",\"Covanta - Delano, Inc.\",\"Covanta - Mendota\",\"Covanta - Mt. Lassen Power\",\"Covanta - Pacific Oroville Power Inc\",\"Covanta - Pacific Recovery Corp - Salinas Facility\",\"Covanta - Pacific Recovery Corporation - Oxnard Facility\",\"Covanta - Stanislaus, Inc\",\"Crestwood West Coast, LLC\",\"Crimson Resource Management Corp\",\"Criterion Catalyst and Technologies, L. P.\",\"Crockett Cogeneration Project, LP\",\"Custom Alloy Light Metals, Inc.\",\"DG Fairhaven Power LLC\",\"DSH-Napa State Hospital\",\"DST Output, LLC\",\"DTE Stockton, LLC\",\"Darling Ingredients Inc - Fresno\",\"Darling Ingredients Inc - Los Angeles\",\"Darling Ingredients Inc - Turlock\",\"Dart Container Corporation of California\",\"DeMenno/Kerdoon\",\"Del Monte - Hanford\",\"Del Monte - Modesto\",\"Delano Energy Center, LLC\",\"Delano Growers Grape Products\",\"Diamond Pet Food Processors of California, LLC - Lathrop\",\"Diamond Pet Food Processors of California, LLC - Ripon\",\"Dicalite Minerals Corp.\",\"Dinuba Energy\",\"Disneyland Resort\",\"Double C Limited\",\"Dow Chemical\",\"Dow Chemical Company - Pittsburg\",\"Dublin San Ramon Services District\",\"Dynegy Morro Bay, LLC\",\"Dynegy Moss Landing, LLC\",\"Dynegy Oakland, LLC.\",\"Dynegy South Bay, LLC\",\"E & J Gallo Winery - Fresno\",\"E & J Gallo Winery - Livingston\",\"E&B Natural Resources - San Joaquin Valley\",\"E.F. Oxnard LLC\",\"ERG Operating Company, LLC. 750 Santa Maria Basin\",\"Eagle Petroleum - Lynch Canyon Field\",\"East Bay Municipal Utility District\",\"Eco Services - Dominguez\",\"Eco Services - Martinez\",\"Edgington Oil Company\",\"Edwards Air Force Base\",\"Eisenhower Medical Center\",\"El Cajon Energy, LLC\",\"Elk Hills Power, LLC\",\"Emidio Pump Station - Shell Pipeline Company\",\"Encina Water Pollution Control Facility\",\"Energy 2001, Placer WRSL\",\"Equinix - Great Oaks\",\"Equinix - Lundy\",\"Equinix Caspian - Bloom Energy Servers\",\"Equinix Duane - Bloom Energy Servers\",\"Escalon Premier Brands, a Division of Kraft Heinz Company\",\"Escondido Energy Center, LLC\",\"Etiwanda Generating Station\",\"Exide Technologies\",\"ExxonMobil - South Belridge Hill\",\"ExxonMobil LFC Facility\",\"ExxonMobil POPCO Facility\",\"ExxonMobil SYU Project\",\"Fairfield-Suisun Sewer District\",\"FlexEnergy Energy Systems - Project East, LLC.\",\"Forged Metals, Inc.\",\"Foster Dairy Farms DBA Crystal Creamery\",\"Foster Farms Porterville Plant \",\"Foster Farms Traver Complex \",\"Foster Poultry Farms - Livingston Complex, 95334\",\"Freeport-McMoRan Oil & Gas LLC - Gaviota Oil Heating Facility\",\"Fresno Cogeneration Partners, LP\",\"Fresno-Clovis Regional Wastewater Reclamation Facility\",\"Frito Lay - Kern Plant\",\"Frito Lay - Modesto\",\"Frito Lay - Rancho Cucamonga\",\"G2 Energy Ostrom Road, LLC\",\"GWF Power Systems, L.P., East Third Street Power Plant\",\"GWF Power Systems, L.P., Loveridge Road Power Plant\",\"GWF Power Systems, L.P., Nichols Road Power Plant\",\"GWF Power Systems, L.P., Wilbur East Power Plant\",\"GWF Power Systems, L.P., Wilbur West Power Plant\",\"Gallo Glass Company\",\"Gas Recovery Systems - Coyote Canyon\",\"Gas Recovery Systems LLC ? American Canyon\",\"Gas Recovery Systems LLC ? Guadalupe\",\"Gas Recovery Systems LLC ? Menlo Park\",\"GenOn Delta, Contra Costa Generating Station 94509\",\"GenOn Delta, Pittsburg Generating Station 94565\",\"GenOn Potrero, LLC\",\"GenPower Lincon Landfill Power Plant\",\"Genentech - Vacaville\",\"Genentech Inc South San Francisco\",\"General Chemical Corporation\",\"General Mills Cereal Properties, LLC\",\"Georgia-Pacific Gypsum LLC - Antioch\",\"Georgia-Pacific Gypsum LLC - San Leandro\",\"Goal Line LP, 92025\",\"Goodrich Corporation\",\"Graphic Packaging International, Inc\",\"Grayson Power Plant\",\"Greka Santa Maria Refinery \",\"Guardian Industries, LLC\",\"HGST, Inc\",\"HL Power Company\",\"Hanford Energy Park Peaker\",\"Hanford L.P., GWF, Hanford Power Plant\",\"Harbor Cogeneration Company, LLC\",\"Harris Ranch Beef Company\",\"Heber Geothermal Co.\",\"Henrietta Peaker Plant\",\"High Desert Power Project, LLC\",\"High Sierra Cogeneration\",\"High Sierra Limited\",\"Hilmar Cheese Company\",\"Hilmar Cheese, Inc. - Turlock Facility\",\"Hoag Memorial Hospital Presbyterian\",\"Holmes Western Oil Corporation\",\"Hood Dairy\",\"Houweling Nurseries Oxnard, Inc\",\"Hudson Ranch Power I - Geothermal\",\"Humboldt Flakeboard Panels, Inc.\",\"Humboldt Sawmill Company\",\"Huntington Memorial Hospital\",\"Hyperion Water Reclamation Plant\",\"IBE Project - Bloom Energy Servers\",\"Imerys Minerals California, Inc.\",\"Imperial Irrigation District (IID), Coachella\",\"Imperial Irrigation District (IID), El Centro Generating Station\",\"Imperial Irrigation District (IID), Niland Gas Turbine Plant\",\"Imperial Irrigation District (IID), Rockwood\",\"Imperial Valley Resource Recovery, LLC\",\"Ingomar Packing Company\",\"Ingredion Incorporated Stockton Plant\",\"Inland Empire Energy Center, LLC.\",\"Inland Empire Utilities Agency RP-1\",\"Ivanpah Solar Electric Generating System\",\"J. G. Boswell Tomato Company Kern\",\"J.G. Boswell Company West Processing Townsite\",\"J.G.Boswell Tomato Company Kings\",\"JP Oil\",\"JR Simplot Company\",\"JRW Associates LP\",\"John Wayne Airport Orange County\",\"Johns Manville (opt-in 2013)\",\"Johnson & Johnson, PRD, L.L.C.\",\"K2 Pure Solutions, Inc\",\"KES Kingsburg L.P.--Kingsburg Cogeneration Facility\",\"Kaiser Aluminum Fabricated Products, LLC\",\"Kaiser Permanente - Bloom Energy Servers\",\"Kaweah Delta Medical Center\",\"Kern Front Limited\",\"Kern Oil Refinery\",\"Kern River Cogeneration Facility\",\"Keysight Technologies Inc - Bloom Energy Servers\",\"Kiefer Landfill, Department of Waste Management and Recycling\",\"Kimberly Clark Worldwide Inc.\",\"Kirby Hills Compressor Station\",\"Knauf Insulation\",\"Kraft Heinz Foods Company - Tulare\",\"Kyocera International Inc.\",\"LAC+USC Medical Center\",\"LACSD - Calabasas LF\",\"LACSD - Commerce Refuse To Energy\",\"LACSD - Joint Water Pollution Control Plant\",\"LACSD - Palos Verdes Gas to Energy Facility\",\"LACSD - Puente Hills Landfill\",\"LACSD - Spadra Landfill\",\"LWFP LLC\",\"La Paloma Generating Plant - GHG\",\"Land O' Lakes, Inc.\",\"Lawrence Livermore National Laboratory (LLNL)\",\"Lehigh Southwest Cement Co - Cupertino\",\"Lehigh Southwest Cement Co - Redding\",\"Lehigh Southwest Cement Co - Tehachapi\",\"Leprino Foods - Lemoore East\",\"Leprino Foods - Lemoore West\",\"Leprino Foods - Tracy\",\"Lhoist North America - Natividad Plant\",\"Liberty Packing - Los Banos (Morning Star)\",\"Live Oak Limited\",\"Lockheed Martin Aeronautics Company - Palmdale\",\"Lockheed Martin Corporation - Sunnyvale\",\"Lodi Compressor Station\",\"Lodi Energy Center\",\"Loma Linda University\",\"Lompoc Field Stationary Source\",\"Lopez Canyon Landfill\",\"Los Angeles Department of Water & Power-Harbor Generating Station (LADWP)\",\"Los Angeles Department of Water & Power-Haynes Generating Station (LADWP)\",\"Los Angeles Department of Water & Power-Scattergood Generating Station (LADWP)\",\"Los Angeles Department of Water & Power-Valley Generating Station (LADWP)\",\"Los Angeles International Airport (LAX)\",\"Los Gatos Tomato Products\",\"Lunday-Thagard Company, DBA World Oil Refining\",\"Luz Solar Partners LTD\",\"Luz Solar Partners LTD VIII & IX\",\"MAGTFTC MCAGCC Twentynine Palms\",\"MATRIX OIL CORP\",\"MM Lopez Energy LLC\",\"MM Prima Deshecha Energy LLC\",\"MM San Diego LLC - North City\",\"MM Tajiguas Energy LLC\",\"MM Tulare Energy LLC\",\"MM West Covina LLC\",\"MM Yolo Power LLC\",\"MP Mine Operations LLC\",\"Macpherson Oil Company\",\"Madera Power LLC\",\"Magnolia Power Plant, SCPPA (Generating Facility/Unit)\",\"Malaga Power, LLC\",\"Malburg Generating Station\",\"Mandalay Generating Station\",\"Mariposa Energy LLC\",\"Martinez Cogen Limited Partnership\",\"Maruchan, Inc. - Laguna Canyon\",\"Matchmaster Dyeing & Finishing\",\"Matsui Nursery, Inc.\",\"McKittrick Limited\",\"Merced Power, LLC, 95340\",\"Mesa Consolidated Water District Well #5\",\"Metal Coaters of California\",\"Metropolitan State Hospital\",\"Mid-Set Cogeneration Facility\",\"Midway Peaking, LLC\",\"Midway-Sunset Cogeneration\",\"Milk Specialties Global\",\"MillerCoors USA LLC.\",\"Mira Loma Metal Container Corp\",\"Miramar - MM and Miramar Energy\",\"Mission Bell Winery \",\"Mission Foods Corporation\",\"Mitsubishi Cement 2000\",\"Mizkan America, Inc.\",\"Modesto Irrigation District (MID) - Woodland Generation Station, 95351\",\"Modesto Irrigation District (MID), Sconza Candy\",\"Modesto Irrigation District - McClure Generation Station, 95357\",\"Modesto Irrigation District - Ripon Generation Station, 95366\",\"Mojave Cogeneration Co\",\"Monterey Regional Waste Management District\",\"Monterey Regional Water Pollution Control Agency, Cogen, 93933\",\"Morning Star Packing Company - Los Banos\",\"Morning Star Packing Company - Williams\",\"Morton Salt, Inc.\",\"Mountain Utilities (MU) Power House\",\"Mt. Poso Cogeneration Company\",\"NALF San Clemente Island\",\"NASA Ames Research Center\",\"NBVC San Nicolas Island\",\"NCPA - CT1 Alameda\",\"NM Colton Genco LLC\",\"NM Mid Valley Genco, LLC\",\"NM Milliken Genco LLC\",\"NOVE Power Plant\",\"NRG Energy - El Cajon\",\"NRG Energy - El Segundo\",\"NRG Energy - Encina\",\"NRG Energy - Kearny 1\",\"NRG Energy - Kearny 2 and 3\",\"NRG Energy - Long Beach\",\"NRG Energy - Miramar\",\"NRG Energy - San Francisco Thermal\",\"NRG, Marsh Landing Generating Station \",\"Naftex Operating Company\",\"National Beef\",\"National Cement Company - Lebec\",\"National Training Center & Fort Irwin\",\"Naval Air Station Lemoore\",\"Naval Air Station North Island\",\"Naval Air Weapons Station China Lake\",\"Naval Medical Center - San Diego\",\"New NGC, Inc - Long Beach\",\"New NGC, Inc - Richmond\",\"New United Motor Manufacturing, NUMMI\",\"New-Indy Ontario, LLC Linerboard Mill\",\"New-Indy Oxnard LLC\",\"Newark Pacific Paperboard (opt-in 2013)\",\"Newby Island , 95134\",\"Newby Island II, 95134\",\"Newport Fab, LLC (DBA TowerJazz Semiconductor)\",\"Nong Shim America, Inc.\",\"Nor-Cal Beverage Company, Inc. - Anaheim\",\"Northern California Power Agency - Alameda Combustion Turbine Project No. 1\",\"Northern California Power Agency - Geothermal Plant No. 1\",\"Northern California Power Agency - Geothermal Plant No. 2\",\"Northern California Power Agency - Lodi Combustion Turbine Proj No. 1\",\"Northern California Power Agency - Lodi Combustion Turbine Proj No. 2 - STIG\",\"Northrop Grumman - Palmdale\",\"Northrop Grumman Marine Systems - Sunnyvale\",\"Northrop Grumman Mission Systems - San Diego\",\"Northrop Grumman Systems Corp. - Redondo Beach\",\"Northrop Grumman Systems Corporation - El Segundo\",\"OLS Energy Chino\",\"Oildale Energy LLC\",\"Olam West Coast Inc - Williams\",\"Olam West Coast Inc- Lemoore\",\"Olam West Coast, Inc. - Firebaugh\",\"Olam West Coast, Inc. - Gilroy\",\"Olive View Medical Center, Los Angeles County Department of Health Services\",\"Orange County Central Utility Facility\",\"Orange County Sanitation District - Plant 1\",\"Orange County Sanitation District - Plant 2\",\"Orange County Waste & Recycling/ Frank R. Bowerman Landfill\",\"Orange County Waste & Recycling/ Olinda Alpha Landfill\",\"Orange Grove Energy Center\",\"Orange Plant - R.J. Noble\",\"Ormat Nevada, Inc. / ORNI 18 North Brawley - Geothermal\",\"Ormat Nevada, Inc./ GEM 2 & 3 - Geothermal\",\"Ormond Beach Generating Station\",\"Oroville Cogeneration, L.P. 95966\",\"Otay Landfill Gas LLC\",\"Otay Solid Waste Landfill\",\"Owens Corning Insulating Systems, LLC Santa Clara\",\"Owens Corning Roofing and Asphalt, LLC\",\"Owens-Brockway Glass Container, Oakland\",\"Owens-Brockway Glass Container, Tracy\",\"Owens-Brockway Glass Container, Vernon\",\"Ox Mountain Landfill\",\"Oxnard Wastewater Treatment Plant\",\"Oxy - Occidental Of Elk Hills, Inc.\",\"Oxy - Thums Long Beach Company\",\"Oxy - Vintage Production California LLC--Grubb Facility\",\"PABCO Clay Products, LLC, dba Gladding McBean\",\"PABCO Gypsum Newark\",\"PABCO Paper\",\"PE-Berkeley, Inc\",\"PG&E Burney Compressor Station\",\"PG&E Colusa Generating Station\",\"PG&E Delevan Compressor Station\",\"PG&E Gateway Generating Station\",\"PG&E Gerber Compressor Station\",\"PG&E Hinkley Compressor Station\",\"PG&E Humboldt Bay Generating Station\",\"PG&E Kettleman Compressor Station\",\"PG&E McDonald Island Underground Storage Station\",\"PG&E Tionesta Compressor Station\",\"PG&E Topock Compressor Station\",\"Pacific Clay Products\",\"Pacific Coast Energy Company LP\",\"Pacific Coast Producers\",\"Pacific Continental Textiles\",\"Pacific Ethanol Madera, LLC\",\"Pacific Ethanol Stockton, LLC\",\"Pacific Ultrapower Chinese\",\"Pactiv - Red Bluff\",\"Palo Alto V.A. Health Care System Division\",\"Panoche Energy Center, LLC\",\"Paramount Petroleum Corporation \",\"Pasadena Water and Power, Broadway\",\"Pasadena Water and Power, Glenarm\",\"Peet's Coffee\",\"Penrose Landfill Gas Conversion, LLC\",\"Phillips 66 Company - Los Angeles Refinery - Carson Plant\",\"Phillips 66 Company - Los Angeles Refinery - Wilmington Plant\",\"Phillips 66 Company - San Francisco Carbon Plant\",\"Phillips 66 Company - San Francisco Refinery\",\"Phillips 66 Company - Santa Maria Refinery\",\"Pilkington Glass North America, Lathrop Plant\",\"Pio Pico Energy Center\",\"Pitchess Cogeneration Station\",\"Pixley Cogeneration Partners / Calgren Renewable Fuels\",\"Plains Exploration & Production Company - Cymric Facility\",\"Plains Exploration & Production Company - MWSS Facility\",\"Plains Exploration & Production Company - South Belridge Facility\",\"Plains LPG Services/ Lone Star Frac & Isom Facility\",\"Potrero Hills Energy Producers, LLC\",\"Praxair Inc.\",\"Press Forge Co\",\"Prime Wheel Corporation\",\"ProEnergy - Greenleaf Energy Unit 1, LLC\",\"ProEnergy - Greenleaf Energy Unit 2, LLC\",\"Procter & Gamble Manufacturing Co. - Sacramento Plant (opt-in 2017)\",\"Qualcomm, Inc. - Morehouse Facility\",\"Qualcomm, Inc. - Pacific Center Facility\",\"Quemetco, Inc.\",\"RCWMD Badlands Power Plant\",\"Rady Children's Hospital San Diego\",\"Redding Electric Utility - Redding Power Generation\",\"Richard J Donovan Correctional Facility\",\"Rio Bravo Fresno\",\"Rio Bravo Jasmin\",\"Rio Bravo Poso\",\"Rio Bravo Rocklin\",\"Rio Tinto - Wilmington\",\"Riverside Public Utilities - Clearwater Facility\",\"Riverside Public Utilities - Riverside Energy Resource Center\",\"Riverside Public Utilities - Springs Facility\",\"Rohr, Inc. a UTC Aerospace Systems Company-Cogen Plant\",\"Roseburg Forest Products\",\"Roseville Electric, Roseville Energy Park\",\"SB Channel (Onshore)\",\"SDG&E - Cuyamaca Peak Energy Plant\",\"SDG&E - Miramar Energy Facility\",\"SDG&E - Moreno Compressor Station\",\"SDG&E - Palomar Energy Center\",\"SFPP L.P. - Colton Terminal\",\"SRI International Cogen Project\",\"Sacramento Municipal Utility District (SMUD) , Carson Ice CG\",\"Sacramento Municipal Utility District (SMUD) , Cosumnes Power Plant\",\"Sacramento Municipal Utility District (SMUD) , McClellan\",\"Sacramento Municipal Utility District (SMUD) , SCA\",\"Sacramento Municipal Utility District (SMUD) , SPA\",\"Sacramento Rendering Company\",\"Saddleback Community College\",\"Safety-Kleen of California Inc.\",\"Saint Agnes Medical Center\",\"Saint Bernardine Medical Center\",\"Salinas River Cogeneration Facility\",\"San Benito Foods\",\"San Bernardino County Solid Waste Mgmt - MVSL\",\"San Francisco General Hospital\",\"San Francisco International Airport (SFO)\",\"San Francisco Southeast Treatment Plant\",\"San Joaquin Cogen LLC\",\"San Joaquin Cogen, LLC\",\"San Joaquin Refining Company\",\"San Jose/Santa Clara Regional Wastewater Facility\",\"San Marcos Energy LLC\",\"Santa Barbara Cottage Hospital\",\"Santa Clara Valley Medical Center\",\"Santa Cruz Energy LLC\",\"Santa Maria Energy, LLC, Careaga Lease\",\"Saputo Cheese USA Inc. - Newman\",\"Saputo Cheese USA Inc. - Paige\",\"Saputo Cheese USA Inc.- Levin\",\"Sargent Canyon Cogeneration Facility\",\"Schlosser Forge Company\",\"Searles Valley Minerals Inc.\",\"Seneca Foods Corporation \",\"Seneca Resources - Midway Sunset\",\"Seneca Resources - North Lost Hills\",\"Seneca San Joaquin Production Facilities\",\"Sensient Natural Ingredients LLC\",\"Sentinel Energy Center, LLC\",\"Sentinel Peak Resources - SJV Basin Facility\",\"Sentinel Peak Resources- Arroyo Grande Oil Production Facility\",\"Setton Pistachio of Terra Bella, Inc\",\"Sharp Grossmont Hospital\",\"Shasta Renewable Resources, LLC\",\"Shell Chemical LP - Martinez Catalyst Plant\",\"Shell Oil Products US - Martinez\",\"Shultz Steel Company\",\"Sierra Aluminum Company\",\"Sierra Pacific Industries (SPI) - Anderson, 96007\",\"Sierra Pacific Industries (SPI) - Arcata\",\"Sierra Pacific Industries (SPI) - Burney\",\"Sierra Pacific Industries (SPI) - Camino\",\"Sierra Pacific Industries (SPI) - Lincoln\",\"Sierra Pacific Industries (SPI) - Loyalton\",\"Sierra Pacific Industries (SPI) - Quincy Division\",\"Sierra Pacific Industries (SPI) - Shasta Lake\",\"Sierra Pacific Industries (SPI) - Sonora\",\"Sierra Pacific Power Company - Kings Beach Generating Facility\",\"Sierra Power Corporation, 93270\",\"Sierra Resources Santa Barbara Basin\",\"Signal Hill Petroleum Facilities\",\"Signal Hill Petroleum Inc\",\"Silicon Valley Power (SVP), City of Santa Clara , Cogen\",\"Silicon Valley Power (SVP), City of Santa Clara , DVR\",\"Silicon Valley Power (SVP), City of Santa Clara , Gianera\",\"Simi Valley Landfill and Recycling Center\",\"Soil Safe of California, Inc.\",\"Solano County Cogeneration Facility\",\"Solar Turbines Incorporated - Kearny Mesa\",\"Solar Turbines Incorporated - Pacific Highway\",\"Sonoma County Landfill Gas to Energy\",\"Sonoma Developmental Center\",\"South Orange County Wastewater Authority\",\"Southeast Resource Recovery Facility (SERRF)\",\"Southern California Edison (SCE) - Barre Peaker\",\"Southern California Edison (SCE) - Center Hybrid\",\"Southern California Edison (SCE) - Grapeland Hybrid\",\"Southern California Edison (SCE) - McGrath Peaker\",\"Southern California Edison (SCE) - Mira Loma Peaker\",\"Southern California Edison (SCE) - Mountainview Generating Station\",\"Southern California Edison (SCE) - Pebbly Beach\",\"Southern California Gas Co - Aliso Canyon Facility\",\"Southern California Gas Co - Blythe Facility\",\"Southern California Gas Co - Distribution\",\"Southern California Gas Co - Honor Rancho Facility\",\"Southern California Gas Co - Kelso Facility\",\"Southern California Gas Co - Newberry Springs Facility\",\"Southern California Gas Co - North Needles Facility\",\"Southern California Gas Co - South Needles Facility\",\"Southern California Gas Co - Wheeler Ridge Compressor Station\",\"Spreckels Sugar Company, Inc. - Mendota\",\"Spreckels Sugar Company, Inc.- Brawley\",\"Stanford University\",\"Stanislaus Food Products\",\"State of California Central Utility Plant - General Services\",\"Steelscape Inc.\",\"Stockton Landfill Gas LLC\",\"Styrotek\",\"SunOpta Aseptic\",\"SunSelect Produce (California) Inc\",\"Sunnyvale Water Pollution Control Plant\",\"Sunray Energy, Inc\",\"Sunrise Power Company\",\"Sunshine Gas Producers, LLC\",\"Superstore Industries\",\"Sycamore Cogeneration Facility\",\"Sycamore Energy LLC\",\"TAMCO\",\"TRC Cypress Group, LLC\",\"TST, Inc.\",\"TXI Riverside Cement (Crestmore Plant)\",\"Techni-Cast Corp.\",\"Teichert Materials\",\"Tesla, Inc.\",\"Tesoro Los Angeles Refinery - Wilmington Calciner\",\"Tesoro Refining & Marketing Company LLC - Los Angeles Refinery - Carson \",\"Tesoro Refining and Marketing Co. - LAR\",\"Tesoro Refining and Marketing Co. - Martinez\",\"Tesoro Refining and Marketing Co. - SRP\",\"The P&G Paper Products Co.\",\"The Sun Valley Group\",\"Thermal Energy Development Partnership, L.P.\",\"Timber Products Company Yreka Veneer\",\"Toland Landfill - Ventura Regional Sanitation District\",\"Tomatek / Neil Jones Food Companies\",\"Torrance Refinery\",\"Toyon Landfill Gas Conversion, LLC\",\"Tracy Peaker Plant\",\"Tricor Refining, LLC\",\"Turlock Irrigation District (TID), Almond Power Plant\",\"Turlock Irrigation District (TID)/ Walnut\",\"Turlock Irrigation District/ Walnut Energy Center\",\"Tuscarora Gas Transmission - Shoetree Compressor Station\",\"U.S. Air Force, South Vandenberg Power Plant 93437\",\"U.S. Borax, 93516\",\"U.S. Gypsum Co Plaster City Plant\",\"UC Davis Medical Center\",\"USS-POSCO Industries\",\"Ultramar Inc - Valero Wilmington\",\"Union Sanitary District\",\"Union Tribune San Diego\",\"United Airlines, Inc. - San Francisco Maintenance Center\",\"United States Pipe & Foundry Co. LLC\",\"University of California, Berkeley\",\"University of California, Davis\",\"University of California, Irvine\",\"University of California, Los Angeles, UCLA\",\"University of California, Riverside, UCR\",\"University of California, San Diego, UCSD\",\"University of California, San Francisco\",\"University of California, Santa Barbara (opt-in 2015)\",\"University of California, Santa Cruz, UCSC EH&S Office\",\"University of Redlands\",\"University of Southern California (USC) - University Park Campus (UPC)\",\"VA Greater Los Angeles Healthcare System\",\"VA San Diego Healthcare System\",\"Valero Refining Company - California, Benicia Refinery and Benicia Asphalt Plant\",\"Valero Wilmington Asphalt Plant\",\"Valley Milk, LLC\",\"Vandenberg Air Force Base\",\"Vaquero Energy - Kern County\",\"Vaquero Energy - Santa Barbara County\",\"Venoco Inc\",\"Venoco Platform Gail\",\"Ventura Coastal\",\"Ventura Coastal LLC\",\"Victorville Municipal - Foxborough\",\"Victorville Municipal - Plant No. 2-SCLA\",\"Vintage Production California - Bakersfield\",\"Vintage Production California - Lost Hills\",\"Vista Metals Corp.\",\"Vitro Flat Glass LLC\",\"WP&A Firebaugh\",\"WP&A King\",\"WP&A Lost Hills\",\"WWF Operating Company\",\"Wadham Energy Ltd Partnership\",\"Walnut Creek Energy, LLC\",\"Waste Management - Altamont Landfill\",\"Waste Management - Bradley Landfill\",\"Waste Management - El Sobrante Landfill\",\"Waste Management - Redwood Landfill\",\"Waste Management - Redwood Landfill, Inc.\",\"Waste Management - Simi Valley Landfill\",\"Watkins Manufacturing Corporation\",\"Weber Metals\",\"Wellhead Power Gates, LLC\",\"Wellhead Power Panoche, LLC\",\"Western Milling, Goshen CA\",\"Wheelabrator Lassen Inc\",\"Wheelabrator Shasta Energy Company\",\"Wild Goose Storage LLC\",\"Wildflower Energy, LP - Indigo Generation, LLC\",\"Wildflower Energy, LP - Larkspur Energy Facility, LLC\",\"Windset Farms\",\"Wm. Bolthouse Farms, Inc.\",\"Woodland Biomass Power, Ltd\",\"Yuba City Cogeneration Partners LP\"],\"name\":\"\",\"parents\":[\"\",\"\",\"\",\"\",\"\",\"\",\"\",\"\",\"\",\"\",\"\",\"\",\"\",\"\",\"\",\"\",\"\",\"\",\"\",\"\",\"\",\"\",\"\",\"\",\"\",\"\",\"\",\"\",\"\",\"\",\"\",\"\",\"\",\"\",\"\",\"\",\"\",\"\",\"\",\"\",\"\",\"\",\"\",\"\",\"\",\"\",\"\",\"\",\"\",\"\",\"\",\"\",\"\",\"\",\"\",\"\",\"\",\"\",\"\",\"\",\"\",\"\",\"\",\"\",\"\",\"\",\"\",\"\",\"\",\"\",\"\",\"\",\"\",\"\",\"\",\"\",\"\",\"\",\"\",\"\",\"\",\"\",\"\",\"\",\"\",\"\",\"\",\"\",\"\",\"\",\"\",\"\",\"\",\"\",\"\",\"\",\"\",\"\",\"\",\"\",\"\",\"\",\"\",\"\",\"\",\"\",\"\",\"\",\"\",\"\",\"\",\"\",\"\",\"\",\"\",\"\",\"\",\"\",\"\",\"\",\"\",\"\",\"\",\"\",\"\",\"\",\"\",\"\",\"\",\"\",\"\",\"\",\"\",\"\",\"\",\"\",\"\",\"\",\"\",\"\",\"\",\"\",\"\",\"\",\"\",\"\",\"\",\"\",\"\",\"\",\"\",\"\",\"\",\"\",\"\",\"\",\"\",\"\",\"\",\"\",\"\",\"\",\"\",\"\",\"\",\"\",\"\",\"\",\"\",\"\",\"\",\"\",\"\",\"\",\"\",\"\",\"\",\"\",\"\",\"\",\"\",\"\",\"\",\"\",\"\",\"\",\"\",\"\",\"\",\"\",\"\",\"\",\"\",\"\",\"\",\"\",\"\",\"\",\"\",\"\",\"\",\"\",\"\",\"\",\"\",\"\",\"\",\"\",\"\",\"\",\"\",\"\",\"\",\"\",\"\",\"\",\"\",\"\",\"\",\"\",\"\",\"\",\"\",\"\",\"\",\"\",\"\",\"\",\"\",\"\",\"\",\"\",\"\",\"\",\"\",\"\",\"\",\"\",\"\",\"\",\"\",\"\",\"\",\"\",\"\",\"\",\"\",\"\",\"\",\"\",\"\",\"\",\"\",\"\",\"\",\"\",\"\",\"\",\"\",\"\",\"\",\"\",\"\",\"\",\"\",\"\",\"\",\"\",\"\",\"\",\"\",\"\",\"\",\"\",\"\",\"\",\"\",\"\",\"\",\"\",\"\",\"\",\"\",\"\",\"\",\"\",\"\",\"\",\"\",\"\",\"\",\"\",\"\",\"\",\"\",\"\",\"\",\"\",\"\",\"\",\"\",\"\",\"\",\"\",\"\",\"\",\"\",\"\",\"\",\"\",\"\",\"\",\"\",\"\",\"\",\"\",\"\",\"\",\"\",\"\",\"\",\"\",\"\",\"\",\"\",\"\",\"\",\"\",\"\",\"\",\"\",\"\",\"\",\"\",\"\",\"\",\"\",\"\",\"\",\"\",\"\",\"\",\"\",\"\",\"\",\"\",\"\",\"\",\"\",\"\",\"\",\"\",\"\",\"\",\"\",\"\",\"\",\"\",\"\",\"\",\"\",\"\",\"\",\"\",\"\",\"\",\"\",\"\",\"\",\"\",\"\",\"\",\"\",\"\",\"\",\"\",\"\",\"\",\"\",\"\",\"\",\"\",\"\",\"\",\"\",\"\",\"\",\"\",\"\",\"\",\"\",\"\",\"\",\"\",\"\",\"\",\"\",\"\",\"\",\"\",\"\",\"\",\"\",\"\",\"\",\"\",\"\",\"\",\"\",\"\",\"\",\"\",\"\",\"\",\"\",\"\",\"\",\"\",\"\",\"\",\"\",\"\",\"\",\"\",\"\",\"\",\"\",\"\",\"\",\"\",\"\",\"\",\"\",\"\",\"\",\"\",\"\",\"\",\"\",\"\",\"\",\"\",\"\",\"\",\"\",\"\",\"\",\"\",\"\",\"\",\"\",\"\",\"\",\"\",\"\",\"\",\"\",\"\",\"\",\"\",\"\",\"\",\"\",\"\",\"\",\"\",\"\",\"\",\"\",\"\",\"\",\"\",\"\",\"\",\"\",\"\",\"\",\"\",\"\",\"\",\"\",\"\",\"\",\"\",\"\",\"\",\"\",\"\",\"\",\"\",\"\",\"\",\"\",\"\",\"\",\"\",\"\",\"\",\"\",\"\",\"\",\"\",\"\",\"\",\"\",\"\",\"\",\"\",\"\",\"\",\"\",\"\",\"\",\"\",\"\",\"\",\"\",\"\",\"\",\"\",\"\",\"\",\"\",\"\",\"\",\"\",\"\",\"\",\"\",\"\",\"\",\"\",\"\",\"\",\"\",\"\",\"\",\"\",\"\",\"\",\"\",\"\",\"\",\"\",\"\",\"\",\"\",\"\",\"\",\"\",\"\",\"\",\"\",\"\",\"\",\"\",\"\",\"\",\"\",\"\",\"\",\"\",\"\",\"\",\"\",\"\",\"\",\"\",\"\",\"\",\"\",\"\",\"\",\"\",\"\",\"\",\"\",\"\",\"\",\"\",\"\",\"\",\"\",\"\",\"\",\"\",\"\",\"\",\"\",\"\",\"\",\"\",\"\",\"\",\"\",\"\",\"\",\"\",\"\",\"\",\"\",\"\",\"\",\"\",\"\",\"\",\"\",\"\",\"\",\"\",\"\",\"\",\"\",\"\",\"\",\"\",\"\",\"\",\"\",\"\",\"\",\"\",\"\",\"\",\"\",\"\",\"\",\"\",\"\",\"\",\"\",\"\",\"\",\"\",\"\",\"\",\"\",\"\",\"\",\"\",\"\",\"\",\"\",\"\",\"\",\"\",\"\",\"\",\"\",\"\",\"\",\"\",\"\",\"\",\"\",\"\",\"\",\"\",\"\",\"\",\"\",\"\",\"\",\"\",\"\",\"\",\"\",\"\",\"\",\"\",\"\",\"\",\"\",\"\",\"\",\"\",\"\",\"\",\"\",\"\",\"\",\"\",\"\",\"\",\"\",\"\",\"\",\"\",\"\",\"\",\"\",\"\",\"\",\"\",\"\",\"\",\"\",\"\",\"\",\"\",\"\",\"\",\"\",\"\",\"\",\"\",\"\",\"\",\"\",\"\",\"\",\"\",\"\",\"\",\"\",\"\",\"\",\"\",\"\",\"\",\"\",\"\",\"\",\"\",\"\",\"\",\"\",\"\",\"\",\"\",\"\",\"\",\"\",\"\",\"\",\"\",\"\",\"\",\"\",\"\",\"\",\"\",\"\",\"\",\"\",\"\",\"\",\"\",\"\",\"\",\"\",\"\",\"\",\"\",\"\",\"\",\"\",\"\",\"\",\"\",\"\",\"\",\"\",\"\",\"\",\"\",\"\",\"\",\"\",\"\",\"\",\"\",\"\",\"\",\"\",\"\",\"\",\"\",\"\",\"\",\"\",\"\",\"\",\"\",\"\",\"\",\"\",\"\",\"\",\"\",\"\",\"\",\"\",\"\",\"\",\"\",\"\",\"\",\"\",\"\",\"\",\"\",\"\",\"\",\"\",\"\",\"\",\"\",\"\",\"\",\"\",\"\"],\"type\":\"treemap\",\"values\":[113599.0,24951.0,0.0,125738.0,2906407.0,7013869.0,4396744.0,2467809.0,0.0,627902.0,238979.0,2465817.0,164247.0,131030.0,101556.0,1611318.0,33421.0,51066.0,236131.0,226884.0,501745.0,47664.0,144447.0,25793.0,29176053.0,147313.0,41582.0,57433.0,125495.0,6005677.0,7824078.0,2469297.0,1113290.0,6787692.0,462437.0,7071068.0,526259.0,149691.0,50007.0,1704231.0,78353.0,69602.0,2262.0,533476.0,24325.0,365978.0,361909.0,301110.0,83881.0,525078.0,182126.0,77076.0,131869.0,85804.0,220712.0,896496.0,105654.0,179363.0,458860.0,22542.0,1320972.0,799860.0,1532689.0,27022.0,779968.0,176210.0,105121.0,220355.0,5199473.0,692266.0,148984.0,72245.0,55659.0,118923.0,833257.0,77650.0,401657.0,195607.0,1695663.0,161688.0,13124933.0,0.0,79236.0,489921.0,6340018.0,61902.0,310229.0,447020.0,931550.0,239503.0,1048353.0,548376.0,16064.0,3699453.0,0.0,184653.0,970141.0,168284.0,298987.0,978147.0,545564.0,81223.0,94750.0,81853.0,63814.0,982.0,10403075.0,9968290.0,95506.0,320342.0,86297.0,431537.0,341221.0,564540.0,578231.0,70400.0,140506.0,12195.0,88035.0,188550.0,117428.0,17172061.0,1259461.0,259134.0,1526602.0,9923156.0,91207.0,56128.0,61191.0,781254.0,165748.0,468697.0,298590.0,1796572.0,3531979.0,27876.0,15490778.0,2008937.0,1003295.0,27595.0,145714.0,16762.0,4267.0,104691.0,86954.0,28708.0,2049553.0,926546.0,12562662.0,9793035.0,0.0,317739.0,9627413.0,16290642.0,3847401.0,111277.0,12877.0,365062.0,185322.0,585289.0,1186115.0,63502.0,293619.0,331190.0,712534.0,136710.0,0.0,18700238.0,709467.0,45435.0,488831.0,653012.0,17830.0,96198.0,158374.0,3224728.0,23186476.0,4390.0,9125.0,34057411.0,43332260.0,342498.0,1052086.0,448116.0,18347.0,627481.0,348505.0,124351.0,0.0,96884.0,24242.0,10186.0,278703.0,107701.0,123865.0,166483.0,15273.0,646.0,47120.0,262864.0,84865.0,6938.0,913043.0,160283.0,1390447.0,949674.0,0.0,671959.0,183839.0,680894.0,516969.0,1443269.0,797517.0,2332697.0,119510.0,3394521.0,1197139.0,176587.0,592577.0,0.0,0.0,2490038.0,308931.0,571785.0,120757.0,7373575.0,91758.0,1427167.0,154556.0,0.0,2956526.0,93103.0,142845.0,134644.0,144703.0,276790.0,281234.0,112223.0,69060.0,122234.0,88382.0,49377.0,285841.0,766080.0,159875.0,221868.0,0.0,443708.0,11911.0,285746.0,15171620.0,81563.0,48421.0,312959.0,83757.0,2378432.0,778368.0,300097.0,191473.0,365720.0,340846.0,133794.0,20859.0,150200.0,155936.0,100036.0,1396453.0,35426.0,139566.0,145944.0,44394.0,10723.0,13674.0,13831.0,188147.0,115068.0,1040082.0,74882.0,220103.0,711852.0,104814.0,926965.0,4786.0,4005.0,8804.0,114856.0,58960.0,57277.0,431212.0,78275.0,111770.0,182050.0,506193.0,194653.0,31386.0,164268.0,359233.0,403814.0,406760.0,396145.0,376207.0,1377888.0,333863.0,17331.0,56147.0,17685.0,189668.0,575921.0,252783.0,101291.0,69496.0,330633.0,3269.0,127995.0,341222.0,85068.0,506982.0,43118.0,963662.0,1440650.0,190380.0,1147522.0,147663.0,2480375.0,323015.0,338984.0,94236.0,52460.0,3813.0,267752.0,13499733.0,152697.0,147278.0,718859.0,48500.0,186212.0,237925.0,136519.0,281648.0,166126.0,16671.0,2415121.0,117448.0,266202.0,27359.0,426604.0,2392.0,4424844.0,320639.0,2171.0,121105.0,817761.0,574347.0,5991608.0,10612.0,449164.0,378227.0,86800.0,365618.0,97973.0,140859.0,0.0,108318.0,106126.0,109.0,84617.0,250027.0,102277.0,27701.0,129406.0,165712.0,1423734.0,6138492.0,12396.0,1279220.0,645522.0,90062.0,192991.0,171599.0,72515.0,139694.0,370418.0,949563.0,1193421.0,53254.0,2193493.0,193420.0,164941.0,15371374.0,610304.0,183924.0,8735830.0,2572434.0,5531785.0,191403.0,496991.0,158008.0,679949.0,903746.0,910638.0,187296.0,255665.0,106420.0,3207857.0,580340.0,35784.0,0.0,665530.0,13962507.0,7533213.0,6472293.0,276465.0,573081.0,364017.0,374813.0,438454.0,441214.0,26714.0,222933.0,287494.0,163828.0,156531.0,10493.0,490643.0,122389.0,219242.0,2435145.0,770872.0,629491.0,459612.0,2932264.0,814397.0,440643.0,4031942.0,148024.0,204270.0,115424.0,617368.0,855447.0,0.0,10899.0,286441.0,1423217.0,311162.0,7249633.0,51212.0,311296.0,91181.0,427335.0,129140.0,129945.0,11301756.0,236168.0,2074816.0,77.0,4578.0,211503.0,615196.0,172732.0,8543.0,628790.0,881214.0,69058.0,5509.0,3197012.0,5797.0,125640.0,5010.0,26105.0,27411.0,79243.0,51842.0,129782.0,7709.0,5042557.0,3476092.0,15726.0,98455.0,287300.0,19222.0,610907.0,540825.0,316713.0,122986.0,6341269.0,6609.0,82033.0,17591.0,106312.0,186732.0,259291.0,187527.0,14766.0,2338550.0,1186736.0,212972.0,56369.0,0.0,104515.0,82212.0,84043.0,0.0,196945.0,239255.0,0.0,7139.0,85737.0,105635.0,4125.0,101768.0,60727.0,881548.0,835731.0,410815.0,384559.0,245822.0,264073.0,142526.0,355242.0,271123.0,322782.0,156270.0,173800.0,228161.0,53125.0,193003.0,185289.0,1404025.0,7951.0,373115.0,85592.0,115862.0,20102.0,350228.0,854108.0,600448.0,718.0,10001.0,1099437.0,1308450.0,0.0,105817.0,76508.0,140940.0,862157.0,418811.0,9556717.0,368161.0,11719043.0,515350.0,662776.0,1997856.0,260427.0,176864.0,331762.0,360993.0,119400.0,449474.0,353145.0,25599.0,210719.0,571938.0,2362522.0,55100.0,56542.0,2510672.0,676876.0,23248.0,614358.0,20888.0,0.0,9299998.0,19034010.0,1673042.0,13358214.0,2162790.0,372109.0,261776.0,888470.0,914916.0,381794.0,301234.0,173805.0,666990.0,128956.0,550912.0,150399.0,196804.0,189288.0,1368933.0,159852.0,236645.0,327317.0,378286.0,8553.0,178917.0,849616.0,81680.0,2722743.0,1104979.0,1084333.0,2805063.0,44270.0,81588.0,355913.0,2638.0,159050.0,1192262.0,1645729.0,52019.0,114837.0,604187.0,146879.0,9775205.0,95132.0,252481.0,1876883.0,13591905.0,1327.0,3618006.0,3122601.0,78374.0,5735.0,66109.0,178543.0,67622.0,1935551.0,118926.0,34653.0,132357.0,123383.0,59165.0,1638.0,10780.0,941764.0,414811.0,100265.0,77195.0,133858.0,79946.0,65042.0,52774.0,654460.0,87216.0,1419338.0,211134.0,14508458.0,64705.0,169383.0,40874.0,2497917.0,448309.0,1886788.0,8147686.0,740897.0,18283.0,148482.0,138475.0,82686.0,40776988.0,200448.0,149280.0,1669908.0,61069.0,2057819.0,0.0,2162941.0,85828.0,3434561.0,463124.0,1113135.0,0.0,446001.0,24435.0,291805.0,27178.0,393595.0,3236363.0,0.0,18642.0,21081.0,6908.0,367388.0,37834.0,315910.0,39579.0,7817.0,3879224.0,129332.0,104159.0,92298.0,116982.0,105459.0,19120540.0,226990.0,2672354.0,363514.0,11519034.0,426313.0,30820.0,79800.0,26644.0,170906.0,203362.0,55.0,845520.0,96972.0,498534.0,93234.0,156091.0,15967.0,9048.0,10046.0,127910.0,53274.0,57126.0,9391738.0,490641.0,5206.0,8563450.0,241778.0,504311.0,321348.0,167918.0,0.0,3287.0,18130.0,190789.0,2753476.0,55239565.0,5797344.0,22395435.0,255654.0,3182868.0,81484.0,862351.0,136651.0,65177.0,276320.0,27678997.0,18408.0,2289089.0,248416.0,894642.0,625.0,5811059.0,34303.0,5079.0,3262596.0,552185.0,565506.0,450528.0,9975618.0,5737.0,3455.0,447623.0,348026.0,399475.0,566956.0,713216.0,2274091.0,206130.0,1525963.0,591022.0,146370.0,212543.0,5530.0,144466.0,127541.0,153006.0,27052306.0,103408.0,14748.0,132782.0,13988.0,74482.0,156588.0,0.0,53925.0,15085.0,0.0,0.0,261087.0,220340.0,316931.0,844016.0,46133.0,38958.0,295477.0,139731.0,2139450.0,1508860.0,541635.0,217372.0,150643.0,80892.0,33821.0,79693.0,4356.0,150870.0,3179.0,2151.0,67822.0,100147.0,6490268.0,191694.0,315521.0,321222.0,271116.0,295071.0,2703365.0,228127.0]}],                        {\"legend\":{\"tracegroupgap\":0},\"margin\":{\"t\":60},\"template\":{\"data\":{\"bar\":[{\"error_x\":{\"color\":\"#2a3f5f\"},\"error_y\":{\"color\":\"#2a3f5f\"},\"marker\":{\"line\":{\"color\":\"#E5ECF6\",\"width\":0.5},\"pattern\":{\"fillmode\":\"overlay\",\"size\":10,\"solidity\":0.2}},\"type\":\"bar\"}],\"barpolar\":[{\"marker\":{\"line\":{\"color\":\"#E5ECF6\",\"width\":0.5},\"pattern\":{\"fillmode\":\"overlay\",\"size\":10,\"solidity\":0.2}},\"type\":\"barpolar\"}],\"carpet\":[{\"aaxis\":{\"endlinecolor\":\"#2a3f5f\",\"gridcolor\":\"white\",\"linecolor\":\"white\",\"minorgridcolor\":\"white\",\"startlinecolor\":\"#2a3f5f\"},\"baxis\":{\"endlinecolor\":\"#2a3f5f\",\"gridcolor\":\"white\",\"linecolor\":\"white\",\"minorgridcolor\":\"white\",\"startlinecolor\":\"#2a3f5f\"},\"type\":\"carpet\"}],\"choropleth\":[{\"colorbar\":{\"outlinewidth\":0,\"ticks\":\"\"},\"type\":\"choropleth\"}],\"contour\":[{\"colorbar\":{\"outlinewidth\":0,\"ticks\":\"\"},\"colorscale\":[[0.0,\"#0d0887\"],[0.1111111111111111,\"#46039f\"],[0.2222222222222222,\"#7201a8\"],[0.3333333333333333,\"#9c179e\"],[0.4444444444444444,\"#bd3786\"],[0.5555555555555556,\"#d8576b\"],[0.6666666666666666,\"#ed7953\"],[0.7777777777777778,\"#fb9f3a\"],[0.8888888888888888,\"#fdca26\"],[1.0,\"#f0f921\"]],\"type\":\"contour\"}],\"contourcarpet\":[{\"colorbar\":{\"outlinewidth\":0,\"ticks\":\"\"},\"type\":\"contourcarpet\"}],\"heatmap\":[{\"colorbar\":{\"outlinewidth\":0,\"ticks\":\"\"},\"colorscale\":[[0.0,\"#0d0887\"],[0.1111111111111111,\"#46039f\"],[0.2222222222222222,\"#7201a8\"],[0.3333333333333333,\"#9c179e\"],[0.4444444444444444,\"#bd3786\"],[0.5555555555555556,\"#d8576b\"],[0.6666666666666666,\"#ed7953\"],[0.7777777777777778,\"#fb9f3a\"],[0.8888888888888888,\"#fdca26\"],[1.0,\"#f0f921\"]],\"type\":\"heatmap\"}],\"heatmapgl\":[{\"colorbar\":{\"outlinewidth\":0,\"ticks\":\"\"},\"colorscale\":[[0.0,\"#0d0887\"],[0.1111111111111111,\"#46039f\"],[0.2222222222222222,\"#7201a8\"],[0.3333333333333333,\"#9c179e\"],[0.4444444444444444,\"#bd3786\"],[0.5555555555555556,\"#d8576b\"],[0.6666666666666666,\"#ed7953\"],[0.7777777777777778,\"#fb9f3a\"],[0.8888888888888888,\"#fdca26\"],[1.0,\"#f0f921\"]],\"type\":\"heatmapgl\"}],\"histogram\":[{\"marker\":{\"pattern\":{\"fillmode\":\"overlay\",\"size\":10,\"solidity\":0.2}},\"type\":\"histogram\"}],\"histogram2d\":[{\"colorbar\":{\"outlinewidth\":0,\"ticks\":\"\"},\"colorscale\":[[0.0,\"#0d0887\"],[0.1111111111111111,\"#46039f\"],[0.2222222222222222,\"#7201a8\"],[0.3333333333333333,\"#9c179e\"],[0.4444444444444444,\"#bd3786\"],[0.5555555555555556,\"#d8576b\"],[0.6666666666666666,\"#ed7953\"],[0.7777777777777778,\"#fb9f3a\"],[0.8888888888888888,\"#fdca26\"],[1.0,\"#f0f921\"]],\"type\":\"histogram2d\"}],\"histogram2dcontour\":[{\"colorbar\":{\"outlinewidth\":0,\"ticks\":\"\"},\"colorscale\":[[0.0,\"#0d0887\"],[0.1111111111111111,\"#46039f\"],[0.2222222222222222,\"#7201a8\"],[0.3333333333333333,\"#9c179e\"],[0.4444444444444444,\"#bd3786\"],[0.5555555555555556,\"#d8576b\"],[0.6666666666666666,\"#ed7953\"],[0.7777777777777778,\"#fb9f3a\"],[0.8888888888888888,\"#fdca26\"],[1.0,\"#f0f921\"]],\"type\":\"histogram2dcontour\"}],\"mesh3d\":[{\"colorbar\":{\"outlinewidth\":0,\"ticks\":\"\"},\"type\":\"mesh3d\"}],\"parcoords\":[{\"line\":{\"colorbar\":{\"outlinewidth\":0,\"ticks\":\"\"}},\"type\":\"parcoords\"}],\"pie\":[{\"automargin\":true,\"type\":\"pie\"}],\"scatter\":[{\"marker\":{\"colorbar\":{\"outlinewidth\":0,\"ticks\":\"\"}},\"type\":\"scatter\"}],\"scatter3d\":[{\"line\":{\"colorbar\":{\"outlinewidth\":0,\"ticks\":\"\"}},\"marker\":{\"colorbar\":{\"outlinewidth\":0,\"ticks\":\"\"}},\"type\":\"scatter3d\"}],\"scattercarpet\":[{\"marker\":{\"colorbar\":{\"outlinewidth\":0,\"ticks\":\"\"}},\"type\":\"scattercarpet\"}],\"scattergeo\":[{\"marker\":{\"colorbar\":{\"outlinewidth\":0,\"ticks\":\"\"}},\"type\":\"scattergeo\"}],\"scattergl\":[{\"marker\":{\"colorbar\":{\"outlinewidth\":0,\"ticks\":\"\"}},\"type\":\"scattergl\"}],\"scattermapbox\":[{\"marker\":{\"colorbar\":{\"outlinewidth\":0,\"ticks\":\"\"}},\"type\":\"scattermapbox\"}],\"scatterpolar\":[{\"marker\":{\"colorbar\":{\"outlinewidth\":0,\"ticks\":\"\"}},\"type\":\"scatterpolar\"}],\"scatterpolargl\":[{\"marker\":{\"colorbar\":{\"outlinewidth\":0,\"ticks\":\"\"}},\"type\":\"scatterpolargl\"}],\"scatterternary\":[{\"marker\":{\"colorbar\":{\"outlinewidth\":0,\"ticks\":\"\"}},\"type\":\"scatterternary\"}],\"surface\":[{\"colorbar\":{\"outlinewidth\":0,\"ticks\":\"\"},\"colorscale\":[[0.0,\"#0d0887\"],[0.1111111111111111,\"#46039f\"],[0.2222222222222222,\"#7201a8\"],[0.3333333333333333,\"#9c179e\"],[0.4444444444444444,\"#bd3786\"],[0.5555555555555556,\"#d8576b\"],[0.6666666666666666,\"#ed7953\"],[0.7777777777777778,\"#fb9f3a\"],[0.8888888888888888,\"#fdca26\"],[1.0,\"#f0f921\"]],\"type\":\"surface\"}],\"table\":[{\"cells\":{\"fill\":{\"color\":\"#EBF0F8\"},\"line\":{\"color\":\"white\"}},\"header\":{\"fill\":{\"color\":\"#C8D4E3\"},\"line\":{\"color\":\"white\"}},\"type\":\"table\"}]},\"layout\":{\"annotationdefaults\":{\"arrowcolor\":\"#2a3f5f\",\"arrowhead\":0,\"arrowwidth\":1},\"autotypenumbers\":\"strict\",\"coloraxis\":{\"colorbar\":{\"outlinewidth\":0,\"ticks\":\"\"}},\"colorscale\":{\"diverging\":[[0,\"#8e0152\"],[0.1,\"#c51b7d\"],[0.2,\"#de77ae\"],[0.3,\"#f1b6da\"],[0.4,\"#fde0ef\"],[0.5,\"#f7f7f7\"],[0.6,\"#e6f5d0\"],[0.7,\"#b8e186\"],[0.8,\"#7fbc41\"],[0.9,\"#4d9221\"],[1,\"#276419\"]],\"sequential\":[[0.0,\"#0d0887\"],[0.1111111111111111,\"#46039f\"],[0.2222222222222222,\"#7201a8\"],[0.3333333333333333,\"#9c179e\"],[0.4444444444444444,\"#bd3786\"],[0.5555555555555556,\"#d8576b\"],[0.6666666666666666,\"#ed7953\"],[0.7777777777777778,\"#fb9f3a\"],[0.8888888888888888,\"#fdca26\"],[1.0,\"#f0f921\"]],\"sequentialminus\":[[0.0,\"#0d0887\"],[0.1111111111111111,\"#46039f\"],[0.2222222222222222,\"#7201a8\"],[0.3333333333333333,\"#9c179e\"],[0.4444444444444444,\"#bd3786\"],[0.5555555555555556,\"#d8576b\"],[0.6666666666666666,\"#ed7953\"],[0.7777777777777778,\"#fb9f3a\"],[0.8888888888888888,\"#fdca26\"],[1.0,\"#f0f921\"]]},\"colorway\":[\"#636efa\",\"#EF553B\",\"#00cc96\",\"#ab63fa\",\"#FFA15A\",\"#19d3f3\",\"#FF6692\",\"#B6E880\",\"#FF97FF\",\"#FECB52\"],\"font\":{\"color\":\"#2a3f5f\"},\"geo\":{\"bgcolor\":\"white\",\"lakecolor\":\"white\",\"landcolor\":\"#E5ECF6\",\"showlakes\":true,\"showland\":true,\"subunitcolor\":\"white\"},\"hoverlabel\":{\"align\":\"left\"},\"hovermode\":\"closest\",\"mapbox\":{\"style\":\"light\"},\"paper_bgcolor\":\"white\",\"plot_bgcolor\":\"#E5ECF6\",\"polar\":{\"angularaxis\":{\"gridcolor\":\"white\",\"linecolor\":\"white\",\"ticks\":\"\"},\"bgcolor\":\"#E5ECF6\",\"radialaxis\":{\"gridcolor\":\"white\",\"linecolor\":\"white\",\"ticks\":\"\"}},\"scene\":{\"xaxis\":{\"backgroundcolor\":\"#E5ECF6\",\"gridcolor\":\"white\",\"gridwidth\":2,\"linecolor\":\"white\",\"showbackground\":true,\"ticks\":\"\",\"zerolinecolor\":\"white\"},\"yaxis\":{\"backgroundcolor\":\"#E5ECF6\",\"gridcolor\":\"white\",\"gridwidth\":2,\"linecolor\":\"white\",\"showbackground\":true,\"ticks\":\"\",\"zerolinecolor\":\"white\"},\"zaxis\":{\"backgroundcolor\":\"#E5ECF6\",\"gridcolor\":\"white\",\"gridwidth\":2,\"linecolor\":\"white\",\"showbackground\":true,\"ticks\":\"\",\"zerolinecolor\":\"white\"}},\"shapedefaults\":{\"line\":{\"color\":\"#2a3f5f\"}},\"ternary\":{\"aaxis\":{\"gridcolor\":\"white\",\"linecolor\":\"white\",\"ticks\":\"\"},\"baxis\":{\"gridcolor\":\"white\",\"linecolor\":\"white\",\"ticks\":\"\"},\"bgcolor\":\"#E5ECF6\",\"caxis\":{\"gridcolor\":\"white\",\"linecolor\":\"white\",\"ticks\":\"\"}},\"title\":{\"x\":0.05},\"xaxis\":{\"automargin\":true,\"gridcolor\":\"white\",\"linecolor\":\"white\",\"ticks\":\"\",\"title\":{\"standoff\":15},\"zerolinecolor\":\"white\",\"zerolinewidth\":2},\"yaxis\":{\"automargin\":true,\"gridcolor\":\"white\",\"linecolor\":\"white\",\"ticks\":\"\",\"title\":{\"standoff\":15},\"zerolinecolor\":\"white\",\"zerolinewidth\":2}}},\"title\":{\"text\":\"California CARB-Reported GHG Emissions by Facility\",\"x\":0.5}},                        {\"responsive\": true}                    ).then(function(){\n",
       "                            \n",
       "var gd = document.getElementById('2c4b5cef-998f-4f1b-92a7-76cbd78be884');\n",
       "var x = new MutationObserver(function (mutations, observer) {{\n",
       "        var display = window.getComputedStyle(gd).display;\n",
       "        if (!display || display === 'none') {{\n",
       "            console.log([gd, 'removed!']);\n",
       "            Plotly.purge(gd);\n",
       "            observer.disconnect();\n",
       "        }}\n",
       "}});\n",
       "\n",
       "// Listen for the removal of the full notebook cells\n",
       "var notebookContainer = gd.closest('#notebook-container');\n",
       "if (notebookContainer) {{\n",
       "    x.observe(notebookContainer, {childList: true});\n",
       "}}\n",
       "\n",
       "// Listen for the clearing of the current output cell\n",
       "var outputEl = gd.closest('.output');\n",
       "if (outputEl) {{\n",
       "    x.observe(outputEl, {childList: true});\n",
       "}}\n",
       "\n",
       "                        })                };                });            </script>        </div>"
      ]
     },
     "metadata": {},
     "output_type": "display_data"
    }
   ],
   "source": [
    "temp = df.groupby('Facility')['Total GHG'].sum().reset_index()\n",
    "fig = px.treemap(temp,path = ['Facility'],values = 'Total GHG')\n",
    "fig.update_layout(title='California CARB-Reported GHG Emissions by Facility',title_x=0.5)\n",
    "fig.show()"
   ]
  },
  {
   "cell_type": "code",
   "execution_count": 48,
   "id": "d44928eb",
   "metadata": {},
   "outputs": [],
   "source": [
    "df_2019=df[df[\"Year\"]==2019].sort_values('Total GHG', ascending = False).reset_index()"
   ]
  },
  {
   "cell_type": "code",
   "execution_count": 57,
   "id": "b195e55f",
   "metadata": {},
   "outputs": [],
   "source": [
    "df_2019v2 = df_2019[(df_2019[['Total GHG']] != 0).any(axis=1)]"
   ]
  },
  {
   "cell_type": "code",
   "execution_count": 59,
   "id": "df65e4e0",
   "metadata": {},
   "outputs": [
    {
     "name": "stdout",
     "output_type": "stream",
     "text": [
      "186114.76573426573\n",
      "3.0\n",
      "5918258.0\n",
      "106457646.0\n"
     ]
    }
   ],
   "source": [
    "GHG_mean=df_2019v2['Total GHG'].mean()\n",
    "GHG_min=df_2019v2['Total GHG'].min()\n",
    "GHG_max=df_2019v2['Total GHG'].max()\n",
    "GHG_sum=df_2019v2['Total GHG'].sum()\n",
    "\n",
    "print(GHG_mean)\n",
    "print(GHG_min)\n",
    "print(GHG_max)\n",
    "print(GHG_sum)"
   ]
  },
  {
   "cell_type": "code",
   "execution_count": 63,
   "id": "482fb62b",
   "metadata": {},
   "outputs": [
    {
     "data": {
      "application/vnd.plotly.v1+json": {
       "config": {
        "plotlyServerURL": "https://plot.ly"
       },
       "data": [
        {
         "domain": {
          "x": [
           0.25,
           1
          ],
          "y": [
           0.1,
           0.2
          ]
         },
         "gauge": {
          "axis": {
           "range": [
            null,
            200000
           ]
          },
          "bar": {
           "color": "lightblue"
          },
          "shape": "bullet"
         },
         "mode": "number+gauge",
         "number": {
          "font": {
           "color": "black"
          }
         },
         "title": {
          "font": {
           "color": "black",
           "size": 15
          },
          "text": "Mean GHG Emissions, 2019"
         },
         "type": "indicator",
         "value": 186114.76573426573
        },
        {
         "domain": {
          "x": [
           0.25,
           1
          ],
          "y": [
           0.3,
           0.4
          ]
         },
         "gauge": {
          "axis": {
           "range": [
            null,
            5
           ]
          },
          "bar": {
           "color": "cyan"
          },
          "shape": "bullet"
         },
         "mode": "number+gauge",
         "number": {
          "font": {
           "color": "black"
          }
         },
         "title": {
          "font": {
           "color": "black",
           "size": 15
          },
          "text": "Min GHG Emissions, 2019"
         },
         "type": "indicator",
         "value": 3
        },
        {
         "domain": {
          "x": [
           0.25,
           1
          ],
          "y": [
           0.5,
           0.6
          ]
         },
         "gauge": {
          "axis": {
           "range": [
            null,
            10000000
           ]
          },
          "bar": {
           "color": "darkblue"
          },
          "shape": "bullet"
         },
         "mode": "number+gauge",
         "number": {
          "font": {
           "color": "black"
          }
         },
         "title": {
          "font": {
           "color": "black",
           "size": 15
          },
          "text": "Max GHG Emissions, 2019"
         },
         "type": "indicator",
         "value": 5918258
        },
        {
         "domain": {
          "x": [
           0.25,
           1
          ],
          "y": [
           0.7,
           0.8
          ]
         },
         "gauge": {
          "axis": {
           "range": [
            null,
            200000000
           ]
          },
          "bar": {
           "color": "darkcyan"
          },
          "shape": "bullet"
         },
         "mode": "number+gauge",
         "number": {
          "font": {
           "color": "black"
          }
         },
         "title": {
          "font": {
           "color": "black",
           "size": 15
          },
          "text": "Sum GHG Emissions, 2019"
         },
         "type": "indicator",
         "value": 106457646
        }
       ],
       "layout": {
        "template": {
         "data": {
          "bar": [
           {
            "error_x": {
             "color": "#2a3f5f"
            },
            "error_y": {
             "color": "#2a3f5f"
            },
            "marker": {
             "line": {
              "color": "#E5ECF6",
              "width": 0.5
             },
             "pattern": {
              "fillmode": "overlay",
              "size": 10,
              "solidity": 0.2
             }
            },
            "type": "bar"
           }
          ],
          "barpolar": [
           {
            "marker": {
             "line": {
              "color": "#E5ECF6",
              "width": 0.5
             },
             "pattern": {
              "fillmode": "overlay",
              "size": 10,
              "solidity": 0.2
             }
            },
            "type": "barpolar"
           }
          ],
          "carpet": [
           {
            "aaxis": {
             "endlinecolor": "#2a3f5f",
             "gridcolor": "white",
             "linecolor": "white",
             "minorgridcolor": "white",
             "startlinecolor": "#2a3f5f"
            },
            "baxis": {
             "endlinecolor": "#2a3f5f",
             "gridcolor": "white",
             "linecolor": "white",
             "minorgridcolor": "white",
             "startlinecolor": "#2a3f5f"
            },
            "type": "carpet"
           }
          ],
          "choropleth": [
           {
            "colorbar": {
             "outlinewidth": 0,
             "ticks": ""
            },
            "type": "choropleth"
           }
          ],
          "contour": [
           {
            "colorbar": {
             "outlinewidth": 0,
             "ticks": ""
            },
            "colorscale": [
             [
              0,
              "#0d0887"
             ],
             [
              0.1111111111111111,
              "#46039f"
             ],
             [
              0.2222222222222222,
              "#7201a8"
             ],
             [
              0.3333333333333333,
              "#9c179e"
             ],
             [
              0.4444444444444444,
              "#bd3786"
             ],
             [
              0.5555555555555556,
              "#d8576b"
             ],
             [
              0.6666666666666666,
              "#ed7953"
             ],
             [
              0.7777777777777778,
              "#fb9f3a"
             ],
             [
              0.8888888888888888,
              "#fdca26"
             ],
             [
              1,
              "#f0f921"
             ]
            ],
            "type": "contour"
           }
          ],
          "contourcarpet": [
           {
            "colorbar": {
             "outlinewidth": 0,
             "ticks": ""
            },
            "type": "contourcarpet"
           }
          ],
          "heatmap": [
           {
            "colorbar": {
             "outlinewidth": 0,
             "ticks": ""
            },
            "colorscale": [
             [
              0,
              "#0d0887"
             ],
             [
              0.1111111111111111,
              "#46039f"
             ],
             [
              0.2222222222222222,
              "#7201a8"
             ],
             [
              0.3333333333333333,
              "#9c179e"
             ],
             [
              0.4444444444444444,
              "#bd3786"
             ],
             [
              0.5555555555555556,
              "#d8576b"
             ],
             [
              0.6666666666666666,
              "#ed7953"
             ],
             [
              0.7777777777777778,
              "#fb9f3a"
             ],
             [
              0.8888888888888888,
              "#fdca26"
             ],
             [
              1,
              "#f0f921"
             ]
            ],
            "type": "heatmap"
           }
          ],
          "heatmapgl": [
           {
            "colorbar": {
             "outlinewidth": 0,
             "ticks": ""
            },
            "colorscale": [
             [
              0,
              "#0d0887"
             ],
             [
              0.1111111111111111,
              "#46039f"
             ],
             [
              0.2222222222222222,
              "#7201a8"
             ],
             [
              0.3333333333333333,
              "#9c179e"
             ],
             [
              0.4444444444444444,
              "#bd3786"
             ],
             [
              0.5555555555555556,
              "#d8576b"
             ],
             [
              0.6666666666666666,
              "#ed7953"
             ],
             [
              0.7777777777777778,
              "#fb9f3a"
             ],
             [
              0.8888888888888888,
              "#fdca26"
             ],
             [
              1,
              "#f0f921"
             ]
            ],
            "type": "heatmapgl"
           }
          ],
          "histogram": [
           {
            "marker": {
             "pattern": {
              "fillmode": "overlay",
              "size": 10,
              "solidity": 0.2
             }
            },
            "type": "histogram"
           }
          ],
          "histogram2d": [
           {
            "colorbar": {
             "outlinewidth": 0,
             "ticks": ""
            },
            "colorscale": [
             [
              0,
              "#0d0887"
             ],
             [
              0.1111111111111111,
              "#46039f"
             ],
             [
              0.2222222222222222,
              "#7201a8"
             ],
             [
              0.3333333333333333,
              "#9c179e"
             ],
             [
              0.4444444444444444,
              "#bd3786"
             ],
             [
              0.5555555555555556,
              "#d8576b"
             ],
             [
              0.6666666666666666,
              "#ed7953"
             ],
             [
              0.7777777777777778,
              "#fb9f3a"
             ],
             [
              0.8888888888888888,
              "#fdca26"
             ],
             [
              1,
              "#f0f921"
             ]
            ],
            "type": "histogram2d"
           }
          ],
          "histogram2dcontour": [
           {
            "colorbar": {
             "outlinewidth": 0,
             "ticks": ""
            },
            "colorscale": [
             [
              0,
              "#0d0887"
             ],
             [
              0.1111111111111111,
              "#46039f"
             ],
             [
              0.2222222222222222,
              "#7201a8"
             ],
             [
              0.3333333333333333,
              "#9c179e"
             ],
             [
              0.4444444444444444,
              "#bd3786"
             ],
             [
              0.5555555555555556,
              "#d8576b"
             ],
             [
              0.6666666666666666,
              "#ed7953"
             ],
             [
              0.7777777777777778,
              "#fb9f3a"
             ],
             [
              0.8888888888888888,
              "#fdca26"
             ],
             [
              1,
              "#f0f921"
             ]
            ],
            "type": "histogram2dcontour"
           }
          ],
          "mesh3d": [
           {
            "colorbar": {
             "outlinewidth": 0,
             "ticks": ""
            },
            "type": "mesh3d"
           }
          ],
          "parcoords": [
           {
            "line": {
             "colorbar": {
              "outlinewidth": 0,
              "ticks": ""
             }
            },
            "type": "parcoords"
           }
          ],
          "pie": [
           {
            "automargin": true,
            "type": "pie"
           }
          ],
          "scatter": [
           {
            "marker": {
             "colorbar": {
              "outlinewidth": 0,
              "ticks": ""
             }
            },
            "type": "scatter"
           }
          ],
          "scatter3d": [
           {
            "line": {
             "colorbar": {
              "outlinewidth": 0,
              "ticks": ""
             }
            },
            "marker": {
             "colorbar": {
              "outlinewidth": 0,
              "ticks": ""
             }
            },
            "type": "scatter3d"
           }
          ],
          "scattercarpet": [
           {
            "marker": {
             "colorbar": {
              "outlinewidth": 0,
              "ticks": ""
             }
            },
            "type": "scattercarpet"
           }
          ],
          "scattergeo": [
           {
            "marker": {
             "colorbar": {
              "outlinewidth": 0,
              "ticks": ""
             }
            },
            "type": "scattergeo"
           }
          ],
          "scattergl": [
           {
            "marker": {
             "colorbar": {
              "outlinewidth": 0,
              "ticks": ""
             }
            },
            "type": "scattergl"
           }
          ],
          "scattermapbox": [
           {
            "marker": {
             "colorbar": {
              "outlinewidth": 0,
              "ticks": ""
             }
            },
            "type": "scattermapbox"
           }
          ],
          "scatterpolar": [
           {
            "marker": {
             "colorbar": {
              "outlinewidth": 0,
              "ticks": ""
             }
            },
            "type": "scatterpolar"
           }
          ],
          "scatterpolargl": [
           {
            "marker": {
             "colorbar": {
              "outlinewidth": 0,
              "ticks": ""
             }
            },
            "type": "scatterpolargl"
           }
          ],
          "scatterternary": [
           {
            "marker": {
             "colorbar": {
              "outlinewidth": 0,
              "ticks": ""
             }
            },
            "type": "scatterternary"
           }
          ],
          "surface": [
           {
            "colorbar": {
             "outlinewidth": 0,
             "ticks": ""
            },
            "colorscale": [
             [
              0,
              "#0d0887"
             ],
             [
              0.1111111111111111,
              "#46039f"
             ],
             [
              0.2222222222222222,
              "#7201a8"
             ],
             [
              0.3333333333333333,
              "#9c179e"
             ],
             [
              0.4444444444444444,
              "#bd3786"
             ],
             [
              0.5555555555555556,
              "#d8576b"
             ],
             [
              0.6666666666666666,
              "#ed7953"
             ],
             [
              0.7777777777777778,
              "#fb9f3a"
             ],
             [
              0.8888888888888888,
              "#fdca26"
             ],
             [
              1,
              "#f0f921"
             ]
            ],
            "type": "surface"
           }
          ],
          "table": [
           {
            "cells": {
             "fill": {
              "color": "#EBF0F8"
             },
             "line": {
              "color": "white"
             }
            },
            "header": {
             "fill": {
              "color": "#C8D4E3"
             },
             "line": {
              "color": "white"
             }
            },
            "type": "table"
           }
          ]
         },
         "layout": {
          "annotationdefaults": {
           "arrowcolor": "#2a3f5f",
           "arrowhead": 0,
           "arrowwidth": 1
          },
          "autotypenumbers": "strict",
          "coloraxis": {
           "colorbar": {
            "outlinewidth": 0,
            "ticks": ""
           }
          },
          "colorscale": {
           "diverging": [
            [
             0,
             "#8e0152"
            ],
            [
             0.1,
             "#c51b7d"
            ],
            [
             0.2,
             "#de77ae"
            ],
            [
             0.3,
             "#f1b6da"
            ],
            [
             0.4,
             "#fde0ef"
            ],
            [
             0.5,
             "#f7f7f7"
            ],
            [
             0.6,
             "#e6f5d0"
            ],
            [
             0.7,
             "#b8e186"
            ],
            [
             0.8,
             "#7fbc41"
            ],
            [
             0.9,
             "#4d9221"
            ],
            [
             1,
             "#276419"
            ]
           ],
           "sequential": [
            [
             0,
             "#0d0887"
            ],
            [
             0.1111111111111111,
             "#46039f"
            ],
            [
             0.2222222222222222,
             "#7201a8"
            ],
            [
             0.3333333333333333,
             "#9c179e"
            ],
            [
             0.4444444444444444,
             "#bd3786"
            ],
            [
             0.5555555555555556,
             "#d8576b"
            ],
            [
             0.6666666666666666,
             "#ed7953"
            ],
            [
             0.7777777777777778,
             "#fb9f3a"
            ],
            [
             0.8888888888888888,
             "#fdca26"
            ],
            [
             1,
             "#f0f921"
            ]
           ],
           "sequentialminus": [
            [
             0,
             "#0d0887"
            ],
            [
             0.1111111111111111,
             "#46039f"
            ],
            [
             0.2222222222222222,
             "#7201a8"
            ],
            [
             0.3333333333333333,
             "#9c179e"
            ],
            [
             0.4444444444444444,
             "#bd3786"
            ],
            [
             0.5555555555555556,
             "#d8576b"
            ],
            [
             0.6666666666666666,
             "#ed7953"
            ],
            [
             0.7777777777777778,
             "#fb9f3a"
            ],
            [
             0.8888888888888888,
             "#fdca26"
            ],
            [
             1,
             "#f0f921"
            ]
           ]
          },
          "colorway": [
           "#636efa",
           "#EF553B",
           "#00cc96",
           "#ab63fa",
           "#FFA15A",
           "#19d3f3",
           "#FF6692",
           "#B6E880",
           "#FF97FF",
           "#FECB52"
          ],
          "font": {
           "color": "#2a3f5f"
          },
          "geo": {
           "bgcolor": "white",
           "lakecolor": "white",
           "landcolor": "#E5ECF6",
           "showlakes": true,
           "showland": true,
           "subunitcolor": "white"
          },
          "hoverlabel": {
           "align": "left"
          },
          "hovermode": "closest",
          "mapbox": {
           "style": "light"
          },
          "paper_bgcolor": "white",
          "plot_bgcolor": "#E5ECF6",
          "polar": {
           "angularaxis": {
            "gridcolor": "white",
            "linecolor": "white",
            "ticks": ""
           },
           "bgcolor": "#E5ECF6",
           "radialaxis": {
            "gridcolor": "white",
            "linecolor": "white",
            "ticks": ""
           }
          },
          "scene": {
           "xaxis": {
            "backgroundcolor": "#E5ECF6",
            "gridcolor": "white",
            "gridwidth": 2,
            "linecolor": "white",
            "showbackground": true,
            "ticks": "",
            "zerolinecolor": "white"
           },
           "yaxis": {
            "backgroundcolor": "#E5ECF6",
            "gridcolor": "white",
            "gridwidth": 2,
            "linecolor": "white",
            "showbackground": true,
            "ticks": "",
            "zerolinecolor": "white"
           },
           "zaxis": {
            "backgroundcolor": "#E5ECF6",
            "gridcolor": "white",
            "gridwidth": 2,
            "linecolor": "white",
            "showbackground": true,
            "ticks": "",
            "zerolinecolor": "white"
           }
          },
          "shapedefaults": {
           "line": {
            "color": "#2a3f5f"
           }
          },
          "ternary": {
           "aaxis": {
            "gridcolor": "white",
            "linecolor": "white",
            "ticks": ""
           },
           "baxis": {
            "gridcolor": "white",
            "linecolor": "white",
            "ticks": ""
           },
           "bgcolor": "#E5ECF6",
           "caxis": {
            "gridcolor": "white",
            "linecolor": "white",
            "ticks": ""
           }
          },
          "title": {
           "x": 0.05
          },
          "xaxis": {
           "automargin": true,
           "gridcolor": "white",
           "linecolor": "white",
           "ticks": "",
           "title": {
            "standoff": 15
           },
           "zerolinecolor": "white",
           "zerolinewidth": 2
          },
          "yaxis": {
           "automargin": true,
           "gridcolor": "white",
           "linecolor": "white",
           "ticks": "",
           "title": {
            "standoff": 15
           },
           "zerolinecolor": "white",
           "zerolinewidth": 2
          }
         }
        },
        "title": {
         "text": " 2019 California GHG Emissions Statistics ",
         "x": 0.5
        }
       }
      },
      "text/html": [
       "<div>                            <div id=\"d62a150e-94a6-4a81-978a-766fe685b5e7\" class=\"plotly-graph-div\" style=\"height:525px; width:100%;\"></div>            <script type=\"text/javascript\">                require([\"plotly\"], function(Plotly) {                    window.PLOTLYENV=window.PLOTLYENV || {};                                    if (document.getElementById(\"d62a150e-94a6-4a81-978a-766fe685b5e7\")) {                    Plotly.newPlot(                        \"d62a150e-94a6-4a81-978a-766fe685b5e7\",                        [{\"domain\":{\"x\":[0.25,1],\"y\":[0.1,0.2]},\"gauge\":{\"axis\":{\"range\":[null,200000]},\"bar\":{\"color\":\"lightblue\"},\"shape\":\"bullet\"},\"mode\":\"number+gauge\",\"number\":{\"font\":{\"color\":\"black\"}},\"title\":{\"font\":{\"color\":\"black\",\"size\":15},\"text\":\"Mean GHG Emissions, 2019\"},\"type\":\"indicator\",\"value\":186114.76573426573},{\"domain\":{\"x\":[0.25,1],\"y\":[0.3,0.4]},\"gauge\":{\"axis\":{\"range\":[null,5]},\"bar\":{\"color\":\"cyan\"},\"shape\":\"bullet\"},\"mode\":\"number+gauge\",\"number\":{\"font\":{\"color\":\"black\"}},\"title\":{\"font\":{\"color\":\"black\",\"size\":15},\"text\":\"Min GHG Emissions, 2019\"},\"type\":\"indicator\",\"value\":3.0},{\"domain\":{\"x\":[0.25,1],\"y\":[0.5,0.6]},\"gauge\":{\"axis\":{\"range\":[null,10000000]},\"bar\":{\"color\":\"darkblue\"},\"shape\":\"bullet\"},\"mode\":\"number+gauge\",\"number\":{\"font\":{\"color\":\"black\"}},\"title\":{\"font\":{\"color\":\"black\",\"size\":15},\"text\":\"Max GHG Emissions, 2019\"},\"type\":\"indicator\",\"value\":5918258.0},{\"domain\":{\"x\":[0.25,1],\"y\":[0.7,0.8]},\"gauge\":{\"axis\":{\"range\":[null,200000000]},\"bar\":{\"color\":\"darkcyan\"},\"shape\":\"bullet\"},\"mode\":\"number+gauge\",\"number\":{\"font\":{\"color\":\"black\"}},\"title\":{\"font\":{\"color\":\"black\",\"size\":15},\"text\":\"Sum GHG Emissions, 2019\"},\"type\":\"indicator\",\"value\":106457646.0}],                        {\"template\":{\"data\":{\"bar\":[{\"error_x\":{\"color\":\"#2a3f5f\"},\"error_y\":{\"color\":\"#2a3f5f\"},\"marker\":{\"line\":{\"color\":\"#E5ECF6\",\"width\":0.5},\"pattern\":{\"fillmode\":\"overlay\",\"size\":10,\"solidity\":0.2}},\"type\":\"bar\"}],\"barpolar\":[{\"marker\":{\"line\":{\"color\":\"#E5ECF6\",\"width\":0.5},\"pattern\":{\"fillmode\":\"overlay\",\"size\":10,\"solidity\":0.2}},\"type\":\"barpolar\"}],\"carpet\":[{\"aaxis\":{\"endlinecolor\":\"#2a3f5f\",\"gridcolor\":\"white\",\"linecolor\":\"white\",\"minorgridcolor\":\"white\",\"startlinecolor\":\"#2a3f5f\"},\"baxis\":{\"endlinecolor\":\"#2a3f5f\",\"gridcolor\":\"white\",\"linecolor\":\"white\",\"minorgridcolor\":\"white\",\"startlinecolor\":\"#2a3f5f\"},\"type\":\"carpet\"}],\"choropleth\":[{\"colorbar\":{\"outlinewidth\":0,\"ticks\":\"\"},\"type\":\"choropleth\"}],\"contour\":[{\"colorbar\":{\"outlinewidth\":0,\"ticks\":\"\"},\"colorscale\":[[0.0,\"#0d0887\"],[0.1111111111111111,\"#46039f\"],[0.2222222222222222,\"#7201a8\"],[0.3333333333333333,\"#9c179e\"],[0.4444444444444444,\"#bd3786\"],[0.5555555555555556,\"#d8576b\"],[0.6666666666666666,\"#ed7953\"],[0.7777777777777778,\"#fb9f3a\"],[0.8888888888888888,\"#fdca26\"],[1.0,\"#f0f921\"]],\"type\":\"contour\"}],\"contourcarpet\":[{\"colorbar\":{\"outlinewidth\":0,\"ticks\":\"\"},\"type\":\"contourcarpet\"}],\"heatmap\":[{\"colorbar\":{\"outlinewidth\":0,\"ticks\":\"\"},\"colorscale\":[[0.0,\"#0d0887\"],[0.1111111111111111,\"#46039f\"],[0.2222222222222222,\"#7201a8\"],[0.3333333333333333,\"#9c179e\"],[0.4444444444444444,\"#bd3786\"],[0.5555555555555556,\"#d8576b\"],[0.6666666666666666,\"#ed7953\"],[0.7777777777777778,\"#fb9f3a\"],[0.8888888888888888,\"#fdca26\"],[1.0,\"#f0f921\"]],\"type\":\"heatmap\"}],\"heatmapgl\":[{\"colorbar\":{\"outlinewidth\":0,\"ticks\":\"\"},\"colorscale\":[[0.0,\"#0d0887\"],[0.1111111111111111,\"#46039f\"],[0.2222222222222222,\"#7201a8\"],[0.3333333333333333,\"#9c179e\"],[0.4444444444444444,\"#bd3786\"],[0.5555555555555556,\"#d8576b\"],[0.6666666666666666,\"#ed7953\"],[0.7777777777777778,\"#fb9f3a\"],[0.8888888888888888,\"#fdca26\"],[1.0,\"#f0f921\"]],\"type\":\"heatmapgl\"}],\"histogram\":[{\"marker\":{\"pattern\":{\"fillmode\":\"overlay\",\"size\":10,\"solidity\":0.2}},\"type\":\"histogram\"}],\"histogram2d\":[{\"colorbar\":{\"outlinewidth\":0,\"ticks\":\"\"},\"colorscale\":[[0.0,\"#0d0887\"],[0.1111111111111111,\"#46039f\"],[0.2222222222222222,\"#7201a8\"],[0.3333333333333333,\"#9c179e\"],[0.4444444444444444,\"#bd3786\"],[0.5555555555555556,\"#d8576b\"],[0.6666666666666666,\"#ed7953\"],[0.7777777777777778,\"#fb9f3a\"],[0.8888888888888888,\"#fdca26\"],[1.0,\"#f0f921\"]],\"type\":\"histogram2d\"}],\"histogram2dcontour\":[{\"colorbar\":{\"outlinewidth\":0,\"ticks\":\"\"},\"colorscale\":[[0.0,\"#0d0887\"],[0.1111111111111111,\"#46039f\"],[0.2222222222222222,\"#7201a8\"],[0.3333333333333333,\"#9c179e\"],[0.4444444444444444,\"#bd3786\"],[0.5555555555555556,\"#d8576b\"],[0.6666666666666666,\"#ed7953\"],[0.7777777777777778,\"#fb9f3a\"],[0.8888888888888888,\"#fdca26\"],[1.0,\"#f0f921\"]],\"type\":\"histogram2dcontour\"}],\"mesh3d\":[{\"colorbar\":{\"outlinewidth\":0,\"ticks\":\"\"},\"type\":\"mesh3d\"}],\"parcoords\":[{\"line\":{\"colorbar\":{\"outlinewidth\":0,\"ticks\":\"\"}},\"type\":\"parcoords\"}],\"pie\":[{\"automargin\":true,\"type\":\"pie\"}],\"scatter\":[{\"marker\":{\"colorbar\":{\"outlinewidth\":0,\"ticks\":\"\"}},\"type\":\"scatter\"}],\"scatter3d\":[{\"line\":{\"colorbar\":{\"outlinewidth\":0,\"ticks\":\"\"}},\"marker\":{\"colorbar\":{\"outlinewidth\":0,\"ticks\":\"\"}},\"type\":\"scatter3d\"}],\"scattercarpet\":[{\"marker\":{\"colorbar\":{\"outlinewidth\":0,\"ticks\":\"\"}},\"type\":\"scattercarpet\"}],\"scattergeo\":[{\"marker\":{\"colorbar\":{\"outlinewidth\":0,\"ticks\":\"\"}},\"type\":\"scattergeo\"}],\"scattergl\":[{\"marker\":{\"colorbar\":{\"outlinewidth\":0,\"ticks\":\"\"}},\"type\":\"scattergl\"}],\"scattermapbox\":[{\"marker\":{\"colorbar\":{\"outlinewidth\":0,\"ticks\":\"\"}},\"type\":\"scattermapbox\"}],\"scatterpolar\":[{\"marker\":{\"colorbar\":{\"outlinewidth\":0,\"ticks\":\"\"}},\"type\":\"scatterpolar\"}],\"scatterpolargl\":[{\"marker\":{\"colorbar\":{\"outlinewidth\":0,\"ticks\":\"\"}},\"type\":\"scatterpolargl\"}],\"scatterternary\":[{\"marker\":{\"colorbar\":{\"outlinewidth\":0,\"ticks\":\"\"}},\"type\":\"scatterternary\"}],\"surface\":[{\"colorbar\":{\"outlinewidth\":0,\"ticks\":\"\"},\"colorscale\":[[0.0,\"#0d0887\"],[0.1111111111111111,\"#46039f\"],[0.2222222222222222,\"#7201a8\"],[0.3333333333333333,\"#9c179e\"],[0.4444444444444444,\"#bd3786\"],[0.5555555555555556,\"#d8576b\"],[0.6666666666666666,\"#ed7953\"],[0.7777777777777778,\"#fb9f3a\"],[0.8888888888888888,\"#fdca26\"],[1.0,\"#f0f921\"]],\"type\":\"surface\"}],\"table\":[{\"cells\":{\"fill\":{\"color\":\"#EBF0F8\"},\"line\":{\"color\":\"white\"}},\"header\":{\"fill\":{\"color\":\"#C8D4E3\"},\"line\":{\"color\":\"white\"}},\"type\":\"table\"}]},\"layout\":{\"annotationdefaults\":{\"arrowcolor\":\"#2a3f5f\",\"arrowhead\":0,\"arrowwidth\":1},\"autotypenumbers\":\"strict\",\"coloraxis\":{\"colorbar\":{\"outlinewidth\":0,\"ticks\":\"\"}},\"colorscale\":{\"diverging\":[[0,\"#8e0152\"],[0.1,\"#c51b7d\"],[0.2,\"#de77ae\"],[0.3,\"#f1b6da\"],[0.4,\"#fde0ef\"],[0.5,\"#f7f7f7\"],[0.6,\"#e6f5d0\"],[0.7,\"#b8e186\"],[0.8,\"#7fbc41\"],[0.9,\"#4d9221\"],[1,\"#276419\"]],\"sequential\":[[0.0,\"#0d0887\"],[0.1111111111111111,\"#46039f\"],[0.2222222222222222,\"#7201a8\"],[0.3333333333333333,\"#9c179e\"],[0.4444444444444444,\"#bd3786\"],[0.5555555555555556,\"#d8576b\"],[0.6666666666666666,\"#ed7953\"],[0.7777777777777778,\"#fb9f3a\"],[0.8888888888888888,\"#fdca26\"],[1.0,\"#f0f921\"]],\"sequentialminus\":[[0.0,\"#0d0887\"],[0.1111111111111111,\"#46039f\"],[0.2222222222222222,\"#7201a8\"],[0.3333333333333333,\"#9c179e\"],[0.4444444444444444,\"#bd3786\"],[0.5555555555555556,\"#d8576b\"],[0.6666666666666666,\"#ed7953\"],[0.7777777777777778,\"#fb9f3a\"],[0.8888888888888888,\"#fdca26\"],[1.0,\"#f0f921\"]]},\"colorway\":[\"#636efa\",\"#EF553B\",\"#00cc96\",\"#ab63fa\",\"#FFA15A\",\"#19d3f3\",\"#FF6692\",\"#B6E880\",\"#FF97FF\",\"#FECB52\"],\"font\":{\"color\":\"#2a3f5f\"},\"geo\":{\"bgcolor\":\"white\",\"lakecolor\":\"white\",\"landcolor\":\"#E5ECF6\",\"showlakes\":true,\"showland\":true,\"subunitcolor\":\"white\"},\"hoverlabel\":{\"align\":\"left\"},\"hovermode\":\"closest\",\"mapbox\":{\"style\":\"light\"},\"paper_bgcolor\":\"white\",\"plot_bgcolor\":\"#E5ECF6\",\"polar\":{\"angularaxis\":{\"gridcolor\":\"white\",\"linecolor\":\"white\",\"ticks\":\"\"},\"bgcolor\":\"#E5ECF6\",\"radialaxis\":{\"gridcolor\":\"white\",\"linecolor\":\"white\",\"ticks\":\"\"}},\"scene\":{\"xaxis\":{\"backgroundcolor\":\"#E5ECF6\",\"gridcolor\":\"white\",\"gridwidth\":2,\"linecolor\":\"white\",\"showbackground\":true,\"ticks\":\"\",\"zerolinecolor\":\"white\"},\"yaxis\":{\"backgroundcolor\":\"#E5ECF6\",\"gridcolor\":\"white\",\"gridwidth\":2,\"linecolor\":\"white\",\"showbackground\":true,\"ticks\":\"\",\"zerolinecolor\":\"white\"},\"zaxis\":{\"backgroundcolor\":\"#E5ECF6\",\"gridcolor\":\"white\",\"gridwidth\":2,\"linecolor\":\"white\",\"showbackground\":true,\"ticks\":\"\",\"zerolinecolor\":\"white\"}},\"shapedefaults\":{\"line\":{\"color\":\"#2a3f5f\"}},\"ternary\":{\"aaxis\":{\"gridcolor\":\"white\",\"linecolor\":\"white\",\"ticks\":\"\"},\"baxis\":{\"gridcolor\":\"white\",\"linecolor\":\"white\",\"ticks\":\"\"},\"bgcolor\":\"#E5ECF6\",\"caxis\":{\"gridcolor\":\"white\",\"linecolor\":\"white\",\"ticks\":\"\"}},\"title\":{\"x\":0.05},\"xaxis\":{\"automargin\":true,\"gridcolor\":\"white\",\"linecolor\":\"white\",\"ticks\":\"\",\"title\":{\"standoff\":15},\"zerolinecolor\":\"white\",\"zerolinewidth\":2},\"yaxis\":{\"automargin\":true,\"gridcolor\":\"white\",\"linecolor\":\"white\",\"ticks\":\"\",\"title\":{\"standoff\":15},\"zerolinecolor\":\"white\",\"zerolinewidth\":2}}},\"title\":{\"text\":\" 2019 California GHG Emissions Statistics \",\"x\":0.5}},                        {\"responsive\": true}                    ).then(function(){\n",
       "                            \n",
       "var gd = document.getElementById('d62a150e-94a6-4a81-978a-766fe685b5e7');\n",
       "var x = new MutationObserver(function (mutations, observer) {{\n",
       "        var display = window.getComputedStyle(gd).display;\n",
       "        if (!display || display === 'none') {{\n",
       "            console.log([gd, 'removed!']);\n",
       "            Plotly.purge(gd);\n",
       "            observer.disconnect();\n",
       "        }}\n",
       "}});\n",
       "\n",
       "// Listen for the removal of the full notebook cells\n",
       "var notebookContainer = gd.closest('#notebook-container');\n",
       "if (notebookContainer) {{\n",
       "    x.observe(notebookContainer, {childList: true});\n",
       "}}\n",
       "\n",
       "// Listen for the clearing of the current output cell\n",
       "var outputEl = gd.closest('.output');\n",
       "if (outputEl) {{\n",
       "    x.observe(outputEl, {childList: true});\n",
       "}}\n",
       "\n",
       "                        })                };                });            </script>        </div>"
      ]
     },
     "metadata": {},
     "output_type": "display_data"
    }
   ],
   "source": [
    "fig = go.Figure()\n",
    "\n",
    "fig.add_trace(go.Indicator(\n",
    "    mode = \"number+gauge\", value = GHG_mean,\n",
    "    domain = {'x': [0.25, 1], 'y': [0.1, 0.2]},\n",
    "    title = {'text': \"Mean GHG Emissions, 2019\",'font':{'color': 'black','size':15}},\n",
    "    number={'font':{'color': 'black'}},\n",
    "    gauge = {\n",
    "        'shape': \"bullet\",\n",
    "        'axis': {'range': [None,200000]},\n",
    "        'bar': {'color': \"lightblue\"}}\n",
    "))\n",
    "\n",
    "\n",
    "fig.add_trace(go.Indicator(\n",
    "    mode = \"number+gauge\", value = GHG_min,\n",
    "    domain = {'x': [0.25, 1], 'y': [0.3, 0.4]},\n",
    "    title = {'text': \"Min GHG Emissions, 2019\",'font':{'color': 'black','size':15}},\n",
    "    number={'font':{'color': 'black'}},\n",
    "    gauge = {\n",
    "        'shape': \"bullet\",\n",
    "        'axis': {'range': [None,5]},\n",
    "        'bar': {'color': \"cyan\"}}\n",
    "))\n",
    "\n",
    "fig.add_trace(go.Indicator(\n",
    "    mode = \"number+gauge\", value = GHG_max,\n",
    "    domain = {'x': [0.25, 1], 'y': [0.5, 0.6]},\n",
    "    title = {'text' :\"Max GHG Emissions, 2019\",'font':{'color': 'black','size':15}},\n",
    "     number={'font':{'color': 'black'}},\n",
    "    gauge = {\n",
    "        'shape': \"bullet\",\n",
    "        'axis': {'range': [None,10000000]},\n",
    "        'bar': {'color': \"darkblue\"}}\n",
    "))\n",
    "fig.add_trace(go.Indicator(\n",
    "    mode = \"number+gauge\", value = GHG_sum,\n",
    "    domain = {'x': [0.25, 1], 'y': [0.7, 0.8]},\n",
    "    title = {'text' :\"Sum GHG Emissions, 2019\",'font':{'color': 'black','size':15}},\n",
    "     number={'font':{'color': 'black'}},\n",
    "    gauge = {\n",
    "        'shape': \"bullet\",\n",
    "        'axis': {'range': [None,200000000]},\n",
    "        'bar': {'color': \"darkcyan\"}}\n",
    "))\n",
    "\n",
    "fig.update_layout(title=\" 2019 California GHG Emissions Statistics \",title_x=0.5)\n",
    "fig.show()"
   ]
  },
  {
   "cell_type": "code",
   "execution_count": null,
   "id": "5d9f0a29",
   "metadata": {},
   "outputs": [],
   "source": []
  }
 ],
 "metadata": {
  "kernelspec": {
   "display_name": "Python 3 (ipykernel)",
   "language": "python",
   "name": "python3"
  },
  "language_info": {
   "codemirror_mode": {
    "name": "ipython",
    "version": 3
   },
   "file_extension": ".py",
   "mimetype": "text/x-python",
   "name": "python",
   "nbconvert_exporter": "python",
   "pygments_lexer": "ipython3",
   "version": "3.8.12"
  }
 },
 "nbformat": 4,
 "nbformat_minor": 5
}
